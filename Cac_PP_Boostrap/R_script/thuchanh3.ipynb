{
 "cells": [
  {
   "cell_type": "code",
   "execution_count": 1,
   "metadata": {
    "vscode": {
     "languageId": "r"
    }
   },
   "outputs": [],
   "source": [
    "library(ggplot2)\n",
    "library(boot)"
   ]
  },
  {
   "cell_type": "code",
   "execution_count": 2,
   "metadata": {
    "vscode": {
     "languageId": "r"
    }
   },
   "outputs": [],
   "source": [
    "base_path <- getwd()\n",
    "setwd(base_path)\n",
    "set.seed(42)"
   ]
  },
  {
   "cell_type": "markdown",
   "metadata": {},
   "source": [
    "# 1.1. Delta method"
   ]
  },
  {
   "cell_type": "code",
   "execution_count": 3,
   "metadata": {
    "vscode": {
     "languageId": "r"
    }
   },
   "outputs": [
    {
     "data": {
      "text/html": [
       "<table class=\"dataframe\">\n",
       "<caption>A data.frame: 10 x 2</caption>\n",
       "<thead>\n",
       "\t<tr><th></th><th scope=col>u</th><th scope=col>x</th></tr>\n",
       "\t<tr><th></th><th scope=col>&lt;dbl&gt;</th><th scope=col>&lt;dbl&gt;</th></tr>\n",
       "</thead>\n",
       "<tbody>\n",
       "\t<tr><th scope=row>1</th><td>138</td><td>143</td></tr>\n",
       "\t<tr><th scope=row>2</th><td> 93</td><td>104</td></tr>\n",
       "\t<tr><th scope=row>3</th><td> 61</td><td> 69</td></tr>\n",
       "\t<tr><th scope=row>4</th><td>179</td><td>260</td></tr>\n",
       "\t<tr><th scope=row>5</th><td> 48</td><td> 75</td></tr>\n",
       "\t<tr><th scope=row>6</th><td> 37</td><td> 63</td></tr>\n",
       "\t<tr><th scope=row>7</th><td> 29</td><td> 50</td></tr>\n",
       "\t<tr><th scope=row>8</th><td> 23</td><td> 48</td></tr>\n",
       "\t<tr><th scope=row>9</th><td> 30</td><td>111</td></tr>\n",
       "\t<tr><th scope=row>10</th><td>  2</td><td> 50</td></tr>\n",
       "</tbody>\n",
       "</table>\n"
      ],
      "text/latex": [
       "A data.frame: 10 x 2\n",
       "\\begin{tabular}{r|ll}\n",
       "  & u & x\\\\\n",
       "  & <dbl> & <dbl>\\\\\n",
       "\\hline\n",
       "\t1 & 138 & 143\\\\\n",
       "\t2 &  93 & 104\\\\\n",
       "\t3 &  61 &  69\\\\\n",
       "\t4 & 179 & 260\\\\\n",
       "\t5 &  48 &  75\\\\\n",
       "\t6 &  37 &  63\\\\\n",
       "\t7 &  29 &  50\\\\\n",
       "\t8 &  23 &  48\\\\\n",
       "\t9 &  30 & 111\\\\\n",
       "\t10 &   2 &  50\\\\\n",
       "\\end{tabular}\n"
      ],
      "text/markdown": [
       "\n",
       "A data.frame: 10 x 2\n",
       "\n",
       "| <!--/--> | u &lt;dbl&gt; | x &lt;dbl&gt; |\n",
       "|---|---|---|\n",
       "| 1 | 138 | 143 |\n",
       "| 2 |  93 | 104 |\n",
       "| 3 |  61 |  69 |\n",
       "| 4 | 179 | 260 |\n",
       "| 5 |  48 |  75 |\n",
       "| 6 |  37 |  63 |\n",
       "| 7 |  29 |  50 |\n",
       "| 8 |  23 |  48 |\n",
       "| 9 |  30 | 111 |\n",
       "| 10 |   2 |  50 |\n",
       "\n"
      ],
      "text/plain": [
       "   u   x  \n",
       "1  138 143\n",
       "2   93 104\n",
       "3   61  69\n",
       "4  179 260\n",
       "5   48  75\n",
       "6   37  63\n",
       "7   29  50\n",
       "8   23  48\n",
       "9   30 111\n",
       "10   2  50"
      ]
     },
     "metadata": {},
     "output_type": "display_data"
    }
   ],
   "source": [
    "data(city, package = \"boot\")\n",
    "city"
   ]
  },
  {
   "cell_type": "code",
   "execution_count": 4,
   "metadata": {
    "vscode": {
     "languageId": "r"
    }
   },
   "outputs": [
    {
     "data": {
      "text/html": [
       "<style>\n",
       ".list-inline {list-style: none; margin:0; padding: 0}\n",
       ".list-inline>li {display: inline-block}\n",
       ".list-inline>li:not(:last-child)::after {content: \"\\00b7\"; padding: 0 .5ex}\n",
       "</style>\n",
       "<ol class=list-inline><li>10</li><li>2</li></ol>\n"
      ],
      "text/latex": [
       "\\begin{enumerate*}\n",
       "\\item 10\n",
       "\\item 2\n",
       "\\end{enumerate*}\n"
      ],
      "text/markdown": [
       "1. 10\n",
       "2. 2\n",
       "\n",
       "\n"
      ],
      "text/plain": [
       "[1] 10  2"
      ]
     },
     "metadata": {},
     "output_type": "display_data"
    }
   ],
   "source": [
    "dim(city)"
   ]
  },
  {
   "cell_type": "code",
   "execution_count": 5,
   "metadata": {
    "vscode": {
     "languageId": "r"
    }
   },
   "outputs": [
    {
     "data": {
      "text/html": [
       "1.5203125"
      ],
      "text/latex": [
       "1.5203125"
      ],
      "text/markdown": [
       "1.5203125"
      ],
      "text/plain": [
       "[1] 1.520312"
      ]
     },
     "metadata": {},
     "output_type": "display_data"
    }
   ],
   "source": [
    "mean_1920 <- mean(city$u)\n",
    "mean_1930 <- mean(city$x)\n",
    "theta_est <- mean_1930/mean_1920\n",
    "theta_est"
   ]
  },
  {
   "cell_type": "code",
   "execution_count": 6,
   "metadata": {
    "vscode": {
     "languageId": "r"
    }
   },
   "outputs": [
    {
     "data": {
      "text/html": [
       "0.84498870571529"
      ],
      "text/latex": [
       "0.84498870571529"
      ],
      "text/markdown": [
       "0.84498870571529"
      ],
      "text/plain": [
       "[1] 0.8449887"
      ]
     },
     "metadata": {},
     "output_type": "display_data"
    }
   ],
   "source": [
    "cor(city$u, city$x, method = \"spearman\")"
   ]
  },
  {
   "attachments": {
    "image.png": {
     "image/png": "[encoded data removed]"
    }
   },
   "cell_type": "markdown",
   "metadata": {},
   "source": [
    "![image.png](attachment:image.png)"
   ]
  },
  {
   "cell_type": "code",
   "execution_count": 7,
   "metadata": {
    "vscode": {
     "languageId": "r"
    }
   },
   "outputs": [
    {
     "data": {
      "text/html": [
       "<table class=\"dataframe\">\n",
       "<caption>A matrix: 2 x 2 of type dbl</caption>\n",
       "<tbody>\n",
       "\t<tr><td>316.0222</td><td>331.0889</td></tr>\n",
       "\t<tr><td>331.0889</td><td>424.1344</td></tr>\n",
       "</tbody>\n",
       "</table>\n"
      ],
      "text/latex": [
       "A matrix: 2 x 2 of type dbl\n",
       "\\begin{tabular}{ll}\n",
       "\t 316.0222 & 331.0889\\\\\n",
       "\t 331.0889 & 424.1344\\\\\n",
       "\\end{tabular}\n"
      ],
      "text/markdown": [
       "\n",
       "A matrix: 2 x 2 of type dbl\n",
       "\n",
       "| 316.0222 | 331.0889 |\n",
       "| 331.0889 | 424.1344 |\n",
       "\n"
      ],
      "text/plain": [
       "     [,1]     [,2]    \n",
       "[1,] 316.0222 331.0889\n",
       "[2,] 331.0889 424.1344"
      ]
     },
     "metadata": {},
     "output_type": "display_data"
    }
   ],
   "source": [
    "n_city <- nrow(city)\n",
    "var_1920 <- var(city$u)\n",
    "var_1930 <- var(city$x)\n",
    "cov_ux <- cov(city$u, city$x)\n",
    "var_mean_ux <- matrix(c(var_1920, cov_ux, cov_ux, var_1930), 2, 2)/n_city\n",
    "var_mean_ux"
   ]
  },
  {
   "cell_type": "code",
   "execution_count": 8,
   "metadata": {
    "vscode": {
     "languageId": "r"
    }
   },
   "outputs": [
    {
     "data": {
      "text/html": [
       "3310.88888888889"
      ],
      "text/latex": [
       "3310.88888888889"
      ],
      "text/markdown": [
       "3310.88888888889"
      ],
      "text/plain": [
       "[1] 3310.889"
      ]
     },
     "metadata": {},
     "output_type": "display_data"
    }
   ],
   "source": [
    "cov_ux"
   ]
  },
  {
   "cell_type": "code",
   "execution_count": 9,
   "metadata": {
    "vscode": {
     "languageId": "r"
    }
   },
   "outputs": [
    {
     "data": {
      "text/html": [
       "<style>\n",
       ".list-inline {list-style: none; margin:0; padding: 0}\n",
       ".list-inline>li {display: inline-block}\n",
       ".list-inline>li:not(:last-child)::after {content: \"\\00b7\"; padding: 0 .5ex}\n",
       "</style>\n",
       "<ol class=list-inline><li>-0.0237548828125</li><li>0.015625</li></ol>\n"
      ],
      "text/latex": [
       "\\begin{enumerate*}\n",
       "\\item -0.0237548828125\n",
       "\\item 0.015625\n",
       "\\end{enumerate*}\n"
      ],
      "text/markdown": [
       "1. -0.0237548828125\n",
       "2. 0.015625\n",
       "\n",
       "\n"
      ],
      "text/plain": [
       "[1] -0.02375488  0.01562500"
      ]
     },
     "metadata": {},
     "output_type": "display_data"
    }
   ],
   "source": [
    "h_deriv <- function(mean_1, mean_2){\n",
    "# mean_2/mean_1\n",
    "return(c(-mean_2/mean_1^2, 1/mean_1))\n",
    "}\n",
    "h_deriv_est <- h_deriv(mean_1 = mean_1920, mean_2 = mean_1930)\n",
    "h_deriv_est"
   ]
  },
  {
   "cell_type": "code",
   "execution_count": 10,
   "metadata": {
    "vscode": {
     "languageId": "r"
    }
   },
   "outputs": [
    {
     "data": {
      "text/html": [
       "<table class=\"dataframe\">\n",
       "<caption>A matrix: 1 x 1 of type dbl</caption>\n",
       "<tbody>\n",
       "\t<tr><td>0.03609748</td></tr>\n",
       "</tbody>\n",
       "</table>\n"
      ],
      "text/latex": [
       "A matrix: 1 x 1 of type dbl\n",
       "\\begin{tabular}{l}\n",
       "\t 0.03609748\\\\\n",
       "\\end{tabular}\n"
      ],
      "text/markdown": [
       "\n",
       "A matrix: 1 x 1 of type dbl\n",
       "\n",
       "| 0.03609748 |\n",
       "\n"
      ],
      "text/plain": [
       "     [,1]      \n",
       "[1,] 0.03609748"
      ]
     },
     "metadata": {},
     "output_type": "display_data"
    }
   ],
   "source": [
    "# Tiếp theo, ta tính phương sai của ước lượng tỷ số trung bình\n",
    "var_theta_est <- h_deriv_est %*% var_mean_ux %*% h_deriv_est\n",
    "var_theta_est"
   ]
  },
  {
   "cell_type": "code",
   "execution_count": 11,
   "metadata": {
    "vscode": {
     "languageId": "r"
    }
   },
   "outputs": [
    {
     "data": {
      "text/html": [
       "<table class=\"dataframe\">\n",
       "<caption>A data.frame: 10 x 2</caption>\n",
       "<thead>\n",
       "\t<tr><th></th><th scope=col>u</th><th scope=col>x</th></tr>\n",
       "\t<tr><th></th><th scope=col>&lt;dbl&gt;</th><th scope=col>&lt;dbl&gt;</th></tr>\n",
       "</thead>\n",
       "<tbody>\n",
       "\t<tr><th scope=row>1</th><td>138</td><td>143</td></tr>\n",
       "\t<tr><th scope=row>2</th><td> 93</td><td>104</td></tr>\n",
       "\t<tr><th scope=row>3</th><td> 61</td><td> 69</td></tr>\n",
       "\t<tr><th scope=row>4</th><td>179</td><td>260</td></tr>\n",
       "\t<tr><th scope=row>5</th><td> 48</td><td> 75</td></tr>\n",
       "\t<tr><th scope=row>6</th><td> 37</td><td> 63</td></tr>\n",
       "\t<tr><th scope=row>7</th><td> 29</td><td> 50</td></tr>\n",
       "\t<tr><th scope=row>8</th><td> 23</td><td> 48</td></tr>\n",
       "\t<tr><th scope=row>9</th><td> 30</td><td>111</td></tr>\n",
       "\t<tr><th scope=row>10</th><td>  2</td><td> 50</td></tr>\n",
       "</tbody>\n",
       "</table>\n"
      ],
      "text/latex": [
       "A data.frame: 10 x 2\n",
       "\\begin{tabular}{r|ll}\n",
       "  & u & x\\\\\n",
       "  & <dbl> & <dbl>\\\\\n",
       "\\hline\n",
       "\t1 & 138 & 143\\\\\n",
       "\t2 &  93 & 104\\\\\n",
       "\t3 &  61 &  69\\\\\n",
       "\t4 & 179 & 260\\\\\n",
       "\t5 &  48 &  75\\\\\n",
       "\t6 &  37 &  63\\\\\n",
       "\t7 &  29 &  50\\\\\n",
       "\t8 &  23 &  48\\\\\n",
       "\t9 &  30 & 111\\\\\n",
       "\t10 &   2 &  50\\\\\n",
       "\\end{tabular}\n"
      ],
      "text/markdown": [
       "\n",
       "A data.frame: 10 x 2\n",
       "\n",
       "| <!--/--> | u &lt;dbl&gt; | x &lt;dbl&gt; |\n",
       "|---|---|---|\n",
       "| 1 | 138 | 143 |\n",
       "| 2 |  93 | 104 |\n",
       "| 3 |  61 |  69 |\n",
       "| 4 | 179 | 260 |\n",
       "| 5 |  48 |  75 |\n",
       "| 6 |  37 |  63 |\n",
       "| 7 |  29 |  50 |\n",
       "| 8 |  23 |  48 |\n",
       "| 9 |  30 | 111 |\n",
       "| 10 |   2 |  50 |\n",
       "\n"
      ],
      "text/plain": [
       "   u   x  \n",
       "1  138 143\n",
       "2   93 104\n",
       "3   61  69\n",
       "4  179 260\n",
       "5   48  75\n",
       "6   37  63\n",
       "7   29  50\n",
       "8   23  48\n",
       "9   30 111\n",
       "10   2  50"
      ]
     },
     "metadata": {},
     "output_type": "display_data"
    }
   ],
   "source": [
    "city"
   ]
  },
  {
   "cell_type": "markdown",
   "metadata": {},
   "source": [
    "# THỰC HÀNH 1:\n",
    " - Áp dụng phương pháp delta method vào trong quy trình bootstrap để xác định khoảng tin cậy studentized cho tỷ số trung bình của năm 1930 và 1920."
   ]
  },
  {
   "cell_type": "code",
   "execution_count": 12,
   "metadata": {
    "vscode": {
     "languageId": "r"
    }
   },
   "outputs": [],
   "source": [
    "var_delta_method <- function(df_new){\n",
    "    n_city <- nrow(df_new)\n",
    "    var_1920 <- var(df_new$u)\n",
    "    var_1930 <- var(df_new$x)\n",
    "    cov_ux <- cov(df_new$u, df_new$x)\n",
    "    var_mean_ux <- matrix(c(var_1920, cov_ux, cov_ux, var_1930), 2, 2)/n_city\n",
    "    h_deriv_est = h_deriv(mean_1 = mean(df_new$u), mean(df_new$x))\n",
    "    var_theta_est <- h_deriv_est %*% var_mean_ux %*% h_deriv_est\n",
    "    return(var_theta_est)\n",
    "}"
   ]
  },
  {
   "cell_type": "code",
   "execution_count": 13,
   "metadata": {
    "vscode": {
     "languageId": "r"
    }
   },
   "outputs": [],
   "source": [
    "\n",
    "# Bootstrap cho sự khác biệt hai khoảng thời gian trung bình\n",
    "boot_diff_mean_fun <- function(data, ind){\n",
    "    data_new <- data[ind, c(\"u\", \"x\")]\n",
    "    out_diff_mean <- mean(data_new[[\"x\"]]) / mean(data_new[[\"u\"]])\n",
    "    out_var_ux = var_delta_method(data_new)\n",
    "    return(c(out_diff_mean,out_var_ux))\n",
    "}"
   ]
  },
  {
   "cell_type": "code",
   "execution_count": 14,
   "metadata": {
    "vscode": {
     "languageId": "r"
    }
   },
   "outputs": [
    {
     "data": {
      "text/plain": [
       "\n",
       "ORDINARY NONPARAMETRIC BOOTSTRAP\n",
       "\n",
       "\n",
       "Call:\n",
       "boot(data = city, statistic = boot_diff_mean_fun, R = 1000)\n",
       "\n",
       "\n",
       "Bootstrap Statistics :\n",
       "      original     bias    std. error\n",
       "t1* 1.52031250 0.04734245  0.23647477\n",
       "t2* 0.03609748 0.01816789  0.06799995"
      ]
     },
     "metadata": {},
     "output_type": "display_data"
    }
   ],
   "source": [
    "boot_out = boot(data = city, statistic = boot_diff_mean_fun, R = 1000)\n",
    "boot_out"
   ]
  },
  {
   "cell_type": "code",
   "execution_count": 15,
   "metadata": {
    "vscode": {
     "languageId": "r"
    }
   },
   "outputs": [
    {
     "data": {
      "text/plain": [
       "BOOTSTRAP CONFIDENCE INTERVAL CALCULATIONS\n",
       "Based on 1000 bootstrap replicates\n",
       "\n",
       "CALL : \n",
       "boot.ci(boot.out = boot_out, conf = 0.95, type = \"all\")\n",
       "\n",
       "Intervals : \n",
       "Level      Normal              Basic             Studentized     \n",
       "95%   ( 1.009,  1.936 )   ( 0.911,  1.790 )   ( 1.242,  2.083 )  \n",
       "\n",
       "Level     Percentile            BCa          \n",
       "95%   ( 1.250,  2.130 )   ( 1.255,  2.170 )  \n",
       "Calculations and Intervals on Original Scale"
      ]
     },
     "metadata": {},
     "output_type": "display_data"
    }
   ],
   "source": [
    "# Khoảng tin cậy bootsrap 95%:\n",
    "boot.ci(boot_out, conf = 0.95, type = \"all\")"
   ]
  },
  {
   "cell_type": "markdown",
   "metadata": {},
   "source": [
    "## Thực hành 2: \n",
    "Thực hiện quy trình bootstrap để xác định khoảng tin cậy cho log() của tỷ số hai trung bình, sau đó, thực hiện biến đổi ngược để thu được khoảng tin cậy cho tỷ số trung bình.\n"
   ]
  },
  {
   "cell_type": "code",
   "execution_count": 16,
   "metadata": {
    "vscode": {
     "languageId": "r"
    }
   },
   "outputs": [],
   "source": [
    "var_delta_method_log <- function(df_new){\n",
    "    n_city <- nrow(df_new)\n",
    "    var_1920 <- var(df_new$u)\n",
    "    var_1930 <- var(df_new$x)\n",
    "    cov_ux <- cov(df_new$u, df_new$x)\n",
    "    var_mean_ux <- matrix(c(var_1920, cov_ux, cov_ux, var_1930), 2, 2)/n_city\n",
    "    h_deriv_est = h_deriv(mean_1 = mean(df_new$u), mean(df_new$x))\n",
    "    var_theta_est <- h_deriv_est %*% var_mean_ux %*% h_deriv_est\n",
    "    var_log_theta = var_theta_est * (1/(mean(df_new$x)/mean(df_new$u)))^2\n",
    "    return(var_log_theta)\n",
    "}"
   ]
  },
  {
   "cell_type": "code",
   "execution_count": 17,
   "metadata": {
    "vscode": {
     "languageId": "r"
    }
   },
   "outputs": [],
   "source": [
    "\n",
    "# Bootstrap cho sự khác biệt hai khoảng thời gian trung bình\n",
    "boot_diff_log_mean_fun <- function(data, ind){\n",
    "    data_new <- data[ind, c(\"u\", \"x\")]\n",
    "    out_diff_mean <- log(mean(data_new[[\"x\"]]) / mean(data_new[[\"u\"]]))\n",
    "    out_var_ux = var_delta_method_log(data_new)\n",
    "    return(c(out_diff_mean,out_var_ux))\n",
    "}"
   ]
  },
  {
   "cell_type": "code",
   "execution_count": 18,
   "metadata": {
    "vscode": {
     "languageId": "r"
    }
   },
   "outputs": [
    {
     "data": {
      "text/plain": [
       "\n",
       "ORDINARY NONPARAMETRIC BOOTSTRAP\n",
       "\n",
       "\n",
       "Call:\n",
       "boot(data = city, statistic = boot_diff_log_mean_fun, R = 1000)\n",
       "\n",
       "\n",
       "Bootstrap Statistics :\n",
       "      original      bias    std. error\n",
       "t1* 0.41891591 0.017572927  0.13278213\n",
       "t2* 0.01561749 0.001952544  0.01298153"
      ]
     },
     "metadata": {},
     "output_type": "display_data"
    }
   ],
   "source": [
    "boot_log_out = boot(data = city, statistic = boot_diff_log_mean_fun, R = 1000)\n",
    "boot_log_out"
   ]
  },
  {
   "cell_type": "code",
   "execution_count": 19,
   "metadata": {
    "vscode": {
     "languageId": "r"
    }
   },
   "outputs": [
    {
     "data": {
      "text/plain": [
       "BOOTSTRAP CONFIDENCE INTERVAL CALCULATIONS\n",
       "Based on 1000 bootstrap replicates\n",
       "\n",
       "CALL : \n",
       "boot.ci(boot.out = boot_log_out, conf = 0.95, type = \"all\")\n",
       "\n",
       "Intervals : \n",
       "Level      Normal              Basic             Studentized     \n",
       "95%   ( 0.1411,  0.6616 )   ( 0.0677,  0.6050 )   ( 0.2099,  0.7656 )  \n",
       "\n",
       "Level     Percentile            BCa          \n",
       "95%   ( 0.2329,  0.7701 )   ( 0.2330,  0.7741 )  \n",
       "Calculations and Intervals on Original Scale"
      ]
     },
     "metadata": {},
     "output_type": "display_data"
    }
   ],
   "source": [
    "# Khoảng tin cậy bootsrap 95%:\n",
    "ktc = boot.ci(boot_log_out, conf = 0.95, type = \"all\")\n",
    "ktc"
   ]
  },
  {
   "cell_type": "code",
   "execution_count": 20,
   "metadata": {
    "vscode": {
     "languageId": "r"
    }
   },
   "outputs": [
    {
     "data": {
      "text/html": [
       "<style>\n",
       ".list-inline {list-style: none; margin:0; padding: 0}\n",
       ".list-inline>li {display: inline-block}\n",
       ".list-inline>li:not(:last-child)::after {content: \"\\00b7\"; padding: 0 .5ex}\n",
       "</style>\n",
       "<ol class=list-inline><li>1.2336042755094</li><li>2.15018607134368</li></ol>\n"
      ],
      "text/latex": [
       "\\begin{enumerate*}\n",
       "\\item 1.2336042755094\n",
       "\\item 2.15018607134368\n",
       "\\end{enumerate*}\n"
      ],
      "text/markdown": [
       "1. 1.2336042755094\n",
       "2. 2.15018607134368\n",
       "\n",
       "\n"
      ],
      "text/plain": [
       "[1] 1.233604 2.150186"
      ]
     },
     "metadata": {},
     "output_type": "display_data"
    }
   ],
   "source": [
    "exp(ktc$student[4:5])"
   ]
  },
  {
   "cell_type": "markdown",
   "metadata": {},
   "source": [
    "# THỰC HÀNH 3:\n",
    "- Một nghiên cứu lớn về mối liên quan giữa huyết áp và bệnh tim mạch cho thấy 55 trong số 3338 nam giới bị huyết áp cao chết vì bệnh tim mạch (p1) trong thời gian nghiên cứu, so với 21 trong số 2676 người bị huyết áp thấp (p2). Rủi ro tương đối (Relative risk) được định nghĩa là tỷ số giữa hai tỷ lệ.\n",
    "    - (a) Áp dụng delta method, ước tính phương sai của rủi ro tương đối (p1/p2).\n",
    "    - (b) Thiết lập một quy trình bootstrap để xác định khoảng tin cậy cho tỷ lệ tương đối xác định theo ý (a)."
   ]
  },
  {
   "cell_type": "code",
   "execution_count": 21,
   "metadata": {
    "vscode": {
     "languageId": "r"
    }
   },
   "outputs": [],
   "source": [
    "\n",
    "cao = c(rep(1, 55), rep(0, 3283))\n",
    "thap = c(rep(1, 21), rep(0, 2655))\n"
   ]
  },
  {
   "cell_type": "code",
   "execution_count": 22,
   "metadata": {
    "vscode": {
     "languageId": "r"
    }
   },
   "outputs": [],
   "source": [
    "# # Xác định độ dài lớn nhất\n",
    "# max_length <- max(length(cao), length(thap))"
   ]
  },
  {
   "cell_type": "code",
   "execution_count": 23,
   "metadata": {
    "vscode": {
     "languageId": "r"
    }
   },
   "outputs": [],
   "source": [
    "# df <- data.frame(\n",
    "#   cao = c(cao, rep(NA, max_length - length(cao))),\n",
    "#   thap = c(thap, rep(NA, max_length - length(thap)))\n",
    "# )"
   ]
  },
  {
   "cell_type": "code",
   "execution_count": 24,
   "metadata": {
    "vscode": {
     "languageId": "r"
    }
   },
   "outputs": [],
   "source": [
    "# var_delta_method_th3 <- function(data){\n",
    "#     n_cao = sum(!is.na(data$cao))\n",
    "#     # print(n_cao)\n",
    "#     n_thap = sum(!is.na(data$thap))\n",
    "#     # print(n_thap)\n",
    "#     var_cao <- var(data$cao, na.rm = TRUE)\n",
    "#     # print(var_cao)\n",
    "#     var_thap <- var(data$thap, na.rm = TRUE)\n",
    "#     # print(var_thap)\n",
    "#     cov_ux = 0\n",
    "#     var_mean_ux <- matrix(c(var_thap/n_thap, cov_ux, cov_ux, var_cao/n_cao), 2, 2)\n",
    "#     h_deriv_est = h_deriv(mean_1 = mean(thap, na.rm = TRUE), mean_2 = mean(cao, na.rm = TRUE))\n",
    "#     var_theta_est <- h_deriv_est %*% var_mean_ux %*% h_deriv_est\n",
    "#     return(var_theta_est)\n",
    "# }"
   ]
  },
  {
   "cell_type": "code",
   "execution_count": 25,
   "metadata": {
    "vscode": {
     "languageId": "r"
    }
   },
   "outputs": [],
   "source": [
    "var_delta_method_th3 <- function(cao, thap){\n",
    "    n_cao = length(cao)\n",
    "    n_thap = length(thap)\n",
    "    var_cao <- (1/n_cao)*(mean(cao)*(1-mean(cao)))\n",
    "    var_thap <- (1/n_thap)*(mean(thap)*(1-mean(thap)))\n",
    "    # var_cao <- var(cao)\n",
    "    # var_thap <- var(thap)\n",
    "    cov_ux = 0\n",
    "    var_mean_ux <- matrix(c(var_thap, cov_ux, cov_ux, var_cao), 2, 2)\n",
    "    h_deriv_est = h_deriv(mean_1 = mean(thap), mean_2 = mean(cao))\n",
    "    var_theta_est <- h_deriv_est %*% var_mean_ux %*% h_deriv_est\n",
    "    return(var_theta_est)\n",
    "}"
   ]
  },
  {
   "cell_type": "code",
   "execution_count": 26,
   "metadata": {
    "vscode": {
     "languageId": "r"
    }
   },
   "outputs": [],
   "source": [
    "nR <- 1000 # Số mẫu Boostrap\n",
    "mu_boot <- numeric(nR)\n",
    "var_boot = numeric(nR)\n",
    "n_cao = length(cao)\n",
    "n_thap = length(thap)\n",
    "set.seed(42)\n",
    "for (i in 1:nR) {\n",
    "cao_boot <- sample(cao, size = n_cao, replace = TRUE)\n",
    "thap_boot <- sample(thap, size = n_thap, replace = TRUE)\n",
    "# cao_boot <- cao[id_boot_cao]\n",
    "# thap_boot <- thap[id_boot_thap]\n",
    "mu_boot[i] <- mean(cao_boot)/mean(thap_boot)\n",
    "var_boot[i] = var_delta_method_th3(cao_boot, thap_boot)\n",
    "}"
   ]
  },
  {
   "cell_type": "code",
   "execution_count": null,
   "metadata": {
    "vscode": {
     "languageId": "r"
    }
   },
   "outputs": [],
   "source": []
  },
  {
   "cell_type": "code",
   "execution_count": 33,
   "metadata": {
    "vscode": {
     "languageId": "r"
    }
   },
   "outputs": [
    {
     "data": {
      "text/html": [
       "2.09963194385008"
      ],
      "text/latex": [
       "2.09963194385008"
      ],
      "text/markdown": [
       "2.09963194385008"
      ],
      "text/plain": [
       "[1] 2.099632"
      ]
     },
     "metadata": {},
     "output_type": "display_data"
    }
   ],
   "source": [
    "# Trung bình của mẫu\n",
    "mu = mean(cao)/mean(thap)\n",
    "var = var_delta_method_th3(cao, thap)\n",
    "mu\n"
   ]
  },
  {
   "cell_type": "code",
   "execution_count": 28,
   "metadata": {
    "vscode": {
     "languageId": "r"
    }
   },
   "outputs": [],
   "source": [
    "# Khi này ta tính được Z*\n",
    "z_boot = (mu_boot - mu)/var_boot"
   ]
  },
  {
   "cell_type": "code",
   "execution_count": 29,
   "metadata": {
    "vscode": {
     "languageId": "r"
    }
   },
   "outputs": [
    {
     "data": {
      "text/html": [
       "<style>\n",
       ".list-inline {list-style: none; margin:0; padding: 0}\n",
       ".list-inline>li {display: inline-block}\n",
       ".list-inline>li:not(:last-child)::after {content: \"\\00b7\"; padding: 0 .5ex}\n",
       "</style>\n",
       "<ol class=list-inline><li>1.426277554996</li><li>-8.01283892960071</li></ol>\n"
      ],
      "text/latex": [
       "\\begin{enumerate*}\n",
       "\\item 1.426277554996\n",
       "\\item -8.01283892960071\n",
       "\\end{enumerate*}\n"
      ],
      "text/markdown": [
       "1. 1.426277554996\n",
       "2. -8.01283892960071\n",
       "\n",
       "\n"
      ],
      "text/plain": [
       "[1]  1.426278 -8.012839"
      ]
     },
     "metadata": {},
     "output_type": "display_data"
    }
   ],
   "source": [
    "# Khi đó hai phân vị mẫu thứ 0.025 và 0.975 là:\n",
    "z_qt_095 <- sort(z_boot)[floor(nR*c(1 - 0.05/2 , 0.05/2))]\n",
    "z_qt_095"
   ]
  },
  {
   "cell_type": "code",
   "execution_count": 30,
   "metadata": {
    "vscode": {
     "languageId": "r"
    }
   },
   "outputs": [
    {
     "data": {
      "text/html": [
       "<table class=\"dataframe\">\n",
       "<caption>A matrix: 1 x 1 of type dbl</caption>\n",
       "<tbody>\n",
       "\t<tr><td>0.287112</td></tr>\n",
       "</tbody>\n",
       "</table>\n"
      ],
      "text/latex": [
       "A matrix: 1 x 1 of type dbl\n",
       "\\begin{tabular}{l}\n",
       "\t 0.287112\\\\\n",
       "\\end{tabular}\n"
      ],
      "text/markdown": [
       "\n",
       "A matrix: 1 x 1 of type dbl\n",
       "\n",
       "| 0.287112 |\n",
       "\n"
      ],
      "text/plain": [
       "     [,1]    \n",
       "[1,] 0.287112"
      ]
     },
     "metadata": {},
     "output_type": "display_data"
    }
   ],
   "source": [
    "var"
   ]
  },
  {
   "cell_type": "code",
   "execution_count": 31,
   "metadata": {
    "vscode": {
     "languageId": "r"
    }
   },
   "outputs": [
    {
     "data": {
      "text/html": [
       "<style>\n",
       ".list-inline {list-style: none; margin:0; padding: 0}\n",
       ".list-inline>li {display: inline-block}\n",
       ".list-inline>li:not(:last-child)::after {content: \"\\00b7\"; padding: 0 .5ex}\n",
       "</style>\n",
       "<ol class=list-inline><li>1.33539199847949</li><li>6.39313818628584</li></ol>\n"
      ],
      "text/latex": [
       "\\begin{enumerate*}\n",
       "\\item 1.33539199847949\n",
       "\\item 6.39313818628584\n",
       "\\end{enumerate*}\n"
      ],
      "text/markdown": [
       "1. 1.33539199847949\n",
       "2. 6.39313818628584\n",
       "\n",
       "\n"
      ],
      "text/plain": [
       "[1] 1.335392 6.393138"
      ]
     },
     "metadata": {},
     "output_type": "display_data"
    }
   ],
   "source": [
    "# Như vậy khoảng tin cậy bootstrap studentized 95% cho trung bình ứng suất của 1 mẫu là:\n",
    "se_mu <- as.numeric(sqrt(var))\n",
    "ci <- mu - se_mu*z_qt_095\n",
    "ci\n"
   ]
  },
  {
   "cell_type": "markdown",
   "metadata": {},
   "source": [
    "# 1.2 Influence function - nonparametric delta method"
   ]
  },
  {
   "cell_type": "code",
   "execution_count": null,
   "metadata": {
    "vscode": {
     "languageId": "r"
    }
   },
   "outputs": [],
   "source": [
    "ratio_city_fun_w <- function(data, w){\n",
    "mean_1 <- sum(data$u * w)/sum(w)\n",
    "mean_2 <- sum(data$x * w)/sum(w)\n",
    "return(mean_2/mean_1)\n",
    "}"
   ]
  },
  {
   "cell_type": "markdown",
   "metadata": {},
   "source": [
    "# 2. Các biến thể của bootstrap"
   ]
  },
  {
   "cell_type": "markdown",
   "metadata": {},
   "source": [
    "## 2.1. Parametric bootstrap"
   ]
  },
  {
   "cell_type": "code",
   "execution_count": null,
   "metadata": {
    "vscode": {
     "languageId": "r"
    }
   },
   "outputs": [
    {
     "data": {
      "text/html": [
       "<table class=\"dataframe\">\n",
       "<caption>A data.frame: 6 x 1</caption>\n",
       "<thead>\n",
       "\t<tr><th></th><th scope=col>hours</th></tr>\n",
       "\t<tr><th></th><th scope=col>&lt;dbl&gt;</th></tr>\n",
       "</thead>\n",
       "<tbody>\n",
       "\t<tr><th scope=row>1</th><td> 3</td></tr>\n",
       "\t<tr><th scope=row>2</th><td> 5</td></tr>\n",
       "\t<tr><th scope=row>3</th><td> 7</td></tr>\n",
       "\t<tr><th scope=row>4</th><td>18</td></tr>\n",
       "\t<tr><th scope=row>5</th><td>43</td></tr>\n",
       "\t<tr><th scope=row>6</th><td>85</td></tr>\n",
       "</tbody>\n",
       "</table>\n"
      ],
      "text/latex": [
       "A data.frame: 6 x 1\n",
       "\\begin{tabular}{r|l}\n",
       "  & hours\\\\\n",
       "  & <dbl>\\\\\n",
       "\\hline\n",
       "\t1 &  3\\\\\n",
       "\t2 &  5\\\\\n",
       "\t3 &  7\\\\\n",
       "\t4 & 18\\\\\n",
       "\t5 & 43\\\\\n",
       "\t6 & 85\\\\\n",
       "\\end{tabular}\n"
      ],
      "text/markdown": [
       "\n",
       "A data.frame: 6 x 1\n",
       "\n",
       "| <!--/--> | hours &lt;dbl&gt; |\n",
       "|---|---|\n",
       "| 1 |  3 |\n",
       "| 2 |  5 |\n",
       "| 3 |  7 |\n",
       "| 4 | 18 |\n",
       "| 5 | 43 |\n",
       "| 6 | 85 |\n",
       "\n"
      ],
      "text/plain": [
       "  hours\n",
       "1  3   \n",
       "2  5   \n",
       "3  7   \n",
       "4 18   \n",
       "5 43   \n",
       "6 85   "
      ]
     },
     "metadata": {},
     "output_type": "display_data"
    }
   ],
   "source": [
    "data(aircondit, package = \"boot\")\n",
    "head(aircondit)"
   ]
  },
  {
   "cell_type": "code",
   "execution_count": null,
   "metadata": {
    "vscode": {
     "languageId": "r"
    }
   },
   "outputs": [
    {
     "data": {
      "text/html": [
       "108.083333333333"
      ],
      "text/latex": [
       "108.083333333333"
      ],
      "text/markdown": [
       "108.083333333333"
      ],
      "text/plain": [
       "[1] 108.0833"
      ]
     },
     "metadata": {},
     "output_type": "display_data"
    }
   ],
   "source": [
    "mean_hours <- mean(aircondit$hours)\n",
    "mean_hours"
   ]
  },
  {
   "cell_type": "code",
   "execution_count": null,
   "metadata": {
    "vscode": {
     "languageId": "r"
    }
   },
   "outputs": [
    {
     "data": {
      "image/png": "[encoded data removed]",
      "text/plain": [
       "plot without title"
      ]
     },
     "metadata": {
      "image/png": {
       "height": 420,
       "width": 420
      }
     },
     "output_type": "display_data"
    }
   ],
   "source": [
    "ggplot(aircondit, mapping = aes(x = hours)) + geom_histogram(mapping = aes(y = after_stat(density)), bins = 8,\n",
    "fill = \"white\", color = \"black\") +\n",
    "geom_function(fun = dexp, args = list(rate = 1/mean_hours), color = \"blue\") + theme_bw()"
   ]
  },
  {
   "cell_type": "code",
   "execution_count": null,
   "metadata": {
    "vscode": {
     "languageId": "r"
    }
   },
   "outputs": [],
   "source": [
    "aircondit_mean <- function(data) mean(data$hours)"
   ]
  },
  {
   "cell_type": "code",
   "execution_count": null,
   "metadata": {
    "vscode": {
     "languageId": "r"
    }
   },
   "outputs": [],
   "source": [
    "aircondit_sim <- function(data, mle){\n",
    "data <- data\n",
    "data$hours <- rexp(n = nrow(data), rate = mle)\n",
    "return(data)\n",
    "}"
   ]
  },
  {
   "cell_type": "code",
   "execution_count": null,
   "metadata": {
    "vscode": {
     "languageId": "r"
    }
   },
   "outputs": [],
   "source": [
    "out_boot_aircondit <- boot(data = aircondit, statistic = aircondit_mean, R = 5000, sim = \"parametric\", ran.gen = aircondit_sim,\n",
    "mle = 1/mean_hours)"
   ]
  },
  {
   "cell_type": "code",
   "execution_count": null,
   "metadata": {
    "vscode": {
     "languageId": "r"
    }
   },
   "outputs": [
    {
     "data": {
      "text/plain": [
       "\n",
       "PARAMETRIC BOOTSTRAP\n",
       "\n",
       "\n",
       "Call:\n",
       "boot(data = aircondit, statistic = aircondit_mean, R = 5000, \n",
       "    sim = \"parametric\", ran.gen = aircondit_sim, mle = 1/mean_hours)\n",
       "\n",
       "\n",
       "Bootstrap Statistics :\n",
       "    original     bias    std. error\n",
       "t1* 108.0833 -0.2156096     31.1734"
      ]
     },
     "metadata": {},
     "output_type": "display_data"
    }
   ],
   "source": [
    "out_boot_aircondit"
   ]
  },
  {
   "cell_type": "code",
   "execution_count": null,
   "metadata": {
    "vscode": {
     "languageId": "r"
    }
   },
   "outputs": [
    {
     "data": {
      "text/plain": [
       "BOOTSTRAP CONFIDENCE INTERVAL CALCULATIONS\n",
       "Based on 5000 bootstrap replicates\n",
       "\n",
       "CALL : \n",
       "boot.ci(boot.out = out_boot_aircondit, type = \"perc\")\n",
       "\n",
       "Intervals : \n",
       "Level     Percentile     \n",
       "95%   ( 57.3, 177.6 )  \n",
       "Calculations and Intervals on Original Scale"
      ]
     },
     "metadata": {},
     "output_type": "display_data"
    }
   ],
   "source": [
    "boot.ci(out_boot_aircondit, type = \"perc\")"
   ]
  },
  {
   "cell_type": "markdown",
   "metadata": {},
   "source": [
    "## 2.2. Smoothed bootstrap"
   ]
  },
  {
   "cell_type": "code",
   "execution_count": null,
   "metadata": {
    "vscode": {
     "languageId": "r"
    }
   },
   "outputs": [],
   "source": [
    "data(aircondit, package = \"boot\")"
   ]
  },
  {
   "cell_type": "code",
   "execution_count": null,
   "metadata": {
    "vscode": {
     "languageId": "r"
    }
   },
   "outputs": [
    {
     "name": "stderr",
     "output_type": "stream",
     "text": [
      "Warning message in bw.bcv(aircondit$hours):\n",
      "\"minimum occurred at one end of the range\"\n"
     ]
    }
   ],
   "source": [
    "h_nrd0 <- bw.nrd0(aircondit$hours)\n",
    "h_nrd <- bw.nrd(aircondit$hours)\n",
    "h_ucv <- bw.ucv(aircondit$hours)\n",
    "h_bcv <- bw.bcv(aircondit$hours)"
   ]
  },
  {
   "cell_type": "code",
   "execution_count": null,
   "metadata": {
    "vscode": {
     "languageId": "r"
    }
   },
   "outputs": [],
   "source": [
    "h_SJ <- bw.SJ(aircondit$hours)"
   ]
  },
  {
   "cell_type": "code",
   "execution_count": null,
   "metadata": {
    "vscode": {
     "languageId": "r"
    }
   },
   "outputs": [
    {
     "data": {
      "text/html": [
       "37.6936190191667"
      ],
      "text/latex": [
       "37.6936190191667"
      ],
      "text/markdown": [
       "37.6936190191667"
      ],
      "text/plain": [
       "[1] 37.69362"
      ]
     },
     "metadata": {},
     "output_type": "display_data"
    }
   ],
   "source": [
    "h_nrd0"
   ]
  },
  {
   "cell_type": "code",
   "execution_count": null,
   "metadata": {
    "vscode": {
     "languageId": "r"
    }
   },
   "outputs": [
    {
     "data": {
      "text/html": [
       "44.3947068447964"
      ],
      "text/latex": [
       "44.3947068447964"
      ],
      "text/markdown": [
       "44.3947068447964"
      ],
      "text/plain": [
       "[1] 44.39471"
      ]
     },
     "metadata": {},
     "output_type": "display_data"
    }
   ],
   "source": [
    "h_nrd"
   ]
  },
  {
   "cell_type": "code",
   "execution_count": null,
   "metadata": {
    "vscode": {
     "languageId": "r"
    }
   },
   "outputs": [
    {
     "data": {
      "text/html": [
       "62.2193644716266"
      ],
      "text/latex": [
       "62.2193644716266"
      ],
      "text/markdown": [
       "62.2193644716266"
      ],
      "text/plain": [
       "[1] 62.21936"
      ]
     },
     "metadata": {},
     "output_type": "display_data"
    }
   ],
   "source": [
    "h_ucv"
   ]
  },
  {
   "cell_type": "code",
   "execution_count": null,
   "metadata": {
    "vscode": {
     "languageId": "r"
    }
   },
   "outputs": [
    {
     "data": {
      "text/html": [
       "94.2006632757537"
      ],
      "text/latex": [
       "94.2006632757537"
      ],
      "text/markdown": [
       "94.2006632757537"
      ],
      "text/plain": [
       "[1] 94.20066"
      ]
     },
     "metadata": {},
     "output_type": "display_data"
    }
   ],
   "source": [
    "h_bcv"
   ]
  },
  {
   "cell_type": "code",
   "execution_count": null,
   "metadata": {
    "vscode": {
     "languageId": "r"
    }
   },
   "outputs": [
    {
     "data": {
      "text/html": [
       "22.9267729037159"
      ],
      "text/latex": [
       "22.9267729037159"
      ],
      "text/markdown": [
       "22.9267729037159"
      ],
      "text/plain": [
       "[1] 22.92677"
      ]
     },
     "metadata": {},
     "output_type": "display_data"
    }
   ],
   "source": [
    "h_SJ"
   ]
  },
  {
   "cell_type": "code",
   "execution_count": null,
   "metadata": {
    "vscode": {
     "languageId": "r"
    }
   },
   "outputs": [
    {
     "data": {
      "image/png": "[encoded data removed]",
      "text/plain": [
       "plot without title"
      ]
     },
     "metadata": {
      "image/png": {
       "height": 420,
       "width": 420
      }
     },
     "output_type": "display_data"
    }
   ],
   "source": [
    "ggplot(aircondit, mapping = aes(x = hours)) + geom_histogram(mapping = aes(y = after_stat(density)), bins = 8,\n",
    "fill = \"white\", color = \"black\") +\n",
    "stat_density(kernel = \"gaussian\", bw = h_nrd0, aes(color = \"nrd0\"), geom = \"line\") + stat_density(kernel = \"gaussian\", bw = h_nrd, aes(color = \"nrd\"), geom = \"line\") + stat_density(kernel = \"gaussian\", bw = h_ucv, aes(color = \"ucv\"), geom = \"line\") + stat_density(kernel = \"gaussian\", bw = h_bcv, aes(color = \"bcv\"), geom = \"line\") + stat_density(kernel = \"gaussian\", bw = h_SJ, aes(color = \"SJ\"), geom = \"line\") + scale_color_manual(name = \"bandwidth\",\n",
    "values = c(\"nrd0\" = \"blue\", \"nrd\" = \"red\", \"ucv\" = \"black\", \"bcv\" = \"forestgreen\", \"SJ\" = \"navy\")) +\n",
    "theme_bw() + theme(legend.position = \"right\")"
   ]
  },
  {
   "cell_type": "code",
   "execution_count": null,
   "metadata": {
    "vscode": {
     "languageId": "r"
    }
   },
   "outputs": [],
   "source": [
    "aircondit_sim_gk <- function(data, mle){\n",
    "data <- data\n",
    "n <- nrow(data)\n",
    "ind <- sample(1:n, size = n, replace = TRUE)\n",
    "data$hours <- data$hours[ind] + mle*rnorm(n, 0, 1)\n",
    "return(data)\n",
    "}"
   ]
  },
  {
   "cell_type": "code",
   "execution_count": null,
   "metadata": {
    "vscode": {
     "languageId": "r"
    }
   },
   "outputs": [],
   "source": [
    "set.seed(136)\n",
    "out_boot_aircondit_gk <- boot(data = aircondit, statistic = aircondit_mean,\n",
    "                              R = 5000, sim = \"parametric\",\n",
    "                              ran.gen = aircondit_sim_gk, mle = h_SJ)"
   ]
  },
  {
   "cell_type": "code",
   "execution_count": null,
   "metadata": {
    "vscode": {
     "languageId": "r"
    }
   },
   "outputs": [
    {
     "data": {
      "text/plain": [
       "\n",
       "PARAMETRIC BOOTSTRAP\n",
       "\n",
       "\n",
       "Call:\n",
       "boot(data = aircondit, statistic = aircondit_mean, R = 5000, \n",
       "    sim = \"parametric\", ran.gen = aircondit_sim_gk, mle = h_SJ)\n",
       "\n",
       "\n",
       "Bootstrap Statistics :\n",
       "    original     bias    std. error\n",
       "t1* 108.0833 -0.4305168    38.17049"
      ]
     },
     "metadata": {},
     "output_type": "display_data"
    }
   ],
   "source": [
    "out_boot_aircondit_gk"
   ]
  },
  {
   "cell_type": "code",
   "execution_count": null,
   "metadata": {
    "vscode": {
     "languageId": "r"
    }
   },
   "outputs": [
    {
     "data": {
      "text/plain": [
       "BOOTSTRAP CONFIDENCE INTERVAL CALCULATIONS\n",
       "Based on 5000 bootstrap replicates\n",
       "\n",
       "CALL : \n",
       "boot.ci(boot.out = out_boot_aircondit_gk, type = \"perc\")\n",
       "\n",
       "Intervals : \n",
       "Level     Percentile     \n",
       "95%   ( 45.0, 191.3 )  \n",
       "Calculations and Intervals on Original Scale"
      ]
     },
     "metadata": {},
     "output_type": "display_data"
    }
   ],
   "source": [
    "boot.ci(out_boot_aircondit_gk, type = \"perc\")"
   ]
  },
  {
   "cell_type": "code",
   "execution_count": null,
   "metadata": {
    "vscode": {
     "languageId": "r"
    }
   },
   "outputs": [],
   "source": []
  }
 ],
 "metadata": {
  "kernelspec": {
   "display_name": "R",
   "language": "R",
   "name": "ir"
  },
  "language_info": {
   "codemirror_mode": "r",
   "file_extension": ".r",
   "mimetype": "text/x-r-source",
   "name": "R",
   "pygments_lexer": "r",
   "version": "4.3.2"
  }
 },
 "nbformat": 4,
 "nbformat_minor": 2
}
