{
 "cells": [
  {
   "cell_type": "code",
   "execution_count": null,
   "metadata": {},
   "outputs": [],
   "source": [
    "# Đường dẫn tới file hiện tại\n",
    "base_path <- getwd()\n",
    "setwd(base_path)"
   ]
  },
  {
   "cell_type": "code",
   "execution_count": null,
   "metadata": {},
   "outputs": [],
   "source": [
    "# Đường dẫn lưu trữ dữ liệu\n",
    "path <- paste(base_path, \"../data-PhamThiHoa/BostonHousing.csv\", sep = \"/\")\n",
    "# Gán dữ liệu vào biến df\n",
    "df <- read.csv(path)\n",
    "# Chỉ chọn những biến muốn khảo sát\n",
    "df <- df[, c(\"rm\", \"age\", \"dis\", \"rad\", \"tax\", \"medv\")]\n",
    "# # Xem 6 dòng đầu tiên của dữ liệu\n",
    "head(df)\n"
   ]
  }
 ],
 "metadata": {
  "language_info": {
   "name": "python"
  }
 },
 "nbformat": 4,
 "nbformat_minor": 2
}
