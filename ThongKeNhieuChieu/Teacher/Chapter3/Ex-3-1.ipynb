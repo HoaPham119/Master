{
 "cells": [
  {
   "cell_type": "markdown",
   "metadata": {},
   "source": [
    "## Example 5.1 Data : Perspiration from 20 healthy females was analyzed.\n",
    "### X1: tỷ lệ mồ hôi\n",
    "### X2, X3: ll là hàm lượng natri, và kali"
   ]
  },
  {
   "cell_type": "code",
   "execution_count": 1,
   "metadata": {
    "vscode": {
     "languageId": "r"
    }
   },
   "outputs": [],
   "source": [
    "base_path = \"/Users/hoapham/Documents/Cá Nhân/Cao Học/Tài liệu học tập/Học Phầnn 1/4. Thống Kê Nhiều Chiều/Project\""
   ]
  },
  {
   "cell_type": "code",
   "execution_count": 2,
   "metadata": {
    "vscode": {
     "languageId": "r"
    }
   },
   "outputs": [],
   "source": [
    "setwd(base_path)"
   ]
  },
  {
   "cell_type": "code",
   "execution_count": 3,
   "metadata": {
    "vscode": {
     "languageId": "r"
    }
   },
   "outputs": [],
   "source": [
    "path = paste(base_path, \"Chapter3/T5-1.dat\", sep = \"/\")"
   ]
  },
  {
   "cell_type": "code",
   "execution_count": 4,
   "metadata": {
    "vscode": {
     "languageId": "r"
    }
   },
   "outputs": [
    {
     "data": {
      "text/html": [
       "<table class=\"dataframe\">\n",
       "<caption>A data.frame: 20 × 3</caption>\n",
       "<thead>\n",
       "\t<tr><th scope=col>V1</th><th scope=col>V2</th><th scope=col>V3</th></tr>\n",
       "\t<tr><th scope=col>&lt;dbl&gt;</th><th scope=col>&lt;dbl&gt;</th><th scope=col>&lt;dbl&gt;</th></tr>\n",
       "</thead>\n",
       "<tbody>\n",
       "\t<tr><td>3.7</td><td>48.5</td><td> 9.3</td></tr>\n",
       "\t<tr><td>5.7</td><td>65.1</td><td> 8.0</td></tr>\n",
       "\t<tr><td>3.8</td><td>47.2</td><td>10.9</td></tr>\n",
       "\t<tr><td>3.2</td><td>53.2</td><td>12.0</td></tr>\n",
       "\t<tr><td>3.1</td><td>55.5</td><td> 9.7</td></tr>\n",
       "\t<tr><td>4.6</td><td>36.1</td><td> 7.9</td></tr>\n",
       "\t<tr><td>2.4</td><td>24.8</td><td>14.0</td></tr>\n",
       "\t<tr><td>7.2</td><td>33.1</td><td> 7.6</td></tr>\n",
       "\t<tr><td>6.7</td><td>47.4</td><td> 8.5</td></tr>\n",
       "\t<tr><td>5.4</td><td>54.1</td><td>11.3</td></tr>\n",
       "\t<tr><td>3.9</td><td>36.9</td><td>12.7</td></tr>\n",
       "\t<tr><td>4.5</td><td>58.8</td><td>12.3</td></tr>\n",
       "\t<tr><td>3.5</td><td>27.8</td><td> 9.8</td></tr>\n",
       "\t<tr><td>4.5</td><td>40.2</td><td> 8.4</td></tr>\n",
       "\t<tr><td>1.5</td><td>13.5</td><td>10.1</td></tr>\n",
       "\t<tr><td>8.5</td><td>56.4</td><td> 7.1</td></tr>\n",
       "\t<tr><td>4.5</td><td>71.6</td><td> 8.2</td></tr>\n",
       "\t<tr><td>6.5</td><td>52.8</td><td>10.9</td></tr>\n",
       "\t<tr><td>4.1</td><td>44.1</td><td>11.2</td></tr>\n",
       "\t<tr><td>5.5</td><td>40.9</td><td> 9.4</td></tr>\n",
       "</tbody>\n",
       "</table>\n"
      ],
      "text/latex": [
       "A data.frame: 20 × 3\n",
       "\\begin{tabular}{lll}\n",
       " V1 & V2 & V3\\\\\n",
       " <dbl> & <dbl> & <dbl>\\\\\n",
       "\\hline\n",
       "\t 3.7 & 48.5 &  9.3\\\\\n",
       "\t 5.7 & 65.1 &  8.0\\\\\n",
       "\t 3.8 & 47.2 & 10.9\\\\\n",
       "\t 3.2 & 53.2 & 12.0\\\\\n",
       "\t 3.1 & 55.5 &  9.7\\\\\n",
       "\t 4.6 & 36.1 &  7.9\\\\\n",
       "\t 2.4 & 24.8 & 14.0\\\\\n",
       "\t 7.2 & 33.1 &  7.6\\\\\n",
       "\t 6.7 & 47.4 &  8.5\\\\\n",
       "\t 5.4 & 54.1 & 11.3\\\\\n",
       "\t 3.9 & 36.9 & 12.7\\\\\n",
       "\t 4.5 & 58.8 & 12.3\\\\\n",
       "\t 3.5 & 27.8 &  9.8\\\\\n",
       "\t 4.5 & 40.2 &  8.4\\\\\n",
       "\t 1.5 & 13.5 & 10.1\\\\\n",
       "\t 8.5 & 56.4 &  7.1\\\\\n",
       "\t 4.5 & 71.6 &  8.2\\\\\n",
       "\t 6.5 & 52.8 & 10.9\\\\\n",
       "\t 4.1 & 44.1 & 11.2\\\\\n",
       "\t 5.5 & 40.9 &  9.4\\\\\n",
       "\\end{tabular}\n"
      ],
      "text/markdown": [
       "\n",
       "A data.frame: 20 × 3\n",
       "\n",
       "| V1 &lt;dbl&gt; | V2 &lt;dbl&gt; | V3 &lt;dbl&gt; |\n",
       "|---|---|---|\n",
       "| 3.7 | 48.5 |  9.3 |\n",
       "| 5.7 | 65.1 |  8.0 |\n",
       "| 3.8 | 47.2 | 10.9 |\n",
       "| 3.2 | 53.2 | 12.0 |\n",
       "| 3.1 | 55.5 |  9.7 |\n",
       "| 4.6 | 36.1 |  7.9 |\n",
       "| 2.4 | 24.8 | 14.0 |\n",
       "| 7.2 | 33.1 |  7.6 |\n",
       "| 6.7 | 47.4 |  8.5 |\n",
       "| 5.4 | 54.1 | 11.3 |\n",
       "| 3.9 | 36.9 | 12.7 |\n",
       "| 4.5 | 58.8 | 12.3 |\n",
       "| 3.5 | 27.8 |  9.8 |\n",
       "| 4.5 | 40.2 |  8.4 |\n",
       "| 1.5 | 13.5 | 10.1 |\n",
       "| 8.5 | 56.4 |  7.1 |\n",
       "| 4.5 | 71.6 |  8.2 |\n",
       "| 6.5 | 52.8 | 10.9 |\n",
       "| 4.1 | 44.1 | 11.2 |\n",
       "| 5.5 | 40.9 |  9.4 |\n",
       "\n"
      ],
      "text/plain": [
       "   V1  V2   V3  \n",
       "1  3.7 48.5  9.3\n",
       "2  5.7 65.1  8.0\n",
       "3  3.8 47.2 10.9\n",
       "4  3.2 53.2 12.0\n",
       "5  3.1 55.5  9.7\n",
       "6  4.6 36.1  7.9\n",
       "7  2.4 24.8 14.0\n",
       "8  7.2 33.1  7.6\n",
       "9  6.7 47.4  8.5\n",
       "10 5.4 54.1 11.3\n",
       "11 3.9 36.9 12.7\n",
       "12 4.5 58.8 12.3\n",
       "13 3.5 27.8  9.8\n",
       "14 4.5 40.2  8.4\n",
       "15 1.5 13.5 10.1\n",
       "16 8.5 56.4  7.1\n",
       "17 4.5 71.6  8.2\n",
       "18 6.5 52.8 10.9\n",
       "19 4.1 44.1 11.2\n",
       "20 5.5 40.9  9.4"
      ]
     },
     "metadata": {},
     "output_type": "display_data"
    }
   ],
   "source": [
    "sweat=read.table(path)\n",
    "sweat"
   ]
  },
  {
   "cell_type": "code",
   "execution_count": 5,
   "metadata": {
    "vscode": {
     "languageId": "r"
    }
   },
   "outputs": [
    {
     "data": {
      "text/html": [
       "<style>\n",
       ".list-inline {list-style: none; margin:0; padding: 0}\n",
       ".list-inline>li {display: inline-block}\n",
       ".list-inline>li:not(:last-child)::after {content: \"\\00b7\"; padding: 0 .5ex}\n",
       "</style>\n",
       "<ol class=list-inline><li>20</li><li>3</li></ol>\n"
      ],
      "text/latex": [
       "\\begin{enumerate*}\n",
       "\\item 20\n",
       "\\item 3\n",
       "\\end{enumerate*}\n"
      ],
      "text/markdown": [
       "1. 20\n",
       "2. 3\n",
       "\n",
       "\n"
      ],
      "text/plain": [
       "[1] 20  3"
      ]
     },
     "metadata": {},
     "output_type": "display_data"
    }
   ],
   "source": [
    "dim(sweat)"
   ]
  },
  {
   "cell_type": "code",
   "execution_count": 6,
   "metadata": {
    "vscode": {
     "languageId": "r"
    }
   },
   "outputs": [],
   "source": [
    "names(sweat)=c(\"rate\",\"sodium\",\"potas\")"
   ]
  },
  {
   "cell_type": "code",
   "execution_count": 7,
   "metadata": {
    "vscode": {
     "languageId": "r"
    }
   },
   "outputs": [
    {
     "data": {
      "text/html": [
       "<style>\n",
       ".dl-inline {width: auto; margin:0; padding: 0}\n",
       ".dl-inline>dt, .dl-inline>dd {float: none; width: auto; display: inline-block}\n",
       ".dl-inline>dt::after {content: \":\\0020\"; padding-right: .5ex}\n",
       ".dl-inline>dt:not(:first-of-type) {padding-left: .5ex}\n",
       "</style><dl class=dl-inline><dt>rate</dt><dd>4.64</dd><dt>sodium</dt><dd>45.4</dd><dt>potas</dt><dd>9.965</dd></dl>\n"
      ],
      "text/latex": [
       "\\begin{description*}\n",
       "\\item[rate] 4.64\n",
       "\\item[sodium] 45.4\n",
       "\\item[potas] 9.965\n",
       "\\end{description*}\n"
      ],
      "text/markdown": [
       "rate\n",
       ":   4.64sodium\n",
       ":   45.4potas\n",
       ":   9.965\n",
       "\n"
      ],
      "text/plain": [
       "  rate sodium  potas \n",
       " 4.640 45.400  9.965 "
      ]
     },
     "metadata": {},
     "output_type": "display_data"
    }
   ],
   "source": [
    "(xbar=colMeans(sweat))"
   ]
  },
  {
   "cell_type": "code",
   "execution_count": 8,
   "metadata": {
    "vscode": {
     "languageId": "r"
    }
   },
   "outputs": [
    {
     "data": {
      "text/html": [
       "<table class=\"dataframe\">\n",
       "<caption>A matrix: 3 × 3 of type dbl</caption>\n",
       "<thead>\n",
       "\t<tr><th></th><th scope=col>rate</th><th scope=col>sodium</th><th scope=col>potas</th></tr>\n",
       "</thead>\n",
       "<tbody>\n",
       "\t<tr><th scope=row>rate</th><td> 2.879368</td><td> 10.0100</td><td>-1.809053</td></tr>\n",
       "\t<tr><th scope=row>sodium</th><td>10.010000</td><td>199.7884</td><td>-5.640000</td></tr>\n",
       "\t<tr><th scope=row>potas</th><td>-1.809053</td><td> -5.6400</td><td> 3.627658</td></tr>\n",
       "</tbody>\n",
       "</table>\n"
      ],
      "text/latex": [
       "A matrix: 3 × 3 of type dbl\n",
       "\\begin{tabular}{r|lll}\n",
       "  & rate & sodium & potas\\\\\n",
       "\\hline\n",
       "\trate &  2.879368 &  10.0100 & -1.809053\\\\\n",
       "\tsodium & 10.010000 & 199.7884 & -5.640000\\\\\n",
       "\tpotas & -1.809053 &  -5.6400 &  3.627658\\\\\n",
       "\\end{tabular}\n"
      ],
      "text/markdown": [
       "\n",
       "A matrix: 3 × 3 of type dbl\n",
       "\n",
       "| <!--/--> | rate | sodium | potas |\n",
       "|---|---|---|---|\n",
       "| rate |  2.879368 |  10.0100 | -1.809053 |\n",
       "| sodium | 10.010000 | 199.7884 | -5.640000 |\n",
       "| potas | -1.809053 |  -5.6400 |  3.627658 |\n",
       "\n"
      ],
      "text/plain": [
       "       rate      sodium   potas    \n",
       "rate    2.879368  10.0100 -1.809053\n",
       "sodium 10.010000 199.7884 -5.640000\n",
       "potas  -1.809053  -5.6400  3.627658"
      ]
     },
     "metadata": {},
     "output_type": "display_data"
    }
   ],
   "source": [
    "(mS=cov(sweat))"
   ]
  },
  {
   "cell_type": "code",
   "execution_count": 9,
   "metadata": {
    "vscode": {
     "languageId": "r"
    }
   },
   "outputs": [
    {
     "data": {
      "text/html": [
       "<table class=\"dataframe\">\n",
       "<caption>A matrix: 3 × 3 of type dbl</caption>\n",
       "<thead>\n",
       "\t<tr><th></th><th scope=col>rate</th><th scope=col>sodium</th><th scope=col>potas</th></tr>\n",
       "</thead>\n",
       "<tbody>\n",
       "\t<tr><th scope=row>rate</th><td> 0.58615531</td><td>-0.022085719</td><td> 0.257968742</td></tr>\n",
       "\t<tr><th scope=row>sodium</th><td>-0.02208572</td><td> 0.006067227</td><td>-0.001580929</td></tr>\n",
       "\t<tr><th scope=row>potas</th><td> 0.25796874</td><td>-0.001580929</td><td> 0.401846765</td></tr>\n",
       "</tbody>\n",
       "</table>\n"
      ],
      "text/latex": [
       "A matrix: 3 × 3 of type dbl\n",
       "\\begin{tabular}{r|lll}\n",
       "  & rate & sodium & potas\\\\\n",
       "\\hline\n",
       "\trate &  0.58615531 & -0.022085719 &  0.257968742\\\\\n",
       "\tsodium & -0.02208572 &  0.006067227 & -0.001580929\\\\\n",
       "\tpotas &  0.25796874 & -0.001580929 &  0.401846765\\\\\n",
       "\\end{tabular}\n"
      ],
      "text/markdown": [
       "\n",
       "A matrix: 3 × 3 of type dbl\n",
       "\n",
       "| <!--/--> | rate | sodium | potas |\n",
       "|---|---|---|---|\n",
       "| rate |  0.58615531 | -0.022085719 |  0.257968742 |\n",
       "| sodium | -0.02208572 |  0.006067227 | -0.001580929 |\n",
       "| potas |  0.25796874 | -0.001580929 |  0.401846765 |\n",
       "\n"
      ],
      "text/plain": [
       "       rate        sodium       potas       \n",
       "rate    0.58615531 -0.022085719  0.257968742\n",
       "sodium -0.02208572  0.006067227 -0.001580929\n",
       "potas   0.25796874 -0.001580929  0.401846765"
      ]
     },
     "metadata": {},
     "output_type": "display_data"
    }
   ],
   "source": [
    "(solve(mS))"
   ]
  },
  {
   "cell_type": "code",
   "execution_count": 10,
   "metadata": {
    "vscode": {
     "languageId": "r"
    }
   },
   "outputs": [],
   "source": [
    "#xmu=c(4,50,10)\n",
    "xmu=c(5,55,10)"
   ]
  },
  {
   "cell_type": "code",
   "execution_count": 11,
   "metadata": {
    "vscode": {
     "languageId": "r"
    }
   },
   "outputs": [],
   "source": [
    "n=nrow(sweat)\n",
    "p=ncol(sweat)"
   ]
  },
  {
   "cell_type": "code",
   "execution_count": 12,
   "metadata": {
    "vscode": {
     "languageId": "r"
    }
   },
   "outputs": [
    {
     "data": {
      "text/html": [
       "<table class=\"dataframe\">\n",
       "<caption>A matrix: 1 × 1 of type dbl</caption>\n",
       "<tbody>\n",
       "\t<tr><td>9.76791</td></tr>\n",
       "</tbody>\n",
       "</table>\n"
      ],
      "text/latex": [
       "A matrix: 1 × 1 of type dbl\n",
       "\\begin{tabular}{l}\n",
       "\t 9.76791\\\\\n",
       "\\end{tabular}\n"
      ],
      "text/markdown": [
       "\n",
       "A matrix: 1 × 1 of type dbl\n",
       "\n",
       "| 9.76791 |\n",
       "\n"
      ],
      "text/plain": [
       "     [,1]   \n",
       "[1,] 9.76791"
      ]
     },
     "metadata": {},
     "output_type": "display_data"
    }
   ],
   "source": [
    "(tsq=n*t(xbar-xmu)%*%solve(mS)%*%(xbar-xmu) )"
   ]
  },
  {
   "cell_type": "code",
   "execution_count": 13,
   "metadata": {
    "vscode": {
     "languageId": "r"
    }
   },
   "outputs": [
    {
     "data": {
      "text/html": [
       "<table class=\"dataframe\">\n",
       "<caption>A matrix: 1 × 1 of type dbl</caption>\n",
       "<tbody>\n",
       "\t<tr><td>2.913236</td></tr>\n",
       "</tbody>\n",
       "</table>\n"
      ],
      "text/latex": [
       "A matrix: 1 × 1 of type dbl\n",
       "\\begin{tabular}{l}\n",
       "\t 2.913236\\\\\n",
       "\\end{tabular}\n"
      ],
      "text/markdown": [
       "\n",
       "A matrix: 1 × 1 of type dbl\n",
       "\n",
       "| 2.913236 |\n",
       "\n"
      ],
      "text/plain": [
       "     [,1]    \n",
       "[1,] 2.913236"
      ]
     },
     "metadata": {},
     "output_type": "display_data"
    }
   ],
   "source": [
    "ctsq=((n-p)/(p*(n-1)))*tsq #giá trị thống kê\n",
    "ctsq"
   ]
  },
  {
   "cell_type": "code",
   "execution_count": 14,
   "metadata": {
    "vscode": {
     "languageId": "r"
    }
   },
   "outputs": [
    {
     "data": {
      "text/html": [
       "2.43743391457984"
      ],
      "text/latex": [
       "2.43743391457984"
      ],
      "text/markdown": [
       "2.43743391457984"
      ],
      "text/plain": [
       "[1] 2.437434"
      ]
     },
     "metadata": {},
     "output_type": "display_data"
    }
   ],
   "source": [
    "c2=qf(.9,p,n-p)# critical value \n",
    "c2"
   ]
  },
  {
   "cell_type": "code",
   "execution_count": 15,
   "metadata": {
    "vscode": {
     "languageId": "r"
    }
   },
   "outputs": [
    {
     "data": {
      "text/html": [
       "<style>\n",
       ".list-inline {list-style: none; margin:0; padding: 0}\n",
       ".list-inline>li {display: inline-block}\n",
       ".list-inline>li:not(:last-child)::after {content: \"\\00b7\"; padding: 0 .5ex}\n",
       "</style>\n",
       "<ol class=list-inline><li>2.91323646076178</li><li>2.43743391457984</li></ol>\n"
      ],
      "text/latex": [
       "\\begin{enumerate*}\n",
       "\\item 2.91323646076178\n",
       "\\item 2.43743391457984\n",
       "\\end{enumerate*}\n"
      ],
      "text/markdown": [
       "1. 2.91323646076178\n",
       "2. 2.43743391457984\n",
       "\n",
       "\n"
      ],
      "text/plain": [
       "[1] 2.913236 2.437434"
      ]
     },
     "metadata": {},
     "output_type": "display_data"
    }
   ],
   "source": [
    "c(ctsq,c2)\n",
    "#cc2=((n-1)*p/(n-p))*qf(.9,p,n-p)\n",
    "#c(tsq,cc2)# tsq >c2, reject H0 at the 10% level of signification\n"
   ]
  }
 ],
 "metadata": {
  "kernelspec": {
   "display_name": "R",
   "language": "R",
   "name": "ir"
  },
  "language_info": {
   "codemirror_mode": "r",
   "file_extension": ".r",
   "mimetype": "text/x-r-source",
   "name": "R",
   "pygments_lexer": "r",
   "version": "4.3.2"
  }
 },
 "nbformat": 4,
 "nbformat_minor": 2
}
