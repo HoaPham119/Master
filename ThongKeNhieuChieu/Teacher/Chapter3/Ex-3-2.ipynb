{
 "cells": [
  {
   "cell_type": "code",
   "execution_count": 1,
   "metadata": {
    "vscode": {
     "languageId": "r"
    }
   },
   "outputs": [],
   "source": [
    "base_path = \"/Users/hoapham/Documents/Cá Nhân/Cao Học/Tài liệu học tập/Học Phầnn 1/4. Thống Kê Nhiều Chiều/Project\""
   ]
  },
  {
   "cell_type": "code",
   "execution_count": 2,
   "metadata": {
    "vscode": {
     "languageId": "r"
    }
   },
   "outputs": [
    {
     "ename": "ERROR",
     "evalue": "Error in setwd(base_path): cannot change working directory\n",
     "output_type": "error",
     "traceback": [
      "Error in setwd(base_path): cannot change working directory\nTraceback:\n",
      "1. setwd(base_path)"
     ]
    }
   ],
   "source": [
    "setwd(base_path)"
   ]
  },
  {
   "cell_type": "markdown",
   "metadata": {},
   "source": [
    "# Example 5.3 Data for radiation from microwave Data về bức xạ của lò vi sóng"
   ]
  },
  {
   "cell_type": "code",
   "execution_count": 52,
   "metadata": {
    "vscode": {
     "languageId": "r"
    }
   },
   "outputs": [],
   "source": [
    "# install packagae  ellipse to draw ellipse\n",
    "library(ellipse)"
   ]
  },
  {
   "cell_type": "code",
   "execution_count": 53,
   "metadata": {
    "vscode": {
     "languageId": "r"
    }
   },
   "outputs": [],
   "source": [
    "path = paste(base_path, \"Chapter3/T4-1.DAT\", sep = \"/\")\n",
    "radC=read.table(path,header=F)"
   ]
  },
  {
   "cell_type": "code",
   "execution_count": 54,
   "metadata": {
    "vscode": {
     "languageId": "r"
    }
   },
   "outputs": [
    {
     "data": {
      "text/html": [
       "<style>\n",
       ".list-inline {list-style: none; margin:0; padding: 0}\n",
       ".list-inline>li {display: inline-block}\n",
       ".list-inline>li:not(:last-child)::after {content: \"\\00b7\"; padding: 0 .5ex}\n",
       "</style>\n",
       "<ol class=list-inline><li>42</li><li>1</li></ol>\n"
      ],
      "text/latex": [
       "\\begin{enumerate*}\n",
       "\\item 42\n",
       "\\item 1\n",
       "\\end{enumerate*}\n"
      ],
      "text/markdown": [
       "1. 42\n",
       "2. 1\n",
       "\n",
       "\n"
      ],
      "text/plain": [
       "[1] 42  1"
      ]
     },
     "metadata": {},
     "output_type": "display_data"
    }
   ],
   "source": [
    "dim(radC)"
   ]
  },
  {
   "cell_type": "code",
   "execution_count": 55,
   "metadata": {
    "vscode": {
     "languageId": "r"
    }
   },
   "outputs": [
    {
     "data": {
      "text/html": [
       "'V1'"
      ],
      "text/latex": [
       "'V1'"
      ],
      "text/markdown": [
       "'V1'"
      ],
      "text/plain": [
       "[1] \"V1\""
      ]
     },
     "metadata": {},
     "output_type": "display_data"
    }
   ],
   "source": [
    "names(radC)"
   ]
  },
  {
   "cell_type": "code",
   "execution_count": 56,
   "metadata": {
    "vscode": {
     "languageId": "r"
    }
   },
   "outputs": [],
   "source": [
    "path = paste(base_path, \"Chapter3/T4-5.DAT\", sep = \"/\")\n",
    "radO=read.table(path,header=F)"
   ]
  },
  {
   "cell_type": "code",
   "execution_count": 57,
   "metadata": {
    "vscode": {
     "languageId": "r"
    }
   },
   "outputs": [
    {
     "data": {
      "text/html": [
       "<style>\n",
       ".list-inline {list-style: none; margin:0; padding: 0}\n",
       ".list-inline>li {display: inline-block}\n",
       ".list-inline>li:not(:last-child)::after {content: \"\\00b7\"; padding: 0 .5ex}\n",
       "</style>\n",
       "<ol class=list-inline><li>42</li><li>1</li></ol>\n"
      ],
      "text/latex": [
       "\\begin{enumerate*}\n",
       "\\item 42\n",
       "\\item 1\n",
       "\\end{enumerate*}\n"
      ],
      "text/markdown": [
       "1. 42\n",
       "2. 1\n",
       "\n",
       "\n"
      ],
      "text/plain": [
       "[1] 42  1"
      ]
     },
     "metadata": {},
     "output_type": "display_data"
    }
   ],
   "source": [
    "dim(radO)"
   ]
  },
  {
   "cell_type": "code",
   "execution_count": 58,
   "metadata": {
    "vscode": {
     "languageId": "r"
    }
   },
   "outputs": [],
   "source": [
    "radcl=radC**(.25) #radcl=(radC)^(1/4)"
   ]
  },
  {
   "cell_type": "code",
   "execution_count": 59,
   "metadata": {
    "vscode": {
     "languageId": "r"
    }
   },
   "outputs": [
    {
     "data": {
      "text/html": [
       "<table class=\"dataframe\">\n",
       "<caption>A data.frame: 6 × 1</caption>\n",
       "<thead>\n",
       "\t<tr><th></th><th scope=col>V1</th></tr>\n",
       "\t<tr><th></th><th scope=col>&lt;dbl&gt;</th></tr>\n",
       "</thead>\n",
       "<tbody>\n",
       "\t<tr><th scope=row>1</th><td>0.6223330</td></tr>\n",
       "\t<tr><th scope=row>2</th><td>0.5477226</td></tr>\n",
       "\t<tr><th scope=row>3</th><td>0.6513556</td></tr>\n",
       "\t<tr><th scope=row>4</th><td>0.5623413</td></tr>\n",
       "\t<tr><th scope=row>5</th><td>0.4728708</td></tr>\n",
       "\t<tr><th scope=row>6</th><td>0.5885662</td></tr>\n",
       "</tbody>\n",
       "</table>\n"
      ],
      "text/latex": [
       "A data.frame: 6 × 1\n",
       "\\begin{tabular}{r|l}\n",
       "  & V1\\\\\n",
       "  & <dbl>\\\\\n",
       "\\hline\n",
       "\t1 & 0.6223330\\\\\n",
       "\t2 & 0.5477226\\\\\n",
       "\t3 & 0.6513556\\\\\n",
       "\t4 & 0.5623413\\\\\n",
       "\t5 & 0.4728708\\\\\n",
       "\t6 & 0.5885662\\\\\n",
       "\\end{tabular}\n"
      ],
      "text/markdown": [
       "\n",
       "A data.frame: 6 × 1\n",
       "\n",
       "| <!--/--> | V1 &lt;dbl&gt; |\n",
       "|---|---|\n",
       "| 1 | 0.6223330 |\n",
       "| 2 | 0.5477226 |\n",
       "| 3 | 0.6513556 |\n",
       "| 4 | 0.5623413 |\n",
       "| 5 | 0.4728708 |\n",
       "| 6 | 0.5885662 |\n",
       "\n"
      ],
      "text/plain": [
       "  V1       \n",
       "1 0.6223330\n",
       "2 0.5477226\n",
       "3 0.6513556\n",
       "4 0.5623413\n",
       "5 0.4728708\n",
       "6 0.5885662"
      ]
     },
     "metadata": {},
     "output_type": "display_data"
    }
   ],
   "source": [
    "head(radcl)"
   ]
  },
  {
   "cell_type": "code",
   "execution_count": 60,
   "metadata": {
    "vscode": {
     "languageId": "r"
    }
   },
   "outputs": [
    {
     "data": {
      "text/html": [
       "<table class=\"dataframe\">\n",
       "<caption>A data.frame: 6 × 1</caption>\n",
       "<thead>\n",
       "\t<tr><th></th><th scope=col>V1</th></tr>\n",
       "\t<tr><th></th><th scope=col>&lt;dbl&gt;</th></tr>\n",
       "</thead>\n",
       "<tbody>\n",
       "\t<tr><th scope=row>1</th><td>0.15</td></tr>\n",
       "\t<tr><th scope=row>2</th><td>0.09</td></tr>\n",
       "\t<tr><th scope=row>3</th><td>0.18</td></tr>\n",
       "\t<tr><th scope=row>4</th><td>0.10</td></tr>\n",
       "\t<tr><th scope=row>5</th><td>0.05</td></tr>\n",
       "\t<tr><th scope=row>6</th><td>0.12</td></tr>\n",
       "</tbody>\n",
       "</table>\n"
      ],
      "text/latex": [
       "A data.frame: 6 × 1\n",
       "\\begin{tabular}{r|l}\n",
       "  & V1\\\\\n",
       "  & <dbl>\\\\\n",
       "\\hline\n",
       "\t1 & 0.15\\\\\n",
       "\t2 & 0.09\\\\\n",
       "\t3 & 0.18\\\\\n",
       "\t4 & 0.10\\\\\n",
       "\t5 & 0.05\\\\\n",
       "\t6 & 0.12\\\\\n",
       "\\end{tabular}\n"
      ],
      "text/markdown": [
       "\n",
       "A data.frame: 6 × 1\n",
       "\n",
       "| <!--/--> | V1 &lt;dbl&gt; |\n",
       "|---|---|\n",
       "| 1 | 0.15 |\n",
       "| 2 | 0.09 |\n",
       "| 3 | 0.18 |\n",
       "| 4 | 0.10 |\n",
       "| 5 | 0.05 |\n",
       "| 6 | 0.12 |\n",
       "\n"
      ],
      "text/plain": [
       "  V1  \n",
       "1 0.15\n",
       "2 0.09\n",
       "3 0.18\n",
       "4 0.10\n",
       "5 0.05\n",
       "6 0.12"
      ]
     },
     "metadata": {},
     "output_type": "display_data"
    }
   ],
   "source": [
    "head(radC)"
   ]
  },
  {
   "cell_type": "code",
   "execution_count": 61,
   "metadata": {
    "vscode": {
     "languageId": "r"
    }
   },
   "outputs": [],
   "source": [
    "radop=radO**(.25)"
   ]
  },
  {
   "cell_type": "code",
   "execution_count": 62,
   "metadata": {
    "vscode": {
     "languageId": "r"
    }
   },
   "outputs": [],
   "source": [
    "rad=cbind(radcl,radop)"
   ]
  },
  {
   "cell_type": "code",
   "execution_count": 63,
   "metadata": {
    "vscode": {
     "languageId": "r"
    }
   },
   "outputs": [
    {
     "data": {
      "text/html": [
       "<style>\n",
       ".list-inline {list-style: none; margin:0; padding: 0}\n",
       ".list-inline>li {display: inline-block}\n",
       ".list-inline>li:not(:last-child)::after {content: \"\\00b7\"; padding: 0 .5ex}\n",
       "</style>\n",
       "<ol class=list-inline><li>42</li><li>2</li></ol>\n"
      ],
      "text/latex": [
       "\\begin{enumerate*}\n",
       "\\item 42\n",
       "\\item 2\n",
       "\\end{enumerate*}\n"
      ],
      "text/markdown": [
       "1. 42\n",
       "2. 2\n",
       "\n",
       "\n"
      ],
      "text/plain": [
       "[1] 42  2"
      ]
     },
     "metadata": {},
     "output_type": "display_data"
    }
   ],
   "source": [
    "dim(rad)"
   ]
  },
  {
   "cell_type": "code",
   "execution_count": 64,
   "metadata": {
    "vscode": {
     "languageId": "r"
    }
   },
   "outputs": [],
   "source": [
    "n=nrow(rad)"
   ]
  },
  {
   "cell_type": "code",
   "execution_count": 65,
   "metadata": {
    "vscode": {
     "languageId": "r"
    }
   },
   "outputs": [],
   "source": [
    "p=ncol(rad)"
   ]
  },
  {
   "cell_type": "code",
   "execution_count": 66,
   "metadata": {
    "vscode": {
     "languageId": "r"
    }
   },
   "outputs": [
    {
     "data": {
      "text/html": [
       "<style>\n",
       ".dl-inline {width: auto; margin:0; padding: 0}\n",
       ".dl-inline>dt, .dl-inline>dd {float: none; width: auto; display: inline-block}\n",
       ".dl-inline>dt::after {content: \":\\0020\"; padding-right: .5ex}\n",
       ".dl-inline>dt:not(:first-of-type) {padding-left: .5ex}\n",
       "</style><dl class=dl-inline><dt>V1</dt><dd>0.564257509480224</dd><dt>V1</dt><dd>0.60298123965769</dd></dl>\n"
      ],
      "text/latex": [
       "\\begin{description*}\n",
       "\\item[V1] 0.564257509480224\n",
       "\\item[V1] 0.60298123965769\n",
       "\\end{description*}\n"
      ],
      "text/markdown": [
       "V1\n",
       ":   0.564257509480224V1\n",
       ":   0.60298123965769\n",
       "\n"
      ],
      "text/plain": [
       "       V1        V1 \n",
       "0.5642575 0.6029812 "
      ]
     },
     "metadata": {},
     "output_type": "display_data"
    }
   ],
   "source": [
    "(xbar=colMeans(rad))"
   ]
  },
  {
   "cell_type": "code",
   "execution_count": 67,
   "metadata": {
    "vscode": {
     "languageId": "r"
    }
   },
   "outputs": [
    {
     "data": {
      "text/html": [
       "<table class=\"dataframe\">\n",
       "<caption>A matrix: 2 × 2 of type dbl</caption>\n",
       "<thead>\n",
       "\t<tr><th></th><th scope=col>V1</th><th scope=col>V1</th></tr>\n",
       "</thead>\n",
       "<tbody>\n",
       "\t<tr><th scope=row>V1</th><td>0.01435023</td><td>0.01171547</td></tr>\n",
       "\t<tr><th scope=row>V1</th><td>0.01171547</td><td>0.01454530</td></tr>\n",
       "</tbody>\n",
       "</table>\n"
      ],
      "text/latex": [
       "A matrix: 2 × 2 of type dbl\n",
       "\\begin{tabular}{r|ll}\n",
       "  & V1 & V1\\\\\n",
       "\\hline\n",
       "\tV1 & 0.01435023 & 0.01171547\\\\\n",
       "\tV1 & 0.01171547 & 0.01454530\\\\\n",
       "\\end{tabular}\n"
      ],
      "text/markdown": [
       "\n",
       "A matrix: 2 × 2 of type dbl\n",
       "\n",
       "| <!--/--> | V1 | V1 |\n",
       "|---|---|---|\n",
       "| V1 | 0.01435023 | 0.01171547 |\n",
       "| V1 | 0.01171547 | 0.01454530 |\n",
       "\n"
      ],
      "text/plain": [
       "   V1         V1        \n",
       "V1 0.01435023 0.01171547\n",
       "V1 0.01171547 0.01454530"
      ]
     },
     "metadata": {},
     "output_type": "display_data"
    }
   ],
   "source": [
    "(S=cov(rad))"
   ]
  },
  {
   "cell_type": "code",
   "execution_count": 68,
   "metadata": {
    "vscode": {
     "languageId": "r"
    }
   },
   "outputs": [
    {
     "data": {
      "text/html": [
       "<table class=\"dataframe\">\n",
       "<caption>A matrix: 2 × 2 of type dbl</caption>\n",
       "<thead>\n",
       "\t<tr><th></th><th scope=col>V1</th><th scope=col>V1</th></tr>\n",
       "</thead>\n",
       "<tbody>\n",
       "\t<tr><th scope=row>V1</th><td> 203.4981</td><td>-163.9069</td></tr>\n",
       "\t<tr><th scope=row>V1</th><td>-163.9069</td><td> 200.7691</td></tr>\n",
       "</tbody>\n",
       "</table>\n"
      ],
      "text/latex": [
       "A matrix: 2 × 2 of type dbl\n",
       "\\begin{tabular}{r|ll}\n",
       "  & V1 & V1\\\\\n",
       "\\hline\n",
       "\tV1 &  203.4981 & -163.9069\\\\\n",
       "\tV1 & -163.9069 &  200.7691\\\\\n",
       "\\end{tabular}\n"
      ],
      "text/markdown": [
       "\n",
       "A matrix: 2 × 2 of type dbl\n",
       "\n",
       "| <!--/--> | V1 | V1 |\n",
       "|---|---|---|\n",
       "| V1 |  203.4981 | -163.9069 |\n",
       "| V1 | -163.9069 |  200.7691 |\n",
       "\n"
      ],
      "text/plain": [
       "   V1        V1       \n",
       "V1  203.4981 -163.9069\n",
       "V1 -163.9069  200.7691"
      ]
     },
     "metadata": {},
     "output_type": "display_data"
    }
   ],
   "source": [
    "solve(S)"
   ]
  },
  {
   "cell_type": "code",
   "execution_count": 69,
   "metadata": {
    "vscode": {
     "languageId": "r"
    }
   },
   "outputs": [
    {
     "data": {
      "text/html": [
       "<style>\n",
       ".list-inline {list-style: none; margin:0; padding: 0}\n",
       ".list-inline>li {display: inline-block}\n",
       ".list-inline>li:not(:last-child)::after {content: \"\\00b7\"; padding: 0 .5ex}\n",
       "</style>\n",
       "<ol class=list-inline><li>0.0261636379915915</li><li>0.00273189535942545</li></ol>\n"
      ],
      "text/latex": [
       "\\begin{enumerate*}\n",
       "\\item 0.0261636379915915\n",
       "\\item 0.00273189535942545\n",
       "\\end{enumerate*}\n"
      ],
      "text/markdown": [
       "1. 0.0261636379915915\n",
       "2. 0.00273189535942545\n",
       "\n",
       "\n"
      ],
      "text/plain": [
       "[1] 0.026163638 0.002731895"
      ]
     },
     "metadata": {},
     "output_type": "display_data"
    },
    {
     "data": {
      "text/html": [
       "<table class=\"dataframe\">\n",
       "<caption>A matrix: 2 × 2 of type dbl</caption>\n",
       "<tbody>\n",
       "\t<tr><td>0.7041574</td><td>-0.7100439</td></tr>\n",
       "\t<tr><td>0.7100439</td><td> 0.7041574</td></tr>\n",
       "</tbody>\n",
       "</table>\n"
      ],
      "text/latex": [
       "A matrix: 2 × 2 of type dbl\n",
       "\\begin{tabular}{ll}\n",
       "\t 0.7041574 & -0.7100439\\\\\n",
       "\t 0.7100439 &  0.7041574\\\\\n",
       "\\end{tabular}\n"
      ],
      "text/markdown": [
       "\n",
       "A matrix: 2 × 2 of type dbl\n",
       "\n",
       "| 0.7041574 | -0.7100439 |\n",
       "| 0.7100439 |  0.7041574 |\n",
       "\n"
      ],
      "text/plain": [
       "     [,1]      [,2]      \n",
       "[1,] 0.7041574 -0.7100439\n",
       "[2,] 0.7100439  0.7041574"
      ]
     },
     "metadata": {},
     "output_type": "display_data"
    }
   ],
   "source": [
    "#eigenvalue and eigenvector pairs for S\n",
    "eig=eigen(S)\n",
    "eig$values\n",
    "eig$vectors"
   ]
  },
  {
   "cell_type": "code",
   "execution_count": 70,
   "metadata": {
    "vscode": {
     "languageId": "r"
    }
   },
   "outputs": [
    {
     "data": {
      "text/html": [
       "6.62504033530323"
      ],
      "text/latex": [
       "6.62504033530323"
      ],
      "text/markdown": [
       "6.62504033530323"
      ],
      "text/plain": [
       "[1] 6.62504"
      ]
     },
     "metadata": {},
     "output_type": "display_data"
    }
   ],
   "source": [
    "# c^2=(p(n-1))/(n-p)F_{p,n-p}(alpha)\n",
    "(c2=p*(n-1)*qf(.95,p,n-p)/(n-p))"
   ]
  },
  {
   "cell_type": "markdown",
   "metadata": {},
   "source": [
    "### The 95% confidence ellipse for \\mu=(mu1, mu2)\n",
    "##### check if in ellipse"
   ]
  },
  {
   "cell_type": "code",
   "execution_count": 71,
   "metadata": {
    "vscode": {
     "languageId": "r"
    }
   },
   "outputs": [],
   "source": [
    "\n",
    "xmu=c(.562,.589)\n",
    "\n",
    "# xmu=c(.5555,.6077)\n"
   ]
  },
  {
   "cell_type": "code",
   "execution_count": 72,
   "metadata": {
    "vscode": {
     "languageId": "r"
    }
   },
   "outputs": [
    {
     "data": {
      "text/html": [
       "<style>\n",
       ".dl-inline {width: auto; margin:0; padding: 0}\n",
       ".dl-inline>dt, .dl-inline>dd {float: none; width: auto; display: inline-block}\n",
       ".dl-inline>dt::after {content: \":\\0020\"; padding-right: .5ex}\n",
       ".dl-inline>dt:not(:first-of-type) {padding-left: .5ex}\n",
       "</style><dl class=dl-inline><dt>V1</dt><dd>0.564257509480224</dd><dt>V1</dt><dd>0.60298123965769</dd></dl>\n"
      ],
      "text/latex": [
       "\\begin{description*}\n",
       "\\item[V1] 0.564257509480224\n",
       "\\item[V1] 0.60298123965769\n",
       "\\end{description*}\n"
      ],
      "text/markdown": [
       "V1\n",
       ":   0.564257509480224V1\n",
       ":   0.60298123965769\n",
       "\n"
      ],
      "text/plain": [
       "       V1        V1 \n",
       "0.5642575 0.6029812 "
      ]
     },
     "metadata": {},
     "output_type": "display_data"
    },
    {
     "data": {
      "text/html": [
       "<style>\n",
       ".list-inline {list-style: none; margin:0; padding: 0}\n",
       ".list-inline>li {display: inline-block}\n",
       ".list-inline>li:not(:last-child)::after {content: \"\\00b7\"; padding: 0 .5ex}\n",
       "</style>\n",
       "<ol class=list-inline><li>1.25730047796669</li><li>6.62504033530323</li></ol>\n"
      ],
      "text/latex": [
       "\\begin{enumerate*}\n",
       "\\item 1.25730047796669\n",
       "\\item 6.62504033530323\n",
       "\\end{enumerate*}\n"
      ],
      "text/markdown": [
       "1. 1.25730047796669\n",
       "2. 6.62504033530323\n",
       "\n",
       "\n"
      ],
      "text/plain": [
       "[1] 1.25730 6.62504"
      ]
     },
     "metadata": {},
     "output_type": "display_data"
    }
   ],
   "source": [
    "xbar\n",
    "tsq=n*t(xbar-xmu)%*%solve(S)%*%(xbar-xmu)\n",
    "c(tsq,c2)# tsq <c2, xmu is in the region.\n",
    "#(equivalently, a test .... not reject H0 at the 5% level of signification)"
   ]
  },
  {
   "cell_type": "code",
   "execution_count": 73,
   "metadata": {
    "vscode": {
     "languageId": "r"
    }
   },
   "outputs": [
    {
     "data": {
      "image/png": "[encoded data removed]",
      "text/plain": [
       "plot without title"
      ]
     },
     "metadata": {
      "image/png": {
       "height": 420,
       "width": 420
      }
     },
     "output_type": "display_data"
    }
   ],
   "source": [
    "###draw ellipse\n",
    "#eig=eigen(S)\n",
    "a1=xbar-sqrt(c2*eig$value[1]/n)%*% eig$vector[,1] #equ 5-19\n",
    "b1=xbar+sqrt(c2*eig$value[1]/n)%*% eig$vector[,1]\n",
    "a2=xbar-sqrt(c2*eig$value[2]/n)%*% eig$vector[,2]\n",
    "b2=xbar+sqrt(c2*eig$value[2]/n)%*% eig$vector[,2]\n",
    "\n",
    "eli = ellipse(S, centre=xbar,t=sqrt(c2/n), npoint=5000)\n",
    "plot(eli, cex=.3,bty=\"n\", xlab=\"Radiation door closed-fourth root\", ylab=\"Radiation door open-fourth root\",\n",
    " xlim=c(.5,.7),ylim=c(.5,.7),type=\"l\",lwd=2,col=\"blue\")\n",
    " points(xbar[1],xbar[2],pch=19)\n",
    " segments(xbar[1],xbar[2],a1[1],a1[2])\n",
    " segments(xbar[1],xbar[2],b1[1],b1[2])\n",
    " segments(xbar[1],xbar[2],a2[1],a2[2])\n",
    " segments(xbar[1],xbar[2],b2[1],b2[2])\n",
    "\n"
   ]
  },
  {
   "cell_type": "code",
   "execution_count": 74,
   "metadata": {
    "vscode": {
     "languageId": "r"
    }
   },
   "outputs": [
    {
     "data": {
      "text/html": [
       "<table class=\"dataframe\">\n",
       "<caption>A matrix: 1 × 2 of type dbl</caption>\n",
       "<tbody>\n",
       "\t<tr><td>0.5190211</td><td>0.5573666</td></tr>\n",
       "</tbody>\n",
       "</table>\n"
      ],
      "text/latex": [
       "A matrix: 1 × 2 of type dbl\n",
       "\\begin{tabular}{ll}\n",
       "\t 0.5190211 & 0.5573666\\\\\n",
       "\\end{tabular}\n"
      ],
      "text/markdown": [
       "\n",
       "A matrix: 1 × 2 of type dbl\n",
       "\n",
       "| 0.5190211 | 0.5573666 |\n",
       "\n"
      ],
      "text/plain": [
       "     [,1]      [,2]     \n",
       "[1,] 0.5190211 0.5573666"
      ]
     },
     "metadata": {},
     "output_type": "display_data"
    }
   ],
   "source": [
    "a1"
   ]
  },
  {
   "cell_type": "code",
   "execution_count": null,
   "metadata": {
    "vscode": {
     "languageId": "r"
    }
   },
   "outputs": [],
   "source": []
  }
 ],
 "metadata": {
  "kernelspec": {
   "display_name": "R",
   "language": "R",
   "name": "ir"
  },
  "language_info": {
   "codemirror_mode": "r",
   "file_extension": ".r",
   "mimetype": "text/x-r-source",
   "name": "R",
   "pygments_lexer": "r",
   "version": "4.3.2"
  }
 },
 "nbformat": 4,
 "nbformat_minor": 2
}
