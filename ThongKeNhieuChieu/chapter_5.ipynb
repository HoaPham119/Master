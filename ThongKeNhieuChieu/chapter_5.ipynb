{
 "cells": [
  {
   "cell_type": "code",
   "execution_count": 1,
   "metadata": {
    "vscode": {
     "languageId": "r"
    }
   },
   "outputs": [],
   "source": [
    "base_path = getwd()\n",
    "setwd(base_path)"
   ]
  },
  {
   "cell_type": "code",
   "execution_count": 2,
   "metadata": {
    "vscode": {
     "languageId": "r"
    }
   },
   "outputs": [],
   "source": [
    "path = paste(base_path, \"Data/chap5/VD5-4 (STOCK).dat\", sep = \"/\")"
   ]
  },
  {
   "cell_type": "code",
   "execution_count": 3,
   "metadata": {
    "vscode": {
     "languageId": "r"
    }
   },
   "outputs": [
    {
     "data": {
      "text/html": [
       "<table class=\"dataframe\">\n",
       "<caption>A data.frame: 6 x 5</caption>\n",
       "<thead>\n",
       "\t<tr><th></th><th scope=col>JPMorgan</th><th scope=col>Citibank</th><th scope=col>Wells_Fargo</th><th scope=col>RDShell</th><th scope=col>ExmonMobil</th></tr>\n",
       "\t<tr><th></th><th scope=col>&lt;dbl&gt;</th><th scope=col>&lt;dbl&gt;</th><th scope=col>&lt;dbl&gt;</th><th scope=col>&lt;dbl&gt;</th><th scope=col>&lt;dbl&gt;</th></tr>\n",
       "</thead>\n",
       "<tbody>\n",
       "\t<tr><th scope=row>1</th><td> 0.0130338</td><td>-0.0078431</td><td>-0.0031889</td><td>-0.0447693</td><td> 0.0052151</td></tr>\n",
       "\t<tr><th scope=row>2</th><td> 0.0084862</td><td> 0.0166886</td><td>-0.0062100</td><td> 0.0119560</td><td> 0.0134890</td></tr>\n",
       "\t<tr><th scope=row>3</th><td>-0.0179153</td><td>-0.0086393</td><td> 0.0100360</td><td> 0.0000000</td><td>-0.0061428</td></tr>\n",
       "\t<tr><th scope=row>4</th><td> 0.0215589</td><td>-0.0034858</td><td> 0.0174353</td><td>-0.0285917</td><td>-0.0069534</td></tr>\n",
       "\t<tr><th scope=row>5</th><td> 0.0108225</td><td> 0.0037167</td><td>-0.0101345</td><td> 0.0291900</td><td> 0.0409751</td></tr>\n",
       "\t<tr><th scope=row>6</th><td> 0.0101713</td><td>-0.0121978</td><td>-0.0083768</td><td> 0.0137083</td><td> 0.0029895</td></tr>\n",
       "</tbody>\n",
       "</table>\n"
      ],
      "text/latex": [
       "A data.frame: 6 x 5\n",
       "\\begin{tabular}{r|lllll}\n",
       "  & JPMorgan & Citibank & Wells\\_Fargo & RDShell & ExmonMobil\\\\\n",
       "  & <dbl> & <dbl> & <dbl> & <dbl> & <dbl>\\\\\n",
       "\\hline\n",
       "\t1 &  0.0130338 & -0.0078431 & -0.0031889 & -0.0447693 &  0.0052151\\\\\n",
       "\t2 &  0.0084862 &  0.0166886 & -0.0062100 &  0.0119560 &  0.0134890\\\\\n",
       "\t3 & -0.0179153 & -0.0086393 &  0.0100360 &  0.0000000 & -0.0061428\\\\\n",
       "\t4 &  0.0215589 & -0.0034858 &  0.0174353 & -0.0285917 & -0.0069534\\\\\n",
       "\t5 &  0.0108225 &  0.0037167 & -0.0101345 &  0.0291900 &  0.0409751\\\\\n",
       "\t6 &  0.0101713 & -0.0121978 & -0.0083768 &  0.0137083 &  0.0029895\\\\\n",
       "\\end{tabular}\n"
      ],
      "text/markdown": [
       "\n",
       "A data.frame: 6 x 5\n",
       "\n",
       "| <!--/--> | JPMorgan &lt;dbl&gt; | Citibank &lt;dbl&gt; | Wells_Fargo &lt;dbl&gt; | RDShell &lt;dbl&gt; | ExmonMobil &lt;dbl&gt; |\n",
       "|---|---|---|---|---|---|\n",
       "| 1 |  0.0130338 | -0.0078431 | -0.0031889 | -0.0447693 |  0.0052151 |\n",
       "| 2 |  0.0084862 |  0.0166886 | -0.0062100 |  0.0119560 |  0.0134890 |\n",
       "| 3 | -0.0179153 | -0.0086393 |  0.0100360 |  0.0000000 | -0.0061428 |\n",
       "| 4 |  0.0215589 | -0.0034858 |  0.0174353 | -0.0285917 | -0.0069534 |\n",
       "| 5 |  0.0108225 |  0.0037167 | -0.0101345 |  0.0291900 |  0.0409751 |\n",
       "| 6 |  0.0101713 | -0.0121978 | -0.0083768 |  0.0137083 |  0.0029895 |\n",
       "\n"
      ],
      "text/plain": [
       "  JPMorgan   Citibank   Wells_Fargo RDShell    ExmonMobil\n",
       "1  0.0130338 -0.0078431 -0.0031889  -0.0447693  0.0052151\n",
       "2  0.0084862  0.0166886 -0.0062100   0.0119560  0.0134890\n",
       "3 -0.0179153 -0.0086393  0.0100360   0.0000000 -0.0061428\n",
       "4  0.0215589 -0.0034858  0.0174353  -0.0285917 -0.0069534\n",
       "5  0.0108225  0.0037167 -0.0101345   0.0291900  0.0409751\n",
       "6  0.0101713 -0.0121978 -0.0083768   0.0137083  0.0029895"
      ]
     },
     "metadata": {},
     "output_type": "display_data"
    }
   ],
   "source": [
    "df=read.table(path)\n",
    "names(df)=c(\"JPMorgan\",\"Citibank\",\"Wells_Fargo\",\"RDShell\", \"ExmonMobil\")\n",
    "head(df)"
   ]
  },
  {
   "cell_type": "code",
   "execution_count": 4,
   "metadata": {
    "vscode": {
     "languageId": "r"
    }
   },
   "outputs": [
    {
     "data": {
      "text/html": [
       "<style>\n",
       ".dl-inline {width: auto; margin:0; padding: 0}\n",
       ".dl-inline>dt, .dl-inline>dd {float: none; width: auto; display: inline-block}\n",
       ".dl-inline>dt::after {content: \":\\0020\"; padding-right: .5ex}\n",
       ".dl-inline>dt:not(:first-of-type) {padding-left: .5ex}\n",
       "</style><dl class=dl-inline><dt>JPMorgan</dt><dd>0.00106278058252427</dd><dt>Citibank</dt><dd>0.000655420388349515</dd><dt>Wells_Fargo</dt><dd>0.00162608155339806</dd><dt>RDShell</dt><dd>0.00404912524271845</dd><dt>ExmonMobil</dt><dd>0.00403864174757282</dd></dl>\n"
      ],
      "text/latex": [
       "\\begin{description*}\n",
       "\\item[JPMorgan] 0.00106278058252427\n",
       "\\item[Citibank] 0.000655420388349515\n",
       "\\item[Wells\\textbackslash{}\\_Fargo] 0.00162608155339806\n",
       "\\item[RDShell] 0.00404912524271845\n",
       "\\item[ExmonMobil] 0.00403864174757282\n",
       "\\end{description*}\n"
      ],
      "text/markdown": [
       "JPMorgan\n",
       ":   0.00106278058252427Citibank\n",
       ":   0.000655420388349515Wells_Fargo\n",
       ":   0.00162608155339806RDShell\n",
       ":   0.00404912524271845ExmonMobil\n",
       ":   0.00403864174757282\n",
       "\n"
      ],
      "text/plain": [
       "    JPMorgan     Citibank  Wells_Fargo      RDShell   ExmonMobil \n",
       "0.0010627806 0.0006554204 0.0016260816 0.0040491252 0.0040386417 "
      ]
     },
     "metadata": {},
     "output_type": "display_data"
    }
   ],
   "source": [
    "xbar = colMeans((df))\n",
    "xbar"
   ]
  },
  {
   "cell_type": "code",
   "execution_count": 5,
   "metadata": {
    "vscode": {
     "languageId": "r"
    }
   },
   "outputs": [
    {
     "data": {
      "text/html": [
       "<table class=\"dataframe\">\n",
       "<caption>A matrix: 5 x 5 of type dbl</caption>\n",
       "<thead>\n",
       "\t<tr><th></th><th scope=col>JPMorgan</th><th scope=col>Citibank</th><th scope=col>Wells_Fargo</th><th scope=col>RDShell</th><th scope=col>ExmonMobil</th></tr>\n",
       "</thead>\n",
       "<tbody>\n",
       "\t<tr><th scope=row>JPMorgan</th><td>1.0000000</td><td>0.6322878</td><td>0.5104973</td><td>0.1146019</td><td>0.1544628</td></tr>\n",
       "\t<tr><th scope=row>Citibank</th><td>0.6322878</td><td>1.0000000</td><td>0.5741424</td><td>0.3222921</td><td>0.2126747</td></tr>\n",
       "\t<tr><th scope=row>Wells_Fargo</th><td>0.5104973</td><td>0.5741424</td><td>1.0000000</td><td>0.1824992</td><td>0.1462067</td></tr>\n",
       "\t<tr><th scope=row>RDShell</th><td>0.1146019</td><td>0.3222921</td><td>0.1824992</td><td>1.0000000</td><td>0.6833777</td></tr>\n",
       "\t<tr><th scope=row>ExmonMobil</th><td>0.1544628</td><td>0.2126747</td><td>0.1462067</td><td>0.6833777</td><td>1.0000000</td></tr>\n",
       "</tbody>\n",
       "</table>\n"
      ],
      "text/latex": [
       "A matrix: 5 x 5 of type dbl\n",
       "\\begin{tabular}{r|lllll}\n",
       "  & JPMorgan & Citibank & Wells\\_Fargo & RDShell & ExmonMobil\\\\\n",
       "\\hline\n",
       "\tJPMorgan & 1.0000000 & 0.6322878 & 0.5104973 & 0.1146019 & 0.1544628\\\\\n",
       "\tCitibank & 0.6322878 & 1.0000000 & 0.5741424 & 0.3222921 & 0.2126747\\\\\n",
       "\tWells\\_Fargo & 0.5104973 & 0.5741424 & 1.0000000 & 0.1824992 & 0.1462067\\\\\n",
       "\tRDShell & 0.1146019 & 0.3222921 & 0.1824992 & 1.0000000 & 0.6833777\\\\\n",
       "\tExmonMobil & 0.1544628 & 0.2126747 & 0.1462067 & 0.6833777 & 1.0000000\\\\\n",
       "\\end{tabular}\n"
      ],
      "text/markdown": [
       "\n",
       "A matrix: 5 x 5 of type dbl\n",
       "\n",
       "| <!--/--> | JPMorgan | Citibank | Wells_Fargo | RDShell | ExmonMobil |\n",
       "|---|---|---|---|---|---|\n",
       "| JPMorgan | 1.0000000 | 0.6322878 | 0.5104973 | 0.1146019 | 0.1544628 |\n",
       "| Citibank | 0.6322878 | 1.0000000 | 0.5741424 | 0.3222921 | 0.2126747 |\n",
       "| Wells_Fargo | 0.5104973 | 0.5741424 | 1.0000000 | 0.1824992 | 0.1462067 |\n",
       "| RDShell | 0.1146019 | 0.3222921 | 0.1824992 | 1.0000000 | 0.6833777 |\n",
       "| ExmonMobil | 0.1544628 | 0.2126747 | 0.1462067 | 0.6833777 | 1.0000000 |\n",
       "\n"
      ],
      "text/plain": [
       "            JPMorgan  Citibank  Wells_Fargo RDShell   ExmonMobil\n",
       "JPMorgan    1.0000000 0.6322878 0.5104973   0.1146019 0.1544628 \n",
       "Citibank    0.6322878 1.0000000 0.5741424   0.3222921 0.2126747 \n",
       "Wells_Fargo 0.5104973 0.5741424 1.0000000   0.1824992 0.1462067 \n",
       "RDShell     0.1146019 0.3222921 0.1824992   1.0000000 0.6833777 \n",
       "ExmonMobil  0.1544628 0.2126747 0.1462067   0.6833777 1.0000000 "
      ]
     },
     "metadata": {},
     "output_type": "display_data"
    }
   ],
   "source": [
    "cor(df)"
   ]
  },
  {
   "cell_type": "code",
   "execution_count": 12,
   "metadata": {
    "vscode": {
     "languageId": "r"
    }
   },
   "outputs": [
    {
     "data": {
      "text/plain": [
       "eigen() decomposition\n",
       "$values\n",
       "[1] 2.4372731 1.4070127 0.5005127 0.4000316 0.2551699\n",
       "\n",
       "$vectors\n",
       "           [,1]       [,2]        [,3]       [,4]        [,5]\n",
       "[1,] -0.4690832  0.3680070  0.60431522  0.3630228  0.38412160\n",
       "[2,] -0.5324055  0.2364624  0.13610618 -0.6292079 -0.49618794\n",
       "[3,] -0.4651633  0.3151795 -0.77182810  0.2889658  0.07116948\n",
       "[4,] -0.3873459 -0.5850373 -0.09336192 -0.3812515  0.59466408\n",
       "[5,] -0.3606821 -0.6058463  0.10882629  0.4934145 -0.49755167\n"
      ]
     },
     "metadata": {},
     "output_type": "display_data"
    }
   ],
   "source": [
    "pc = eigen((cor(df)))\n",
    "pc"
   ]
  },
  {
   "cell_type": "code",
   "execution_count": 21,
   "metadata": {
    "vscode": {
     "languageId": "r"
    }
   },
   "outputs": [
    {
     "data": {
      "text/plain": [
       "Importance of components:\n",
       "                          Comp.1    Comp.2    Comp.3     Comp.4     Comp.5\n",
       "Standard deviation     1.5611768 1.1861756 0.7074693 0.63248050 0.50514343\n",
       "Proportion of Variance 0.4874546 0.2814025 0.1001025 0.08000632 0.05103398\n",
       "Cumulative Proportion  0.4874546 0.7688572 0.8689597 0.94896602 1.00000000\n",
       "\n",
       "Loadings:\n",
       "            Comp.1 Comp.2 Comp.3 Comp.4 Comp.5\n",
       "JPMorgan     0.469  0.368  0.604  0.363  0.384\n",
       "Citibank     0.532  0.236  0.136 -0.629 -0.496\n",
       "Wells_Fargo  0.465  0.315 -0.772  0.289       \n",
       "RDShell      0.387 -0.585        -0.381  0.595\n",
       "ExmonMobil   0.361 -0.606  0.109  0.493 -0.498"
      ]
     },
     "metadata": {},
     "output_type": "display_data"
    }
   ],
   "source": [
    "summary(princomp(df, cor = TRUE), loadings = TRUE)"
   ]
  },
  {
   "cell_type": "code",
   "execution_count": 25,
   "metadata": {
    "vscode": {
     "languageId": "r"
    }
   },
   "outputs": [
    {
     "data": {
      "text/plain": [
       "eigen() decomposition\n",
       "$values\n",
       "[1] 2.4372731 1.4070127 0.5005127 0.4000316 0.2551699\n",
       "\n",
       "$vectors\n",
       "           [,1]       [,2]        [,3]       [,4]        [,5]\n",
       "[1,] -0.4690832  0.3680070  0.60431522  0.3630228  0.38412160\n",
       "[2,] -0.5324055  0.2364624  0.13610618 -0.6292079 -0.49618794\n",
       "[3,] -0.4651633  0.3151795 -0.77182810  0.2889658  0.07116948\n",
       "[4,] -0.3873459 -0.5850373 -0.09336192 -0.3812515  0.59466408\n",
       "[5,] -0.3606821 -0.6058463  0.10882629  0.4934145 -0.49755167\n"
      ]
     },
     "metadata": {},
     "output_type": "display_data"
    }
   ],
   "source": [
    "\n",
    "pc = eigen(cor(-as.matrix(df)))\n",
    "pc"
   ]
  },
  {
   "cell_type": "code",
   "execution_count": null,
   "metadata": {
    "vscode": {
     "languageId": "r"
    }
   },
   "outputs": [],
   "source": []
  }
 ],
 "metadata": {
  "kernelspec": {
   "display_name": "R",
   "language": "R",
   "name": "ir"
  },
  "language_info": {
   "codemirror_mode": "r",
   "file_extension": ".r",
   "mimetype": "text/x-r-source",
   "name": "R",
   "pygments_lexer": "r",
   "version": "4.3.2"
  }
 },
 "nbformat": 4,
 "nbformat_minor": 2
}
