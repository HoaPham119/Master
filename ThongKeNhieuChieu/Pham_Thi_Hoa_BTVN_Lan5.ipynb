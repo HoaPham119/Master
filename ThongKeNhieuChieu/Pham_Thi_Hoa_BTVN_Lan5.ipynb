{
 "cells": [
  {
   "cell_type": "markdown",
   "metadata": {},
   "source": [
    "## Bài 3.3\n",
    "Với dữ liệu cho trong ví dụ 3.1\n",
    "- a. Tìm các khoảng tin cậy đồng thời 95% T2 cho nuy1, nuy2, nuy3\n",
    "- b. Tìm các khoảng tin cậy đồng thời Bonferroni 95% cho nuy1, nuy2, nuy3\n",
    "- c. So sánh kết quả ở câu a và b"
   ]
  },
  {
   "cell_type": "code",
   "execution_count": null,
   "metadata": {
    "vscode": {
     "languageId": "r"
    }
   },
   "outputs": [],
   "source": [
    "base_path = getwd()\n",
    "setwd(base_path)\n",
    "path = paste(base_path, \"Data/data_exo_chap4/exo4-6.dat\", sep = \"/\")"
   ]
  },
  {
   "cell_type": "code",
   "execution_count": 1,
   "metadata": {
    "vscode": {
     "languageId": "r"
    }
   },
   "outputs": [],
   "source": [
    "base_path = \"/Users/hoapham/Documents/Cá Nhân/Cao Học/Tài liệu học tập/Học Phầnn 1/4. Thống Kê Nhiều Chiều/Project\"\n"
   ]
  },
  {
   "cell_type": "code",
   "execution_count": 2,
   "metadata": {
    "vscode": {
     "languageId": "r"
    }
   },
   "outputs": [
    {
     "ename": "ERROR",
     "evalue": "Error in setwd(base_path): cannot change working directory\n",
     "output_type": "error",
     "traceback": [
      "Error in setwd(base_path): cannot change working directory\nTraceback:\n",
      "1. setwd(base_path)"
     ]
    }
   ],
   "source": [
    "setwd(base_path)"
   ]
  },
  {
   "cell_type": "code",
   "execution_count": null,
   "metadata": {
    "vscode": {
     "languageId": "r"
    }
   },
   "outputs": [],
   "source": [
    "\n",
    "path = paste(base_path, \"Chapter3/T5-1.dat\", sep = \"/\")"
   ]
  },
  {
   "cell_type": "code",
   "execution_count": null,
   "metadata": {
    "vscode": {
     "languageId": "r"
    }
   },
   "outputs": [
    {
     "data": {
      "text/html": [
       "<table class=\"dataframe\">\n",
       "<caption>A data.frame: 6 × 3</caption>\n",
       "<thead>\n",
       "\t<tr><th></th><th scope=col>V1</th><th scope=col>V2</th><th scope=col>V3</th></tr>\n",
       "\t<tr><th></th><th scope=col>&lt;dbl&gt;</th><th scope=col>&lt;dbl&gt;</th><th scope=col>&lt;dbl&gt;</th></tr>\n",
       "</thead>\n",
       "<tbody>\n",
       "\t<tr><th scope=row>1</th><td>3.7</td><td>48.5</td><td> 9.3</td></tr>\n",
       "\t<tr><th scope=row>2</th><td>5.7</td><td>65.1</td><td> 8.0</td></tr>\n",
       "\t<tr><th scope=row>3</th><td>3.8</td><td>47.2</td><td>10.9</td></tr>\n",
       "\t<tr><th scope=row>4</th><td>3.2</td><td>53.2</td><td>12.0</td></tr>\n",
       "\t<tr><th scope=row>5</th><td>3.1</td><td>55.5</td><td> 9.7</td></tr>\n",
       "\t<tr><th scope=row>6</th><td>4.6</td><td>36.1</td><td> 7.9</td></tr>\n",
       "</tbody>\n",
       "</table>\n"
      ],
      "text/latex": [
       "A data.frame: 6 × 3\n",
       "\\begin{tabular}{r|lll}\n",
       "  & V1 & V2 & V3\\\\\n",
       "  & <dbl> & <dbl> & <dbl>\\\\\n",
       "\\hline\n",
       "\t1 & 3.7 & 48.5 &  9.3\\\\\n",
       "\t2 & 5.7 & 65.1 &  8.0\\\\\n",
       "\t3 & 3.8 & 47.2 & 10.9\\\\\n",
       "\t4 & 3.2 & 53.2 & 12.0\\\\\n",
       "\t5 & 3.1 & 55.5 &  9.7\\\\\n",
       "\t6 & 4.6 & 36.1 &  7.9\\\\\n",
       "\\end{tabular}\n"
      ],
      "text/markdown": [
       "\n",
       "A data.frame: 6 × 3\n",
       "\n",
       "| <!--/--> | V1 &lt;dbl&gt; | V2 &lt;dbl&gt; | V3 &lt;dbl&gt; |\n",
       "|---|---|---|---|\n",
       "| 1 | 3.7 | 48.5 |  9.3 |\n",
       "| 2 | 5.7 | 65.1 |  8.0 |\n",
       "| 3 | 3.8 | 47.2 | 10.9 |\n",
       "| 4 | 3.2 | 53.2 | 12.0 |\n",
       "| 5 | 3.1 | 55.5 |  9.7 |\n",
       "| 6 | 4.6 | 36.1 |  7.9 |\n",
       "\n"
      ],
      "text/plain": [
       "  V1  V2   V3  \n",
       "1 3.7 48.5  9.3\n",
       "2 5.7 65.1  8.0\n",
       "3 3.8 47.2 10.9\n",
       "4 3.2 53.2 12.0\n",
       "5 3.1 55.5  9.7\n",
       "6 4.6 36.1  7.9"
      ]
     },
     "metadata": {},
     "output_type": "display_data"
    }
   ],
   "source": [
    "df=read.table(path)\n",
    "head(df)"
   ]
  },
  {
   "cell_type": "code",
   "execution_count": null,
   "metadata": {
    "vscode": {
     "languageId": "r"
    }
   },
   "outputs": [
    {
     "data": {
      "text/html": [
       "<style>\n",
       ".list-inline {list-style: none; margin:0; padding: 0}\n",
       ".list-inline>li {display: inline-block}\n",
       ".list-inline>li:not(:last-child)::after {content: \"\\00b7\"; padding: 0 .5ex}\n",
       "</style>\n",
       "<ol class=list-inline><li>20</li><li>3</li></ol>\n"
      ],
      "text/latex": [
       "\\begin{enumerate*}\n",
       "\\item 20\n",
       "\\item 3\n",
       "\\end{enumerate*}\n"
      ],
      "text/markdown": [
       "1. 20\n",
       "2. 3\n",
       "\n",
       "\n"
      ],
      "text/plain": [
       "[1] 20  3"
      ]
     },
     "metadata": {},
     "output_type": "display_data"
    }
   ],
   "source": [
    "names(df)=c(\"rate\",\"sodium\",\"potas\")\n",
    "n=nrow(df)\n",
    "p=ncol(df)\n",
    "dim(df)"
   ]
  },
  {
   "cell_type": "code",
   "execution_count": null,
   "metadata": {
    "vscode": {
     "languageId": "r"
    }
   },
   "outputs": [
    {
     "data": {
      "text/html": [
       "<style>\n",
       ".dl-inline {width: auto; margin:0; padding: 0}\n",
       ".dl-inline>dt, .dl-inline>dd {float: none; width: auto; display: inline-block}\n",
       ".dl-inline>dt::after {content: \":\\0020\"; padding-right: .5ex}\n",
       ".dl-inline>dt:not(:first-of-type) {padding-left: .5ex}\n",
       "</style><dl class=dl-inline><dt>rate</dt><dd>4.64</dd><dt>sodium</dt><dd>45.4</dd><dt>potas</dt><dd>9.965</dd></dl>\n"
      ],
      "text/latex": [
       "\\begin{description*}\n",
       "\\item[rate] 4.64\n",
       "\\item[sodium] 45.4\n",
       "\\item[potas] 9.965\n",
       "\\end{description*}\n"
      ],
      "text/markdown": [
       "rate\n",
       ":   4.64sodium\n",
       ":   45.4potas\n",
       ":   9.965\n",
       "\n"
      ],
      "text/plain": [
       "  rate sodium  potas \n",
       " 4.640 45.400  9.965 "
      ]
     },
     "metadata": {},
     "output_type": "display_data"
    }
   ],
   "source": [
    "(xbar=colMeans(df))\n"
   ]
  },
  {
   "cell_type": "code",
   "execution_count": null,
   "metadata": {
    "vscode": {
     "languageId": "r"
    }
   },
   "outputs": [
    {
     "data": {
      "text/html": [
       "<table class=\"dataframe\">\n",
       "<caption>A matrix: 3 × 3 of type dbl</caption>\n",
       "<thead>\n",
       "\t<tr><th></th><th scope=col>rate</th><th scope=col>sodium</th><th scope=col>potas</th></tr>\n",
       "</thead>\n",
       "<tbody>\n",
       "\t<tr><th scope=row>rate</th><td> 2.879368</td><td> 10.0100</td><td>-1.809053</td></tr>\n",
       "\t<tr><th scope=row>sodium</th><td>10.010000</td><td>199.7884</td><td>-5.640000</td></tr>\n",
       "\t<tr><th scope=row>potas</th><td>-1.809053</td><td> -5.6400</td><td> 3.627658</td></tr>\n",
       "</tbody>\n",
       "</table>\n"
      ],
      "text/latex": [
       "A matrix: 3 × 3 of type dbl\n",
       "\\begin{tabular}{r|lll}\n",
       "  & rate & sodium & potas\\\\\n",
       "\\hline\n",
       "\trate &  2.879368 &  10.0100 & -1.809053\\\\\n",
       "\tsodium & 10.010000 & 199.7884 & -5.640000\\\\\n",
       "\tpotas & -1.809053 &  -5.6400 &  3.627658\\\\\n",
       "\\end{tabular}\n"
      ],
      "text/markdown": [
       "\n",
       "A matrix: 3 × 3 of type dbl\n",
       "\n",
       "| <!--/--> | rate | sodium | potas |\n",
       "|---|---|---|---|\n",
       "| rate |  2.879368 |  10.0100 | -1.809053 |\n",
       "| sodium | 10.010000 | 199.7884 | -5.640000 |\n",
       "| potas | -1.809053 |  -5.6400 |  3.627658 |\n",
       "\n"
      ],
      "text/plain": [
       "       rate      sodium   potas    \n",
       "rate    2.879368  10.0100 -1.809053\n",
       "sodium 10.010000 199.7884 -5.640000\n",
       "potas  -1.809053  -5.6400  3.627658"
      ]
     },
     "metadata": {},
     "output_type": "display_data"
    }
   ],
   "source": [
    "(S=cov(df))"
   ]
  },
  {
   "cell_type": "code",
   "execution_count": null,
   "metadata": {
    "vscode": {
     "languageId": "r"
    }
   },
   "outputs": [
    {
     "data": {
      "text/html": [
       "<table class=\"dataframe\">\n",
       "<caption>A matrix: 3 × 3 of type dbl</caption>\n",
       "<thead>\n",
       "\t<tr><th></th><th scope=col>rate</th><th scope=col>sodium</th><th scope=col>potas</th></tr>\n",
       "</thead>\n",
       "<tbody>\n",
       "\t<tr><th scope=row>rate</th><td> 0.58615531</td><td>-0.022085719</td><td> 0.257968742</td></tr>\n",
       "\t<tr><th scope=row>sodium</th><td>-0.02208572</td><td> 0.006067227</td><td>-0.001580929</td></tr>\n",
       "\t<tr><th scope=row>potas</th><td> 0.25796874</td><td>-0.001580929</td><td> 0.401846765</td></tr>\n",
       "</tbody>\n",
       "</table>\n"
      ],
      "text/latex": [
       "A matrix: 3 × 3 of type dbl\n",
       "\\begin{tabular}{r|lll}\n",
       "  & rate & sodium & potas\\\\\n",
       "\\hline\n",
       "\trate &  0.58615531 & -0.022085719 &  0.257968742\\\\\n",
       "\tsodium & -0.02208572 &  0.006067227 & -0.001580929\\\\\n",
       "\tpotas &  0.25796874 & -0.001580929 &  0.401846765\\\\\n",
       "\\end{tabular}\n"
      ],
      "text/markdown": [
       "\n",
       "A matrix: 3 × 3 of type dbl\n",
       "\n",
       "| <!--/--> | rate | sodium | potas |\n",
       "|---|---|---|---|\n",
       "| rate |  0.58615531 | -0.022085719 |  0.257968742 |\n",
       "| sodium | -0.02208572 |  0.006067227 | -0.001580929 |\n",
       "| potas |  0.25796874 | -0.001580929 |  0.401846765 |\n",
       "\n"
      ],
      "text/plain": [
       "       rate        sodium       potas       \n",
       "rate    0.58615531 -0.022085719  0.257968742\n",
       "sodium -0.02208572  0.006067227 -0.001580929\n",
       "potas   0.25796874 -0.001580929  0.401846765"
      ]
     },
     "metadata": {},
     "output_type": "display_data"
    }
   ],
   "source": [
    "(solve(S))"
   ]
  },
  {
   "cell_type": "code",
   "execution_count": null,
   "metadata": {
    "vscode": {
     "languageId": "r"
    }
   },
   "outputs": [
    {
     "data": {
      "text/html": [
       "<style>\n",
       ".list-inline {list-style: none; margin:0; padding: 0}\n",
       ".list-inline>li {display: inline-block}\n",
       ".list-inline>li:not(:last-child)::after {content: \"\\00b7\"; padding: 0 .5ex}\n",
       "</style>\n",
       "<ol class=list-inline><li>200.462464464045</li><li>4.53159053225057</li><li>1.30139237212564</li></ol>\n"
      ],
      "text/latex": [
       "\\begin{enumerate*}\n",
       "\\item 200.462464464045\n",
       "\\item 4.53159053225057\n",
       "\\item 1.30139237212564\n",
       "\\end{enumerate*}\n"
      ],
      "text/markdown": [
       "1. 200.462464464045\n",
       "2. 4.53159053225057\n",
       "3. 1.30139237212564\n",
       "\n",
       "\n"
      ],
      "text/plain": [
       "[1] 200.462464   4.531591   1.301392"
      ]
     },
     "metadata": {},
     "output_type": "display_data"
    },
    {
     "data": {
      "text/html": [
       "<table class=\"dataframe\">\n",
       "<caption>A matrix: 3 × 3 of type dbl</caption>\n",
       "<tbody>\n",
       "\t<tr><td>-0.05084144</td><td>-0.57370364</td><td> 0.81748351</td></tr>\n",
       "\t<tr><td>-0.99828352</td><td> 0.05302042</td><td>-0.02487655</td></tr>\n",
       "\t<tr><td> 0.02907156</td><td> 0.81734508</td><td> 0.57541452</td></tr>\n",
       "</tbody>\n",
       "</table>\n"
      ],
      "text/latex": [
       "A matrix: 3 × 3 of type dbl\n",
       "\\begin{tabular}{lll}\n",
       "\t -0.05084144 & -0.57370364 &  0.81748351\\\\\n",
       "\t -0.99828352 &  0.05302042 & -0.02487655\\\\\n",
       "\t  0.02907156 &  0.81734508 &  0.57541452\\\\\n",
       "\\end{tabular}\n"
      ],
      "text/markdown": [
       "\n",
       "A matrix: 3 × 3 of type dbl\n",
       "\n",
       "| -0.05084144 | -0.57370364 |  0.81748351 |\n",
       "| -0.99828352 |  0.05302042 | -0.02487655 |\n",
       "|  0.02907156 |  0.81734508 |  0.57541452 |\n",
       "\n"
      ],
      "text/plain": [
       "     [,1]        [,2]        [,3]       \n",
       "[1,] -0.05084144 -0.57370364  0.81748351\n",
       "[2,] -0.99828352  0.05302042 -0.02487655\n",
       "[3,]  0.02907156  0.81734508  0.57541452"
      ]
     },
     "metadata": {},
     "output_type": "display_data"
    }
   ],
   "source": [
    "#eigenvalue and eigenvector pairs for S\n",
    "eig=eigen(S)\n",
    "eig$values\n",
    "eig$vectors"
   ]
  },
  {
   "cell_type": "markdown",
   "metadata": {},
   "source": [
    "- a. Tìm các khoảng tin cậy đồng thời 95% T^2 cho nuy1, nuy2, nuy3"
   ]
  },
  {
   "cell_type": "code",
   "execution_count": null,
   "metadata": {
    "vscode": {
     "languageId": "r"
    }
   },
   "outputs": [
    {
     "data": {
      "text/html": [
       "3.27392802333627"
      ],
      "text/latex": [
       "3.27392802333627"
      ],
      "text/markdown": [
       "3.27392802333627"
      ],
      "text/plain": [
       "[1] 3.273928"
      ]
     },
     "metadata": {},
     "output_type": "display_data"
    }
   ],
   "source": [
    "#Tìm F(p, n-p) với alpha = 0.05\n",
    "f = qf(0.95,p,n-p)\n",
    "# Tìm c:\n",
    "c = sqrt(\n",
    "    (p*(n-1)*f)/(n-p)\n",
    "    )\n",
    "c"
   ]
  },
  {
   "cell_type": "code",
   "execution_count": null,
   "metadata": {
    "vscode": {
     "languageId": "r"
    }
   },
   "outputs": [
    {
     "data": {
      "text/html": [
       "<table class=\"dataframe\">\n",
       "<caption>A matrix: 3 × 3 of type dbl</caption>\n",
       "<tbody>\n",
       "\t<tr><td>1</td><td>0</td><td>0</td></tr>\n",
       "\t<tr><td>0</td><td>1</td><td>0</td></tr>\n",
       "\t<tr><td>0</td><td>0</td><td>1</td></tr>\n",
       "</tbody>\n",
       "</table>\n"
      ],
      "text/latex": [
       "A matrix: 3 × 3 of type dbl\n",
       "\\begin{tabular}{lll}\n",
       "\t 1 & 0 & 0\\\\\n",
       "\t 0 & 1 & 0\\\\\n",
       "\t 0 & 0 & 1\\\\\n",
       "\\end{tabular}\n"
      ],
      "text/markdown": [
       "\n",
       "A matrix: 3 × 3 of type dbl\n",
       "\n",
       "| 1 | 0 | 0 |\n",
       "| 0 | 1 | 0 |\n",
       "| 0 | 0 | 1 |\n",
       "\n"
      ],
      "text/plain": [
       "     [,1] [,2] [,3]\n",
       "[1,] 1    0    0   \n",
       "[2,] 0    1    0   \n",
       "[3,] 0    0    1   "
      ]
     },
     "metadata": {},
     "output_type": "display_data"
    }
   ],
   "source": [
    "# Chọn a\n",
    "a = diag(3)\n",
    "a"
   ]
  },
  {
   "cell_type": "code",
   "execution_count": null,
   "metadata": {
    "vscode": {
     "languageId": "r"
    }
   },
   "outputs": [
    {
     "name": "stdout",
     "output_type": "stream",
     "text": [
      "[1] \"Vậy khoảng tin cậy đồng thời T2 cho nuy1, nuy2, nuy3 là:\"\n"
     ]
    },
    {
     "data": {
      "text/html": [
       "<style>\n",
       ".dl-inline {width: auto; margin:0; padding: 0}\n",
       ".dl-inline>dt, .dl-inline>dd {float: none; width: auto; display: inline-block}\n",
       ".dl-inline>dt::after {content: \":\\0020\"; padding-right: .5ex}\n",
       ".dl-inline>dt:not(:first-of-type) {padding-left: .5ex}\n",
       "</style><dl class=dl-inline><dt>rate</dt><dd>3.39776789816383</dd><dt>rate</dt><dd>5.88223210183617</dd><dt>sodium</dt><dd>35.0524082287297</dd><dt>sodium</dt><dd>55.7475917712703</dd><dt>potas</dt><dd>8.57066447782959</dd><dt>potas</dt><dd>11.3593355221704</dd></dl>\n"
      ],
      "text/latex": [
       "\\begin{description*}\n",
       "\\item[rate] 3.39776789816383\n",
       "\\item[rate] 5.88223210183617\n",
       "\\item[sodium] 35.0524082287297\n",
       "\\item[sodium] 55.7475917712703\n",
       "\\item[potas] 8.57066447782959\n",
       "\\item[potas] 11.3593355221704\n",
       "\\end{description*}\n"
      ],
      "text/markdown": [
       "rate\n",
       ":   3.39776789816383rate\n",
       ":   5.88223210183617sodium\n",
       ":   35.0524082287297sodium\n",
       ":   55.7475917712703potas\n",
       ":   8.57066447782959potas\n",
       ":   11.3593355221704\n",
       "\n"
      ],
      "text/plain": [
       "     rate      rate    sodium    sodium     potas     potas \n",
       " 3.397768  5.882232 35.052408 55.747592  8.570664 11.359336 "
      ]
     },
     "metadata": {},
     "output_type": "display_data"
    }
   ],
   "source": [
    "# Tìm Khoảng tin cậy đồng thời T2 cho nuy1, nuy2, nuy3\n",
    "# Áp dụng công thức số 12 ta được:\n",
    "T2_ktc = c()\n",
    "for (i in 1:3)\n",
    "{\n",
    "value = c(\n",
    "    t(a[i,])%*%xbar - c*sqrt(t(a[i,])%*%S%*%a[i,]/n),\n",
    "    t(a[i,])%*%xbar + c*sqrt(t(a[i,])%*%S%*%a[i,]/n)\n",
    "    )\n",
    "#  Tên \n",
    "names(value)= c(names(df)[i], names(df)[i])\n",
    "T2_ktc = append(T2_ktc,value)\n",
    "}\n",
    "print(\"Vậy khoảng tin cậy đồng thời T2 cho nuy1, nuy2, nuy3 là:\")\n",
    "T2_ktc"
   ]
  },
  {
   "cell_type": "markdown",
   "metadata": {},
   "source": [
    "- b. Tìm các khoảng tin cậy đồng thời Bonferroni 95% cho nuy1, nuy2, nuy3"
   ]
  },
  {
   "cell_type": "code",
   "execution_count": null,
   "metadata": {
    "vscode": {
     "languageId": "r"
    }
   },
   "outputs": [
    {
     "data": {
      "text/html": [
       "2.62510591322279"
      ],
      "text/latex": [
       "2.62510591322279"
      ],
      "text/markdown": [
       "2.62510591322279"
      ],
      "text/plain": [
       "[1] 2.625106"
      ]
     },
     "metadata": {},
     "output_type": "display_data"
    }
   ],
   "source": [
    "t = qt(1-(1-0.95)/(2*p),n-1)\n",
    "t"
   ]
  },
  {
   "cell_type": "code",
   "execution_count": null,
   "metadata": {
    "vscode": {
     "languageId": "r"
    }
   },
   "outputs": [
    {
     "data": {
      "text/html": [
       "<style>\n",
       ".dl-inline {width: auto; margin:0; padding: 0}\n",
       ".dl-inline>dt, .dl-inline>dd {float: none; width: auto; display: inline-block}\n",
       ".dl-inline>dt::after {content: \":\\0020\"; padding-right: .5ex}\n",
       ".dl-inline>dt:not(:first-of-type) {padding-left: .5ex}\n",
       "</style><dl class=dl-inline><dt>rate</dt><dd>3.64395157960674</dd><dt>rate</dt><dd>5.63604842039326</dd><dt>sodium</dt><dd>37.1030783350282</dd><dt>sodium</dt><dd>53.6969216649718</dd><dt>potas</dt><dd>8.84699178534898</dd><dt>potas</dt><dd>11.083008214651</dd></dl>\n"
      ],
      "text/latex": [
       "\\begin{description*}\n",
       "\\item[rate] 3.64395157960674\n",
       "\\item[rate] 5.63604842039326\n",
       "\\item[sodium] 37.1030783350282\n",
       "\\item[sodium] 53.6969216649718\n",
       "\\item[potas] 8.84699178534898\n",
       "\\item[potas] 11.083008214651\n",
       "\\end{description*}\n"
      ],
      "text/markdown": [
       "rate\n",
       ":   3.64395157960674rate\n",
       ":   5.63604842039326sodium\n",
       ":   37.1030783350282sodium\n",
       ":   53.6969216649718potas\n",
       ":   8.84699178534898potas\n",
       ":   11.083008214651\n",
       "\n"
      ],
      "text/plain": [
       "     rate      rate    sodium    sodium     potas     potas \n",
       " 3.643952  5.636048 37.103078 53.696922  8.846992 11.083008 "
      ]
     },
     "metadata": {},
     "output_type": "display_data"
    }
   ],
   "source": [
    "bf_ktc = c()\n",
    "for(i in 1:3)\n",
    "{\n",
    "value = c(\n",
    "    xbar[i] - t*sqrt(S[i,i]/n),\n",
    "    xbar[i] + t*sqrt(S[i,i]/n)\n",
    "    )\n",
    "names(value)= c(names(df)[i], names(df)[i])\n",
    "bf_ktc = append(bf_ktc,value)\n",
    "}\n",
    "bf_ktc"
   ]
  },
  {
   "cell_type": "markdown",
   "metadata": {},
   "source": [
    "##### c. Nhận xét:\n",
    "- Với cùng độ tin cậy 95% ta thấy khoảng tin cậy đồng thời T2 có chứa khoảng tin cậy đồng thời Bonferroni nghĩa là khoảng tin cậy đồng thời ở câu b (Bonferroni) tốt hơn khoảng tin cậy đồng thời T2 ở câu a"
   ]
  },
  {
   "cell_type": "markdown",
   "metadata": {},
   "source": [
    "## Bài 3.4\n",
    "- Xét các véc tờ Xi độc lập và có cùng phân phối N2(nuy, xích ma). Với các quan trắc xi...x42, ta được trung bình mẫu\n",
    "- x_tb = (0.564, 0.603)'\n",
    "- S = [\n",
    "    [0.0144, 0.0117],\n",
    "    [0.0117, 0.0146]\n",
    "    ]\n",
    "\n",
    "Tìm miền tin cậy kích thước alpha cho nuy = (nuy1, nuy2)'\n",
    "- a. Tìm ước lượng hợp lý cực đại cho xích ma\n",
    "- b. Xác định miền tin cậy Ellipse, R1 cho nuy\n",
    "- c. nuy1 = (0.60, 0.58) có năm ftrong R1 không?\n",
    "- d. TÌm các khoảng tin cậy đồng thời cho nuy1 và nuy2. Miền tin cậy tương ứng gọi là R2.\n",
    "- e. Kiểm định:\n",
    "- H0: nuy =(0.60, 0.58), so với H1: H0 không đúng"
   ]
  },
  {
   "cell_type": "code",
   "execution_count": null,
   "metadata": {
    "vscode": {
     "languageId": "r"
    }
   },
   "outputs": [
    {
     "name": "stderr",
     "output_type": "stream",
     "text": [
      "\n",
      "Attaching package: ‘ellipse’\n",
      "\n",
      "\n",
      "The following object is masked from ‘package:graphics’:\n",
      "\n",
      "    pairs\n",
      "\n",
      "\n"
     ]
    }
   ],
   "source": [
    "library(ellipse)"
   ]
  },
  {
   "cell_type": "code",
   "execution_count": null,
   "metadata": {
    "vscode": {
     "languageId": "r"
    }
   },
   "outputs": [],
   "source": [
    "p = 2\n",
    "n = 42"
   ]
  },
  {
   "cell_type": "code",
   "execution_count": null,
   "metadata": {
    "vscode": {
     "languageId": "r"
    }
   },
   "outputs": [
    {
     "data": {
      "text/html": [
       "<table class=\"dataframe\">\n",
       "<caption>A matrix: 2 × 1 of type dbl</caption>\n",
       "<tbody>\n",
       "\t<tr><td>0.564</td></tr>\n",
       "\t<tr><td>0.603</td></tr>\n",
       "</tbody>\n",
       "</table>\n"
      ],
      "text/latex": [
       "A matrix: 2 × 1 of type dbl\n",
       "\\begin{tabular}{l}\n",
       "\t 0.564\\\\\n",
       "\t 0.603\\\\\n",
       "\\end{tabular}\n"
      ],
      "text/markdown": [
       "\n",
       "A matrix: 2 × 1 of type dbl\n",
       "\n",
       "| 0.564 |\n",
       "| 0.603 |\n",
       "\n"
      ],
      "text/plain": [
       "     [,1] \n",
       "[1,] 0.564\n",
       "[2,] 0.603"
      ]
     },
     "metadata": {},
     "output_type": "display_data"
    }
   ],
   "source": [
    "cells_x = c(0.564, 0.603)\n",
    "xbar = matrix(cells_x, 2,1)\n",
    "xbar"
   ]
  },
  {
   "cell_type": "code",
   "execution_count": null,
   "metadata": {
    "vscode": {
     "languageId": "r"
    }
   },
   "outputs": [
    {
     "data": {
      "text/html": [
       "<table class=\"dataframe\">\n",
       "<caption>A matrix: 2 × 2 of type dbl</caption>\n",
       "<tbody>\n",
       "\t<tr><td>0.0144</td><td>0.0117</td></tr>\n",
       "\t<tr><td>0.0117</td><td>0.0146</td></tr>\n",
       "</tbody>\n",
       "</table>\n"
      ],
      "text/latex": [
       "A matrix: 2 × 2 of type dbl\n",
       "\\begin{tabular}{ll}\n",
       "\t 0.0144 & 0.0117\\\\\n",
       "\t 0.0117 & 0.0146\\\\\n",
       "\\end{tabular}\n"
      ],
      "text/markdown": [
       "\n",
       "A matrix: 2 × 2 of type dbl\n",
       "\n",
       "| 0.0144 | 0.0117 |\n",
       "| 0.0117 | 0.0146 |\n",
       "\n"
      ],
      "text/plain": [
       "     [,1]   [,2]  \n",
       "[1,] 0.0144 0.0117\n",
       "[2,] 0.0117 0.0146"
      ]
     },
     "metadata": {},
     "output_type": "display_data"
    }
   ],
   "source": [
    "cells_s = c(0.0144, 0.0117, 0.0117, 0.0146)\n",
    "S = matrix(cells_s, 2,2)\n",
    "S"
   ]
  },
  {
   "cell_type": "markdown",
   "metadata": {},
   "source": [
    "- a. Tìm ước lượng hợp lý cực đại cho xichma"
   ]
  },
  {
   "cell_type": "code",
   "execution_count": null,
   "metadata": {
    "vscode": {
     "languageId": "r"
    }
   },
   "outputs": [
    {
     "data": {
      "text/html": [
       "<table class=\"dataframe\">\n",
       "<caption>A matrix: 2 × 2 of type dbl</caption>\n",
       "<tbody>\n",
       "\t<tr><td> 199.0457</td><td>-159.5092</td></tr>\n",
       "\t<tr><td>-159.5092</td><td> 196.3190</td></tr>\n",
       "</tbody>\n",
       "</table>\n"
      ],
      "text/latex": [
       "A matrix: 2 × 2 of type dbl\n",
       "\\begin{tabular}{ll}\n",
       "\t  199.0457 & -159.5092\\\\\n",
       "\t -159.5092 &  196.3190\\\\\n",
       "\\end{tabular}\n"
      ],
      "text/markdown": [
       "\n",
       "A matrix: 2 × 2 of type dbl\n",
       "\n",
       "|  199.0457 | -159.5092 |\n",
       "| -159.5092 |  196.3190 |\n",
       "\n"
      ],
      "text/plain": [
       "     [,1]      [,2]     \n",
       "[1,]  199.0457 -159.5092\n",
       "[2,] -159.5092  196.3190"
      ]
     },
     "metadata": {},
     "output_type": "display_data"
    }
   ],
   "source": [
    "# Áp dụng định lý 2.2.1 ta có ước lượng hợp lý cực đại cho xichma:\n",
    "S_inv = solve(S)\n",
    "S_inv"
   ]
  },
  {
   "cell_type": "markdown",
   "metadata": {},
   "source": [
    "- b. Xác định miền tin cậy Ellipse, R1 cho nuy"
   ]
  },
  {
   "cell_type": "code",
   "execution_count": null,
   "metadata": {
    "vscode": {
     "languageId": "r"
    }
   },
   "outputs": [],
   "source": [
    "# Tìm c2\n",
    "f = qf(0.95,p,n-p)\n",
    "# Tìm c:\n",
    "c2 = \n",
    "    (p*(n-1)*f)/(n-p)/n\n",
    "    "
   ]
  },
  {
   "cell_type": "code",
   "execution_count": null,
   "metadata": {
    "vscode": {
     "languageId": "r"
    }
   },
   "outputs": [
    {
     "data": {
      "text/html": [
       "0.516340348294649"
      ],
      "text/latex": [
       "0.516340348294649"
      ],
      "text/markdown": [
       "0.516340348294649"
      ],
      "text/plain": [
       "[1] 0.5163403"
      ]
     },
     "metadata": {},
     "output_type": "display_data"
    },
    {
     "data": {
      "text/html": [
       "0.611659651705351"
      ],
      "text/latex": [
       "0.611659651705351"
      ],
      "text/markdown": [
       "0.611659651705351"
      ],
      "text/plain": [
       "[1] 0.6116597"
      ]
     },
     "metadata": {},
     "output_type": "display_data"
    },
    {
     "data": {
      "text/html": [
       "0.555010519779895"
      ],
      "text/latex": [
       "0.555010519779895"
      ],
      "text/markdown": [
       "0.555010519779895"
      ],
      "text/plain": [
       "[1] 0.5550105"
      ]
     },
     "metadata": {},
     "output_type": "display_data"
    },
    {
     "data": {
      "text/html": [
       "0.650989480220105"
      ],
      "text/latex": [
       "0.650989480220105"
      ],
      "text/markdown": [
       "0.650989480220105"
      ],
      "text/plain": [
       "[1] 0.6509895"
      ]
     },
     "metadata": {},
     "output_type": "display_data"
    },
    {
     "data": {
      "image/png": "[encoded data removed]",
      "text/plain": [
       "plot without title"
      ]
     },
     "metadata": {
      "image/png": {
       "height": 420,
       "width": 420
      }
     },
     "output_type": "display_data"
    }
   ],
   "source": [
    "# Miền tin cậy Ellipse R1 cho nuy\n",
    "# Với x1\n",
    "xbar[1]-sqrt(c2*S[1,1]) ##equ 5-24\n",
    "xbar[1]+sqrt(c2*S[1,1])\n",
    "# Với x2\n",
    "xbar[2]-sqrt(c2*S[2,2])\n",
    "xbar[2]+sqrt(c2*S[2,2])\n",
    "\n",
    "eli = ellipse(S, centre=xbar,t=sqrt(c2), npoint=5000)\n",
    " plot(eli, cex=.3,bty=\"n\", xlab=\"X1\", ylab=\"X2\",\n",
    " xlim=c(.5,.7),ylim=c(.5,.7),type=\"l\",lwd=2,col=\"blue\")\n",
    " segments(.516,.45,.516,.56,lty=2)\n",
    " segments(.612,.45,.612,.641,lty=2)\n",
    " segments(.45,.651,.60,.651,lty=2)\n",
    " segments(.45,.555,.522,.555,lty=2)\n"
   ]
  },
  {
   "cell_type": "markdown",
   "metadata": {},
   "source": [
    "- c. nuy1 = (0.60, 0.58) có năm ftrong R1 không?"
   ]
  },
  {
   "cell_type": "code",
   "execution_count": null,
   "metadata": {
    "vscode": {
     "languageId": "r"
    }
   },
   "outputs": [
    {
     "data": {
      "text/html": [
       "<table class=\"dataframe\">\n",
       "<caption>A matrix: 2 × 1 of type dbl</caption>\n",
       "<tbody>\n",
       "\t<tr><td>0.60</td></tr>\n",
       "\t<tr><td>0.58</td></tr>\n",
       "</tbody>\n",
       "</table>\n"
      ],
      "text/latex": [
       "A matrix: 2 × 1 of type dbl\n",
       "\\begin{tabular}{l}\n",
       "\t 0.60\\\\\n",
       "\t 0.58\\\\\n",
       "\\end{tabular}\n"
      ],
      "text/markdown": [
       "\n",
       "A matrix: 2 × 1 of type dbl\n",
       "\n",
       "| 0.60 |\n",
       "| 0.58 |\n",
       "\n"
      ],
      "text/plain": [
       "     [,1]\n",
       "[1,] 0.60\n",
       "[2,] 0.58"
      ]
     },
     "metadata": {},
     "output_type": "display_data"
    }
   ],
   "source": [
    "cells_nuy_0 = c(0.60, 0.58)\n",
    "nuy_0 = matrix(cells_nuy_0, 2,1)\n",
    "nuy_0"
   ]
  },
  {
   "cell_type": "code",
   "execution_count": null,
   "metadata": {
    "vscode": {
     "languageId": "r"
    }
   },
   "outputs": [
    {
     "data": {
      "text/html": [
       "<table class=\"dataframe\">\n",
       "<caption>A matrix: 1 × 1 of type dbl</caption>\n",
       "<tbody>\n",
       "\t<tr><td>0.3053479</td></tr>\n",
       "</tbody>\n",
       "</table>\n"
      ],
      "text/latex": [
       "A matrix: 1 × 1 of type dbl\n",
       "\\begin{tabular}{l}\n",
       "\t 0.3053479\\\\\n",
       "\\end{tabular}\n"
      ],
      "text/markdown": [
       "\n",
       "A matrix: 1 × 1 of type dbl\n",
       "\n",
       "| 0.3053479 |\n",
       "\n"
      ],
      "text/plain": [
       "     [,1]     \n",
       "[1,] 0.3053479"
      ]
     },
     "metadata": {},
     "output_type": "display_data"
    }
   ],
   "source": [
    "\n",
    "gttk = (n-p)/(p*(n-1))*t(xbar  - nuy_0)%*% S_inv %*% (xbar - nuy_0)\n",
    "gttk"
   ]
  },
  {
   "cell_type": "code",
   "execution_count": null,
   "metadata": {
    "vscode": {
     "languageId": "r"
    }
   },
   "outputs": [
    {
     "data": {
      "text/html": [
       "3.23172699283084"
      ],
      "text/latex": [
       "3.23172699283084"
      ],
      "text/markdown": [
       "3.23172699283084"
      ],
      "text/plain": [
       "[1] 3.231727"
      ]
     },
     "metadata": {},
     "output_type": "display_data"
    }
   ],
   "source": [
    "f = qf(.95, p , n-p)\n",
    "f"
   ]
  },
  {
   "cell_type": "markdown",
   "metadata": {},
   "source": [
    "- Ta thấy gttk = 0.3053479  < f = 3.23172699283084 nên nuy0 thuộc miền tin cậy R1\n"
   ]
  },
  {
   "cell_type": "markdown",
   "metadata": {},
   "source": []
  },
  {
   "cell_type": "code",
   "execution_count": null,
   "metadata": {
    "vscode": {
     "languageId": "r"
    }
   },
   "outputs": [],
   "source": []
  }
 ],
 "metadata": {
  "kernelspec": {
   "display_name": "R",
   "language": "R",
   "name": "ir"
  },
  "language_info": {
   "codemirror_mode": "r",
   "file_extension": ".r",
   "mimetype": "text/x-r-source",
   "name": "R",
   "pygments_lexer": "r",
   "version": "4.3.2"
  }
 },
 "nbformat": 4,
 "nbformat_minor": 2
}
