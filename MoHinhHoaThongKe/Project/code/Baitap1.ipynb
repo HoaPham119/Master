{
 "cells": [
  {
   "cell_type": "markdown",
   "metadata": {},
   "source": [
    "- Nhóm 10\n",
    "- Học viên:\n",
    "    - Phạm Thị Hoà - 23C23007\n",
    "    - Trịnh Quang Trí - 23C23010"
   ]
  },
  {
   "cell_type": "markdown",
   "metadata": {},
   "source": [
    "- Bộ dữ liệu: CSM (Conventional and Social Media Movies) cung cấp một số thuộc tính của phim ảnh lấy từ nguồn UCI Machine Learning Repository.\n",
    "    - \"Movie\": tên phim,\n",
    "    - \"Year\": năm phát hành,\n",
    "    - \"Ratings\": điểm đánh giá,\n",
    "    - \"Genre\": thể loại phim,\n",
    "    - \"Gross\": tổng doanh thu,\n",
    "    - \"Budget\": tổng chi phí,\n",
    "    - \"Screens\": số rạp chiều,\n",
    "    - \"Sequel\": phần phim,\n",
    "    - \"Sentiment\": ý kiến khán giả,\n",
    "    - \"Views\": số lượt xem,\n",
    "    - \"Likes\": số lượt thích,\n",
    "    - \"Dislikes\": số lượt chê,\n",
    "    - \"Comments\": số bình luận,\n",
    "    - \"Aggregate Followers\": số người theo dõi."
   ]
  },
  {
   "cell_type": "code",
   "execution_count": 1,
   "metadata": {
    "vscode": {
     "languageId": "r"
    }
   },
   "outputs": [],
   "source": [
    "# Các thư viện cần thiết\n",
    "library(glue)\n",
    "library(readxl)"
   ]
  },
  {
   "cell_type": "code",
   "execution_count": 2,
   "metadata": {
    "vscode": {
     "languageId": "r"
    }
   },
   "outputs": [],
   "source": [
    "# Đường dẫn tới file hiện tại\n",
    "base_path <- getwd()\n",
    "setwd(base_path)"
   ]
  },
  {
   "cell_type": "code",
   "execution_count": 3,
   "metadata": {
    "vscode": {
     "languageId": "r"
    }
   },
   "outputs": [
    {
     "data": {
      "text/html": [
       "'/Users/hoapham/Documents/Ca\\314\\201 Nha\\314\\202n/Cao Ho\\314\\243c/Master/Mo_hinh_hoa_thong_ke/Project/code/../dataset/CSM.xlsx'"
      ],
      "text/latex": [
       "'/Users/hoapham/Documents/Ca\\textbackslash{}314\\textbackslash{}201 Nha\\textbackslash{}314\\textbackslash{}202n/Cao Ho\\textbackslash{}314\\textbackslash{}243c/Master/Mo\\_hinh\\_hoa\\_thong\\_ke/Project/code/../dataset/CSM.xlsx'"
      ],
      "text/markdown": [
       "'/Users/hoapham/Documents/Ca\\314\\201 Nha\\314\\202n/Cao Ho\\314\\243c/Master/Mo_hinh_hoa_thong_ke/Project/code/../dataset/CSM.xlsx'"
      ],
      "text/plain": [
       "[1] \"/Users/hoapham/Documents/Ca\\314\\201 Nha\\314\\202n/Cao Ho\\314\\243c/Master/Mo_hinh_hoa_thong_ke/Project/code/../dataset/CSM.xlsx\""
      ]
     },
     "metadata": {},
     "output_type": "display_data"
    }
   ],
   "source": [
    "file_name = \"CSM.xlsx\"\n",
    "file_path = paste(base_path, glue(\"../dataset/{file_name}\"), sep = \"/\")\n",
    "file_path"
   ]
  },
  {
   "cell_type": "code",
   "execution_count": 4,
   "metadata": {
    "vscode": {
     "languageId": "r"
    }
   },
   "outputs": [
    {
     "ename": "ERROR",
     "evalue": "Error in utils::unzip(zip_path, list = TRUE): zip file '/Users/hoapham/Documents/Ca<cc><81> Nha<cc><82>n/Cao Ho<cc><a3>c/Master/Mo_hinh_hoa_thong_ke/Project/dataset/CSM.xlsx' cannot be opened\n",
     "output_type": "error",
     "traceback": [
      "Error in utils::unzip(zip_path, list = TRUE): zip file '/Users/hoapham/Documents/Ca<cc><81> Nha<cc><82>n/Cao Ho<cc><a3>c/Master/Mo_hinh_hoa_thong_ke/Project/dataset/CSM.xlsx' cannot be opened\nTraceback:\n",
      "1. read_excel(file_path, sheet = \"Sheet1\")",
      "2. read_excel_(path = path, sheet = sheet, range = range, col_names = col_names, \n .     col_types = col_types, na = na, trim_ws = trim_ws, skip = skip, \n .     n_max = n_max, guess_max = guess_max, progress = progress, \n .     .name_repair = .name_repair, format = format)",
      "3. standardise_sheet(sheet, range, sheets_fun(path))",
      "4. sheet %in% sheet_names",
      "5. sheets_fun(path)",
      "6. (function (zip_path, file_path) \n . {\n .     files <- utils::unzip(zip_path, list = TRUE)\n .     indx <- match(file_path, files$Name)\n .     if (is.na(indx)) {\n .         stop(\"Couldn't find '\", file_path, \"' in '\", zip_path, \n .             \"'\", call. = FALSE)\n .     }\n .     size <- files$Length[indx]\n .     con <- unz(zip_path, file_path, open = \"rb\")\n .     on.exit(close(con), add = TRUE)\n .     readBin(con, raw(), n = size)\n . })(\"/Users/hoapham/Documents/Ca<cc><81> Nha<cc><82>n/Cao Ho<cc><a3>c/Master/Mo_hinh_hoa_thong_ke/Project/dataset/CSM.xlsx\", \n .     \"_rels/.rels\")",
      "7. utils::unzip(zip_path, list = TRUE)"
     ]
    }
   ],
   "source": [
    "# Đọc dữ liệu\n",
    "df <- read_excel(file_path, sheet = \"Sheet1\")\n",
    "head(df)"
   ]
  },
  {
   "cell_type": "code",
   "execution_count": null,
   "metadata": {
    "vscode": {
     "languageId": "r"
    }
   },
   "outputs": [],
   "source": []
  },
  {
   "cell_type": "code",
   "execution_count": null,
   "metadata": {
    "vscode": {
     "languageId": "r"
    }
   },
   "outputs": [],
   "source": []
  }
 ],
 "metadata": {
  "kernelspec": {
   "display_name": "R",
   "language": "R",
   "name": "ir"
  },
  "language_info": {
   "codemirror_mode": "r",
   "file_extension": ".r",
   "mimetype": "text/x-r-source",
   "name": "R",
   "pygments_lexer": "r",
   "version": "4.3.2"
  }
 },
 "nbformat": 4,
 "nbformat_minor": 2
}
