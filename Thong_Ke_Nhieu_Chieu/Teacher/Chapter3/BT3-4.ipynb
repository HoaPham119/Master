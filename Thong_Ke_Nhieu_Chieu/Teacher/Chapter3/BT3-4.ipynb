{
 "cells": [
  {
   "cell_type": "code",
   "execution_count": null,
   "metadata": {
    "vscode": {
     "languageId": "r"
    }
   },
   "outputs": [],
   "source": [
    "#requires library ellipse to draw ellipse\n",
    "library(ellipse)"
   ]
  },
  {
   "cell_type": "markdown",
   "metadata": {},
   "source": [
    "## Bài 3.4\n",
    "- Xét các véc tờ Xi độc lập và có cùng phân phối N2(nuy, xích ma). Với các quan trắc xi...x42, ta được trung bình mẫu\n",
    "- x_tb = (0.564, 0.603)'\n",
    "- S = [\n",
    "    [0.0144, 0.0117],\n",
    "    [0.0117, 0.0146]\n",
    "    ]\n",
    "- a. Tìm miền tin cậy kích thước alpha cho nuy = (nuy1, nuy2)'\n",
    "- b. Xác định miền tin cậy Ellipse, R1 cho nuy\n",
    "- c. nuy1 = (0.60, 0.58) có năm ftrong R1 không?\n",
    "- d. TÌm các khoảng tin cậy đồng thời cho nuy1 và nuy2. Miền tin cậy tương ứng gọi là R2.\n",
    "- e. Kiểm định:\n",
    "- H0: nuy =(0.60, 0.58), so với H1: H0 không đúng"
   ]
  },
  {
   "cell_type": "code",
   "execution_count": 3,
   "metadata": {
    "vscode": {
     "languageId": "r"
    }
   },
   "outputs": [
    {
     "data": {
      "text/html": [
       "<table class=\"dataframe\">\n",
       "<caption>A matrix: 2 × 2 of type dbl</caption>\n",
       "<thead>\n",
       "\t<tr><th></th><th scope=col>C1</th><th scope=col>C2</th></tr>\n",
       "</thead>\n",
       "<tbody>\n",
       "\t<tr><th scope=row>R1</th><td>12</td><td>3</td></tr>\n",
       "\t<tr><th scope=row>R2</th><td>45</td><td>2</td></tr>\n",
       "</tbody>\n",
       "</table>\n"
      ],
      "text/latex": [
       "A matrix: 2 × 2 of type dbl\n",
       "\\begin{tabular}{r|ll}\n",
       "  & C1 & C2\\\\\n",
       "\\hline\n",
       "\tR1 & 12 & 3\\\\\n",
       "\tR2 & 45 & 2\\\\\n",
       "\\end{tabular}\n"
      ],
      "text/markdown": [
       "\n",
       "A matrix: 2 × 2 of type dbl\n",
       "\n",
       "| <!--/--> | C1 | C2 |\n",
       "|---|---|---|\n",
       "| R1 | 12 | 3 |\n",
       "| R2 | 45 | 2 |\n",
       "\n"
      ],
      "text/plain": [
       "   C1 C2\n",
       "R1 12 3 \n",
       "R2 45 2 "
      ]
     },
     "metadata": {},
     "output_type": "display_data"
    }
   ],
   "source": [
    "#tao matric 3x4\n",
    "y <- matrix(1:12, nrow = 3, ncol = 4)\n",
    "#tao matric tu cac vector\n",
    "cells <- c(12,3,45,2)\n",
    "rnames <- c(\"R1\",\"R2\")\n",
    "cnames <- c(\"C1\",\"C2\")\n",
    "mymatrix1 <- matrix(cells, nrow = 2, ncol = 2, byrow = TRUE,\n",
    "                   dimnames = list(rnames,cnames))\n",
    "mymatrix1"
   ]
  },
  {
   "cell_type": "code",
   "execution_count": 8,
   "metadata": {
    "vscode": {
     "languageId": "r"
    }
   },
   "outputs": [
    {
     "data": {
      "text/html": [
       "<table class=\"dataframe\">\n",
       "<caption>A matrix: 2 × 1 of type dbl</caption>\n",
       "<tbody>\n",
       "\t<tr><td>0.564</td></tr>\n",
       "\t<tr><td>0.603</td></tr>\n",
       "</tbody>\n",
       "</table>\n"
      ],
      "text/latex": [
       "A matrix: 2 × 1 of type dbl\n",
       "\\begin{tabular}{l}\n",
       "\t 0.564\\\\\n",
       "\t 0.603\\\\\n",
       "\\end{tabular}\n"
      ],
      "text/markdown": [
       "\n",
       "A matrix: 2 × 1 of type dbl\n",
       "\n",
       "| 0.564 |\n",
       "| 0.603 |\n",
       "\n"
      ],
      "text/plain": [
       "     [,1] \n",
       "[1,] 0.564\n",
       "[2,] 0.603"
      ]
     },
     "metadata": {},
     "output_type": "display_data"
    }
   ],
   "source": [
    "cells_x = c(0.564, 0.603)\n",
    "xbar = matrix(cells, 2,1)\n",
    "xbar"
   ]
  },
  {
   "cell_type": "code",
   "execution_count": 10,
   "metadata": {
    "vscode": {
     "languageId": "r"
    }
   },
   "outputs": [
    {
     "data": {
      "text/html": [
       "<table class=\"dataframe\">\n",
       "<caption>A matrix: 2 × 2 of type dbl</caption>\n",
       "<tbody>\n",
       "\t<tr><td>0.564</td><td>0.564</td></tr>\n",
       "\t<tr><td>0.603</td><td>0.603</td></tr>\n",
       "</tbody>\n",
       "</table>\n"
      ],
      "text/latex": [
       "A matrix: 2 × 2 of type dbl\n",
       "\\begin{tabular}{ll}\n",
       "\t 0.564 & 0.564\\\\\n",
       "\t 0.603 & 0.603\\\\\n",
       "\\end{tabular}\n"
      ],
      "text/markdown": [
       "\n",
       "A matrix: 2 × 2 of type dbl\n",
       "\n",
       "| 0.564 | 0.564 |\n",
       "| 0.603 | 0.603 |\n",
       "\n"
      ],
      "text/plain": [
       "     [,1]  [,2] \n",
       "[1,] 0.564 0.564\n",
       "[2,] 0.603 0.603"
      ]
     },
     "metadata": {},
     "output_type": "display_data"
    }
   ],
   "source": [
    "cells_x = c(0.0144, 0.0117, 0.0117, 0.0146)\n",
    "S = matrix(cells, 2,2)\n",
    "S"
   ]
  },
  {
   "cell_type": "markdown",
   "metadata": {},
   "source": [
    "- a.. TÌm ước lượng hợp lý cực đại cho xích ma"
   ]
  },
  {
   "cell_type": "code",
   "execution_count": 1,
   "metadata": {
    "vscode": {
     "languageId": "r"
    }
   },
   "outputs": [],
   "source": [
    "n = 42"
   ]
  },
  {
   "cell_type": "code",
   "execution_count": 12,
   "metadata": {
    "vscode": {
     "languageId": "r"
    }
   },
   "outputs": [
    {
     "data": {
      "text/html": [
       "<table class=\"dataframe\">\n",
       "<caption>A matrix: 2 × 2 of type dbl</caption>\n",
       "<tbody>\n",
       "\t<tr><td>0.5505714</td><td>0.5505714</td></tr>\n",
       "\t<tr><td>0.5886429</td><td>0.5886429</td></tr>\n",
       "</tbody>\n",
       "</table>\n"
      ],
      "text/latex": [
       "A matrix: 2 × 2 of type dbl\n",
       "\\begin{tabular}{ll}\n",
       "\t 0.5505714 & 0.5505714\\\\\n",
       "\t 0.5886429 & 0.5886429\\\\\n",
       "\\end{tabular}\n"
      ],
      "text/markdown": [
       "\n",
       "A matrix: 2 × 2 of type dbl\n",
       "\n",
       "| 0.5505714 | 0.5505714 |\n",
       "| 0.5886429 | 0.5886429 |\n",
       "\n"
      ],
      "text/plain": [
       "     [,1]      [,2]     \n",
       "[1,] 0.5505714 0.5505714\n",
       "[2,] 0.5886429 0.5886429"
      ]
     },
     "metadata": {},
     "output_type": "display_data"
    }
   ],
   "source": [
    "xichma = ((n-1)*S)/n\n",
    "xichma"
   ]
  },
  {
   "cell_type": "markdown",
   "metadata": {},
   "source": [
    "- b. Xác định miền tin cậy Ellipse R1 cho nuy"
   ]
  },
  {
   "cell_type": "code",
   "execution_count": null,
   "metadata": {
    "vscode": {
     "languageId": "r"
    }
   },
   "outputs": [],
   "source": []
  }
 ],
 "metadata": {
  "kernelspec": {
   "display_name": "R",
   "language": "R",
   "name": "ir"
  },
  "language_info": {
   "codemirror_mode": "r",
   "file_extension": ".r",
   "mimetype": "text/x-r-source",
   "name": "R",
   "pygments_lexer": "r",
   "version": "4.3.2"
  }
 },
 "nbformat": 4,
 "nbformat_minor": 2
}
