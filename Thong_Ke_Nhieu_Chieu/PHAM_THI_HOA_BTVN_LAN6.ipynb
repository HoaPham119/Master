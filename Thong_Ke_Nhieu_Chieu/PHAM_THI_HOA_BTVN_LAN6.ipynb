{
 "cells": [
  {
   "cell_type": "markdown",
   "metadata": {},
   "source": [
    "- Họ và tên: PHẠM THỊ HOÀ\n",
    "- Mã số học viên: 23C23007"
   ]
  },
  {
   "cell_type": "markdown",
   "metadata": {},
   "source": [
    "### Bài 4.2:\n",
    "- Quan trắc trên hai biến phụ thuộc được thu thập theo 3 phương thức. Véc tơ quan trắc x = [x1, x2]' nhận được như sau:\n",
    "    - Phương thức 1: [6 7]', [5 9]', [8 6]', [4 9]', [7 9']'\n",
    "    - Phương thức 2: [3 3]', [1 6]', [2 3]'\n",
    "    - Phương thức 3: [2 3]', [5 1]', [3 1]', [2 3]'\n"
   ]
  },
  {
   "cell_type": "code",
   "execution_count": 1,
   "metadata": {
    "vscode": {
     "languageId": "r"
    }
   },
   "outputs": [
    {
     "data": {
      "text/html": [
       "12"
      ],
      "text/latex": [
       "12"
      ],
      "text/markdown": [
       "12"
      ],
      "text/plain": [
       "[1] 12"
      ]
     },
     "metadata": {},
     "output_type": "display_data"
    }
   ],
   "source": [
    "# MANOVA 1 nhân tố:\n",
    "p = 2\n",
    "g = 3\n",
    "n1 = 5\n",
    "n2 = 3\n",
    "n3 = 4\n",
    "n_vt = c(n1, n2, n3)\n",
    "n = sum(n_vt)\n",
    "n"
   ]
  },
  {
   "cell_type": "code",
   "execution_count": 2,
   "metadata": {
    "vscode": {
     "languageId": "r"
    }
   },
   "outputs": [
    {
     "data": {
      "text/html": [
       "<table class=\"dataframe\">\n",
       "<caption>A matrix: 2 x 5 of type dbl</caption>\n",
       "<tbody>\n",
       "\t<tr><td>6</td><td>5</td><td>8</td><td>4</td><td>7</td></tr>\n",
       "\t<tr><td>7</td><td>9</td><td>6</td><td>9</td><td>9</td></tr>\n",
       "</tbody>\n",
       "</table>\n"
      ],
      "text/latex": [
       "A matrix: 2 x 5 of type dbl\n",
       "\\begin{tabular}{lllll}\n",
       "\t 6 & 5 & 8 & 4 & 7\\\\\n",
       "\t 7 & 9 & 6 & 9 & 9\\\\\n",
       "\\end{tabular}\n"
      ],
      "text/markdown": [
       "\n",
       "A matrix: 2 x 5 of type dbl\n",
       "\n",
       "| 6 | 5 | 8 | 4 | 7 |\n",
       "| 7 | 9 | 6 | 9 | 9 |\n",
       "\n"
      ],
      "text/plain": [
       "     [,1] [,2] [,3] [,4] [,5]\n",
       "[1,] 6    5    8    4    7   \n",
       "[2,] 7    9    6    9    9   "
      ]
     },
     "metadata": {},
     "output_type": "display_data"
    },
    {
     "data": {
      "text/html": [
       "<table class=\"dataframe\">\n",
       "<caption>A matrix: 2 x 3 of type dbl</caption>\n",
       "<tbody>\n",
       "\t<tr><td>3</td><td>1</td><td>2</td></tr>\n",
       "\t<tr><td>3</td><td>6</td><td>3</td></tr>\n",
       "</tbody>\n",
       "</table>\n"
      ],
      "text/latex": [
       "A matrix: 2 x 3 of type dbl\n",
       "\\begin{tabular}{lll}\n",
       "\t 3 & 1 & 2\\\\\n",
       "\t 3 & 6 & 3\\\\\n",
       "\\end{tabular}\n"
      ],
      "text/markdown": [
       "\n",
       "A matrix: 2 x 3 of type dbl\n",
       "\n",
       "| 3 | 1 | 2 |\n",
       "| 3 | 6 | 3 |\n",
       "\n"
      ],
      "text/plain": [
       "     [,1] [,2] [,3]\n",
       "[1,] 3    1    2   \n",
       "[2,] 3    6    3   "
      ]
     },
     "metadata": {},
     "output_type": "display_data"
    },
    {
     "data": {
      "text/html": [
       "<table class=\"dataframe\">\n",
       "<caption>A matrix: 2 x 4 of type dbl</caption>\n",
       "<tbody>\n",
       "\t<tr><td>2</td><td>5</td><td>3</td><td>2</td></tr>\n",
       "\t<tr><td>3</td><td>1</td><td>1</td><td>3</td></tr>\n",
       "</tbody>\n",
       "</table>\n"
      ],
      "text/latex": [
       "A matrix: 2 x 4 of type dbl\n",
       "\\begin{tabular}{llll}\n",
       "\t 2 & 5 & 3 & 2\\\\\n",
       "\t 3 & 1 & 1 & 3\\\\\n",
       "\\end{tabular}\n"
      ],
      "text/markdown": [
       "\n",
       "A matrix: 2 x 4 of type dbl\n",
       "\n",
       "| 2 | 5 | 3 | 2 |\n",
       "| 3 | 1 | 1 | 3 |\n",
       "\n"
      ],
      "text/plain": [
       "     [,1] [,2] [,3] [,4]\n",
       "[1,] 2    5    3    2   \n",
       "[2,] 3    1    1    3   "
      ]
     },
     "metadata": {},
     "output_type": "display_data"
    },
    {
     "data": {
      "text/html": [
       "<ol>\n",
       "\t<li><table class=\"dataframe\">\n",
       "<caption>A matrix: 2 x 5 of type dbl</caption>\n",
       "<tbody>\n",
       "\t<tr><td>6</td><td>5</td><td>8</td><td>4</td><td>7</td></tr>\n",
       "\t<tr><td>7</td><td>9</td><td>6</td><td>9</td><td>9</td></tr>\n",
       "</tbody>\n",
       "</table>\n",
       "</li>\n",
       "\t<li><table class=\"dataframe\">\n",
       "<caption>A matrix: 2 x 3 of type dbl</caption>\n",
       "<tbody>\n",
       "\t<tr><td>3</td><td>1</td><td>2</td></tr>\n",
       "\t<tr><td>3</td><td>6</td><td>3</td></tr>\n",
       "</tbody>\n",
       "</table>\n",
       "</li>\n",
       "\t<li><table class=\"dataframe\">\n",
       "<caption>A matrix: 2 x 4 of type dbl</caption>\n",
       "<tbody>\n",
       "\t<tr><td>2</td><td>5</td><td>3</td><td>2</td></tr>\n",
       "\t<tr><td>3</td><td>1</td><td>1</td><td>3</td></tr>\n",
       "</tbody>\n",
       "</table>\n",
       "</li>\n",
       "</ol>\n"
      ],
      "text/latex": [
       "\\begin{enumerate}\n",
       "\\item A matrix: 2 x 5 of type dbl\n",
       "\\begin{tabular}{lllll}\n",
       "\t 6 & 5 & 8 & 4 & 7\\\\\n",
       "\t 7 & 9 & 6 & 9 & 9\\\\\n",
       "\\end{tabular}\n",
       "\n",
       "\\item A matrix: 2 x 3 of type dbl\n",
       "\\begin{tabular}{lll}\n",
       "\t 3 & 1 & 2\\\\\n",
       "\t 3 & 6 & 3\\\\\n",
       "\\end{tabular}\n",
       "\n",
       "\\item A matrix: 2 x 4 of type dbl\n",
       "\\begin{tabular}{llll}\n",
       "\t 2 & 5 & 3 & 2\\\\\n",
       "\t 3 & 1 & 1 & 3\\\\\n",
       "\\end{tabular}\n",
       "\n",
       "\\end{enumerate}\n"
      ],
      "text/markdown": [
       "1. \n",
       "A matrix: 2 x 5 of type dbl\n",
       "\n",
       "| 6 | 5 | 8 | 4 | 7 |\n",
       "| 7 | 9 | 6 | 9 | 9 |\n",
       "\n",
       "\n",
       "2. \n",
       "A matrix: 2 x 3 of type dbl\n",
       "\n",
       "| 3 | 1 | 2 |\n",
       "| 3 | 6 | 3 |\n",
       "\n",
       "\n",
       "3. \n",
       "A matrix: 2 x 4 of type dbl\n",
       "\n",
       "| 2 | 5 | 3 | 2 |\n",
       "| 3 | 1 | 1 | 3 |\n",
       "\n",
       "\n",
       "\n",
       "\n"
      ],
      "text/plain": [
       "[[1]]\n",
       "     [,1] [,2] [,3] [,4] [,5]\n",
       "[1,]    6    5    8    4    7\n",
       "[2,]    7    9    6    9    9\n",
       "\n",
       "[[2]]\n",
       "     [,1] [,2] [,3]\n",
       "[1,]    3    1    2\n",
       "[2,]    3    6    3\n",
       "\n",
       "[[3]]\n",
       "     [,1] [,2] [,3] [,4]\n",
       "[1,]    2    5    3    2\n",
       "[2,]    3    1    1    3\n"
      ]
     },
     "metadata": {},
     "output_type": "display_data"
    }
   ],
   "source": [
    "# Nhập các giá trị của các véc tơ\n",
    "cells_x1 = c(6,7,5,9,8,6,4,9,7,9)\n",
    "x1 = matrix(cells_x1, 2,5)\n",
    "cells_x2 = c(3,3,1,6,2,3)\n",
    "x2 = matrix(cells_x2, 2,3)\n",
    "cells_x3 = c(2,3,5,1,3,1,2,3)\n",
    "x3 = matrix(cells_x3, 2,4)\n",
    "list_x = list(x1,x2,x3)\n",
    "x1\n",
    "x2\n",
    "x3\n",
    "list_x"
   ]
  },
  {
   "cell_type": "code",
   "execution_count": 3,
   "metadata": {
    "vscode": {
     "languageId": "r"
    }
   },
   "outputs": [
    {
     "data": {
      "text/html": [
       "<style>\n",
       ".list-inline {list-style: none; margin:0; padding: 0}\n",
       ".list-inline>li {display: inline-block}\n",
       ".list-inline>li:not(:last-child)::after {content: \"\\00b7\"; padding: 0 .5ex}\n",
       "</style>\n",
       "<ol class=list-inline><li>6</li><li>8</li></ol>\n"
      ],
      "text/latex": [
       "\\begin{enumerate*}\n",
       "\\item 6\n",
       "\\item 8\n",
       "\\end{enumerate*}\n"
      ],
      "text/markdown": [
       "1. 6\n",
       "2. 8\n",
       "\n",
       "\n"
      ],
      "text/plain": [
       "[1] 6 8"
      ]
     },
     "metadata": {},
     "output_type": "display_data"
    },
    {
     "data": {
      "text/html": [
       "<style>\n",
       ".list-inline {list-style: none; margin:0; padding: 0}\n",
       ".list-inline>li {display: inline-block}\n",
       ".list-inline>li:not(:last-child)::after {content: \"\\00b7\"; padding: 0 .5ex}\n",
       "</style>\n",
       "<ol class=list-inline><li>2</li><li>4</li></ol>\n"
      ],
      "text/latex": [
       "\\begin{enumerate*}\n",
       "\\item 2\n",
       "\\item 4\n",
       "\\end{enumerate*}\n"
      ],
      "text/markdown": [
       "1. 2\n",
       "2. 4\n",
       "\n",
       "\n"
      ],
      "text/plain": [
       "[1] 2 4"
      ]
     },
     "metadata": {},
     "output_type": "display_data"
    },
    {
     "data": {
      "text/html": [
       "<style>\n",
       ".list-inline {list-style: none; margin:0; padding: 0}\n",
       ".list-inline>li {display: inline-block}\n",
       ".list-inline>li:not(:last-child)::after {content: \"\\00b7\"; padding: 0 .5ex}\n",
       "</style>\n",
       "<ol class=list-inline><li>3</li><li>2</li></ol>\n"
      ],
      "text/latex": [
       "\\begin{enumerate*}\n",
       "\\item 3\n",
       "\\item 2\n",
       "\\end{enumerate*}\n"
      ],
      "text/markdown": [
       "1. 3\n",
       "2. 2\n",
       "\n",
       "\n"
      ],
      "text/plain": [
       "[1] 3 2"
      ]
     },
     "metadata": {},
     "output_type": "display_data"
    },
    {
     "data": {
      "text/html": [
       "<ol>\n",
       "\t<li><style>\n",
       ".list-inline {list-style: none; margin:0; padding: 0}\n",
       ".list-inline>li {display: inline-block}\n",
       ".list-inline>li:not(:last-child)::after {content: \"\\00b7\"; padding: 0 .5ex}\n",
       "</style>\n",
       "<ol class=list-inline><li>6</li><li>8</li></ol>\n",
       "</li>\n",
       "\t<li><style>\n",
       ".list-inline {list-style: none; margin:0; padding: 0}\n",
       ".list-inline>li {display: inline-block}\n",
       ".list-inline>li:not(:last-child)::after {content: \"\\00b7\"; padding: 0 .5ex}\n",
       "</style>\n",
       "<ol class=list-inline><li>2</li><li>4</li></ol>\n",
       "</li>\n",
       "\t<li><style>\n",
       ".list-inline {list-style: none; margin:0; padding: 0}\n",
       ".list-inline>li {display: inline-block}\n",
       ".list-inline>li:not(:last-child)::after {content: \"\\00b7\"; padding: 0 .5ex}\n",
       "</style>\n",
       "<ol class=list-inline><li>3</li><li>2</li></ol>\n",
       "</li>\n",
       "</ol>\n"
      ],
      "text/latex": [
       "\\begin{enumerate}\n",
       "\\item \\begin{enumerate*}\n",
       "\\item 6\n",
       "\\item 8\n",
       "\\end{enumerate*}\n",
       "\n",
       "\\item \\begin{enumerate*}\n",
       "\\item 2\n",
       "\\item 4\n",
       "\\end{enumerate*}\n",
       "\n",
       "\\item \\begin{enumerate*}\n",
       "\\item 3\n",
       "\\item 2\n",
       "\\end{enumerate*}\n",
       "\n",
       "\\end{enumerate}\n"
      ],
      "text/markdown": [
       "1. 1. 6\n",
       "2. 8\n",
       "\n",
       "\n",
       "\n",
       "2. 1. 2\n",
       "2. 4\n",
       "\n",
       "\n",
       "\n",
       "3. 1. 3\n",
       "2. 2\n",
       "\n",
       "\n",
       "\n",
       "\n",
       "\n"
      ],
      "text/plain": [
       "[[1]]\n",
       "[1] 6 8\n",
       "\n",
       "[[2]]\n",
       "[1] 2 4\n",
       "\n",
       "[[3]]\n",
       "[1] 3 2\n"
      ]
     },
     "metadata": {},
     "output_type": "display_data"
    }
   ],
   "source": [
    "# Tính x_l trung bình\n",
    "x1_tb = rowMeans(x1)\n",
    "x2_tb = rowMeans(x2)\n",
    "x3_tb = rowMeans(x3)\n",
    "list_x_l_tb = list(x1_tb,x2_tb,x3_tb)\n",
    "x1_tb\n",
    "x2_tb\n",
    "x3_tb\n",
    "list_x_l_tb"
   ]
  },
  {
   "cell_type": "code",
   "execution_count": 4,
   "metadata": {
    "vscode": {
     "languageId": "r"
    }
   },
   "outputs": [
    {
     "data": {
      "text/html": [
       "<style>\n",
       ".list-inline {list-style: none; margin:0; padding: 0}\n",
       ".list-inline>li {display: inline-block}\n",
       ".list-inline>li:not(:last-child)::after {content: \"\\00b7\"; padding: 0 .5ex}\n",
       "</style>\n",
       "<ol class=list-inline><li>4</li><li>5</li></ol>\n"
      ],
      "text/latex": [
       "\\begin{enumerate*}\n",
       "\\item 4\n",
       "\\item 5\n",
       "\\end{enumerate*}\n"
      ],
      "text/markdown": [
       "1. 4\n",
       "2. 5\n",
       "\n",
       "\n"
      ],
      "text/plain": [
       "[1] 4 5"
      ]
     },
     "metadata": {},
     "output_type": "display_data"
    }
   ],
   "source": [
    "# Tính x trung bình\n",
    "x_tb = c()\n",
    "for (p_ in (1:p)){\n",
    "    gt_x_tb = 0\n",
    "    for (gt_vt in list_x){\n",
    "        for (gt in gt_vt[p_,]){\n",
    "            gt_x_tb = gt_x_tb + gt\n",
    "        } \n",
    "    }\n",
    "    x_tb = append(x_tb, gt_x_tb/n)\n",
    "}\n",
    "x_tb\n"
   ]
  },
  {
   "cell_type": "markdown",
   "metadata": {},
   "source": [
    "- b. Thành lập bảng MANOVA một nhân tố"
   ]
  },
  {
   "cell_type": "code",
   "execution_count": 5,
   "metadata": {
    "vscode": {
     "languageId": "r"
    }
   },
   "outputs": [
    {
     "data": {
      "text/html": [
       "<table class=\"dataframe\">\n",
       "<caption>A matrix: 2 x 2 of type dbl</caption>\n",
       "<tbody>\n",
       "\t<tr><td>36</td><td>48</td></tr>\n",
       "\t<tr><td>48</td><td>84</td></tr>\n",
       "</tbody>\n",
       "</table>\n"
      ],
      "text/latex": [
       "A matrix: 2 x 2 of type dbl\n",
       "\\begin{tabular}{ll}\n",
       "\t 36 & 48\\\\\n",
       "\t 48 & 84\\\\\n",
       "\\end{tabular}\n"
      ],
      "text/markdown": [
       "\n",
       "A matrix: 2 x 2 of type dbl\n",
       "\n",
       "| 36 | 48 |\n",
       "| 48 | 84 |\n",
       "\n"
      ],
      "text/plain": [
       "     [,1] [,2]\n",
       "[1,] 36   48  \n",
       "[2,] 48   84  "
      ]
     },
     "metadata": {},
     "output_type": "display_data"
    }
   ],
   "source": [
    "# Nguồn biến thiên giữa các tổng thế: B\n",
    "B = 0\n",
    "for (l in (1:g)){\n",
    "    temp = n_vt[l] * (list_x_l_tb[[l]] - x_tb) %*% t(list_x_l_tb[[l]] - x_tb)\n",
    "    B = B + temp\n",
    "}\n",
    "B"
   ]
  },
  {
   "cell_type": "code",
   "execution_count": 6,
   "metadata": {
    "vscode": {
     "languageId": "r"
    }
   },
   "outputs": [
    {
     "data": {
      "text/html": [
       "<table class=\"dataframe\">\n",
       "<caption>A matrix: 2 x 2 of type dbl</caption>\n",
       "<tbody>\n",
       "\t<tr><td> 18</td><td>-13</td></tr>\n",
       "\t<tr><td>-13</td><td> 18</td></tr>\n",
       "</tbody>\n",
       "</table>\n"
      ],
      "text/latex": [
       "A matrix: 2 x 2 of type dbl\n",
       "\\begin{tabular}{ll}\n",
       "\t  18 & -13\\\\\n",
       "\t -13 &  18\\\\\n",
       "\\end{tabular}\n"
      ],
      "text/markdown": [
       "\n",
       "A matrix: 2 x 2 of type dbl\n",
       "\n",
       "|  18 | -13 |\n",
       "| -13 |  18 |\n",
       "\n"
      ],
      "text/plain": [
       "     [,1] [,2]\n",
       "[1,]  18  -13 \n",
       "[2,] -13   18 "
      ]
     },
     "metadata": {},
     "output_type": "display_data"
    }
   ],
   "source": [
    "# Nguồn biến thiên phần dư: W\n",
    "W = 0\n",
    "for (l in (1:g)){\n",
    "    for (j in (1:n_vt[l])){\n",
    "        temp = (list_x[[l]][,j]- list_x_l_tb[[l]]) %*% t(list_x[[l]][,j]- list_x_l_tb[[l]])\n",
    "        W = W + temp\n",
    "    }\n",
    "}\n",
    "W"
   ]
  },
  {
   "cell_type": "markdown",
   "metadata": {},
   "source": []
  },
  {
   "cell_type": "code",
   "execution_count": null,
   "metadata": {
    "vscode": {
     "languageId": "r"
    }
   },
   "outputs": [],
   "source": []
  },
  {
   "attachments": {
    "image.png": {
     "image/png": "[encoded data removed]"
    }
   },
   "cell_type": "markdown",
   "metadata": {},
   "source": [
    "### Bài 4.3\n",
    "- Quan trắc của X1 = chiều dài cánh hoa (đơn vị mm), và X2 = chiều rộng cánh hoa (đơn vị mm) trêan các mẫu lấy từ ba loài hoa cho các thống kê sau:\n",
    "\n",
    "![image.png](attachment:image.png)\n",
    "\n",
    "- a. Thành lập giả thuyết H0 về sự không khác biệt giữa ba loài hoa.\n",
    "- b. Tính thống kê Wilks' Lambda, lamda*, và kiểm định giả thuyết H0 so với đối thuyết Ha về sự khác biệt giữa ba loài hoa với alpha = 0.01"
   ]
  },
  {
   "cell_type": "code",
   "execution_count": 7,
   "metadata": {
    "vscode": {
     "languageId": "r"
    }
   },
   "outputs": [],
   "source": [
    "# a. Bài toán MANOVA 1 nhân tố với:\n",
    "# n1 = 10\n",
    "# n2 = 8\n",
    "# n3 = 16\n",
    "n_vt = c(10, 8, 16)\n",
    "p = 2\n",
    "g = 3\n",
    "# l = 1,2,3"
   ]
  },
  {
   "cell_type": "markdown",
   "metadata": {},
   "source": [
    "- Thành lập giả thuyết H0 về sự không khác biệt giữa ba loài hoa"
   ]
  },
  {
   "cell_type": "code",
   "execution_count": 8,
   "metadata": {
    "vscode": {
     "languageId": "r"
    }
   },
   "outputs": [],
   "source": [
    "xbar1=c(41, 9)\n",
    "xbar2=c(50, 21)\n",
    "xbar3=c(20, 5)\n",
    "x = c(xbar1, xbar2, xbar3)"
   ]
  },
  {
   "cell_type": "code",
   "execution_count": 9,
   "metadata": {
    "vscode": {
     "languageId": "r"
    }
   },
   "outputs": [
    {
     "data": {
      "text/html": [
       "<table class=\"dataframe\">\n",
       "<caption>A matrix: 2 x 2 of type dbl</caption>\n",
       "<tbody>\n",
       "\t<tr><td>20</td><td>7</td></tr>\n",
       "\t<tr><td> 7</td><td>5</td></tr>\n",
       "</tbody>\n",
       "</table>\n"
      ],
      "text/latex": [
       "A matrix: 2 x 2 of type dbl\n",
       "\\begin{tabular}{ll}\n",
       "\t 20 & 7\\\\\n",
       "\t  7 & 5\\\\\n",
       "\\end{tabular}\n"
      ],
      "text/markdown": [
       "\n",
       "A matrix: 2 x 2 of type dbl\n",
       "\n",
       "| 20 | 7 |\n",
       "|  7 | 5 |\n",
       "\n"
      ],
      "text/plain": [
       "     [,1] [,2]\n",
       "[1,] 20   7   \n",
       "[2,]  7   5   "
      ]
     },
     "metadata": {},
     "output_type": "display_data"
    },
    {
     "data": {
      "text/html": [
       "<table class=\"dataframe\">\n",
       "<caption>A matrix: 2 x 2 of type dbl</caption>\n",
       "<tbody>\n",
       "\t<tr><td>30</td><td> 9</td></tr>\n",
       "\t<tr><td> 9</td><td>10</td></tr>\n",
       "</tbody>\n",
       "</table>\n"
      ],
      "text/latex": [
       "A matrix: 2 x 2 of type dbl\n",
       "\\begin{tabular}{ll}\n",
       "\t 30 &  9\\\\\n",
       "\t  9 & 10\\\\\n",
       "\\end{tabular}\n"
      ],
      "text/markdown": [
       "\n",
       "A matrix: 2 x 2 of type dbl\n",
       "\n",
       "| 30 |  9 |\n",
       "|  9 | 10 |\n",
       "\n"
      ],
      "text/plain": [
       "     [,1] [,2]\n",
       "[1,] 30    9  \n",
       "[2,]  9   10  "
      ]
     },
     "metadata": {},
     "output_type": "display_data"
    },
    {
     "data": {
      "text/html": [
       "<table class=\"dataframe\">\n",
       "<caption>A matrix: 2 x 2 of type dbl</caption>\n",
       "<tbody>\n",
       "\t<tr><td>25</td><td> 6</td></tr>\n",
       "\t<tr><td> 6</td><td>11</td></tr>\n",
       "</tbody>\n",
       "</table>\n"
      ],
      "text/latex": [
       "A matrix: 2 x 2 of type dbl\n",
       "\\begin{tabular}{ll}\n",
       "\t 25 &  6\\\\\n",
       "\t  6 & 11\\\\\n",
       "\\end{tabular}\n"
      ],
      "text/markdown": [
       "\n",
       "A matrix: 2 x 2 of type dbl\n",
       "\n",
       "| 25 |  6 |\n",
       "|  6 | 11 |\n",
       "\n"
      ],
      "text/plain": [
       "     [,1] [,2]\n",
       "[1,] 25    6  \n",
       "[2,]  6   11  "
      ]
     },
     "metadata": {},
     "output_type": "display_data"
    }
   ],
   "source": [
    "cells_S1 = c(20, 7, 7, 5)\n",
    "S1 = matrix(cells_S1, 2,2)\n",
    "cells_S2 = c(30, 9, 9, 10)\n",
    "S2 = matrix(cells_S2, 2,2)\n",
    "cells_S3 = c(25, 6, 6, 11)\n",
    "S3 = matrix(cells_S3, 2,2)\n",
    "S1\n",
    "S2\n",
    "S3"
   ]
  },
  {
   "cell_type": "code",
   "execution_count": 10,
   "metadata": {
    "vscode": {
     "languageId": "r"
    }
   },
   "outputs": [
    {
     "name": "stdout",
     "output_type": "stream",
     "text": [
      "[1] 12\n"
     ]
    }
   ],
   "source": [
    "# Tính:\n",
    "# 1. Nguồn biến thiên giữa các tổng thể B:\n",
    "B = \n",
    "for (l in n)\n",
    "{\n",
    "    print(l)\n",
    "}"
   ]
  },
  {
   "cell_type": "code",
   "execution_count": 11,
   "metadata": {
    "vscode": {
     "languageId": "r"
    }
   },
   "outputs": [
    {
     "name": "stderr",
     "output_type": "stream",
     "text": [
      "Warning message in x1 - x1bar1_3:\n",
      "\"longer object length is not a multiple of shorter object length\"\n"
     ]
    },
    {
     "data": {
      "text/html": [
       "<table class=\"dataframe\">\n",
       "<caption>A matrix: 2 x 5 of type dbl</caption>\n",
       "<tbody>\n",
       "\t<tr><td>5.5</td><td>-2.666667</td><td>0.3333333</td><td>0.3333333</td><td>6.5</td></tr>\n",
       "\t<tr><td>6.5</td><td> 1.333333</td><td>2.3333333</td><td>5.3333333</td><td>8.5</td></tr>\n",
       "</tbody>\n",
       "</table>\n"
      ],
      "text/latex": [
       "A matrix: 2 x 5 of type dbl\n",
       "\\begin{tabular}{lllll}\n",
       "\t 5.5 & -2.666667 & 0.3333333 & 0.3333333 & 6.5\\\\\n",
       "\t 6.5 &  1.333333 & 2.3333333 & 5.3333333 & 8.5\\\\\n",
       "\\end{tabular}\n"
      ],
      "text/markdown": [
       "\n",
       "A matrix: 2 x 5 of type dbl\n",
       "\n",
       "| 5.5 | -2.666667 | 0.3333333 | 0.3333333 | 6.5 |\n",
       "| 6.5 |  1.333333 | 2.3333333 | 5.3333333 | 8.5 |\n",
       "\n"
      ],
      "text/plain": [
       "     [,1] [,2]      [,3]      [,4]      [,5]\n",
       "[1,] 5.5  -2.666667 0.3333333 0.3333333 6.5 \n",
       "[2,] 6.5   1.333333 2.3333333 5.3333333 8.5 "
      ]
     },
     "metadata": {},
     "output_type": "display_data"
    }
   ],
   "source": [
    "(x1-x1bar1_3)"
   ]
  },
  {
   "cell_type": "code",
   "execution_count": 12,
   "metadata": {
    "vscode": {
     "languageId": "r"
    }
   },
   "outputs": [
    {
     "data": {
      "text/html": [
       "<style>\n",
       ".list-inline {list-style: none; margin:0; padding: 0}\n",
       ".list-inline>li {display: inline-block}\n",
       ".list-inline>li:not(:last-child)::after {content: \"\\00b7\"; padding: 0 .5ex}\n",
       "</style>\n",
       "<ol class=list-inline><li>0.5</li><li>0.5</li></ol>\n"
      ],
      "text/latex": [
       "\\begin{enumerate*}\n",
       "\\item 0.5\n",
       "\\item 0.5\n",
       "\\end{enumerate*}\n"
      ],
      "text/markdown": [
       "1. 0.5\n",
       "2. 0.5\n",
       "\n",
       "\n"
      ],
      "text/plain": [
       "[1] 0.5 0.5"
      ]
     },
     "metadata": {},
     "output_type": "display_data"
    },
    {
     "data": {
      "text/html": [
       "<style>\n",
       ".list-inline {list-style: none; margin:0; padding: 0}\n",
       ".list-inline>li {display: inline-block}\n",
       ".list-inline>li:not(:last-child)::after {content: \"\\00b7\"; padding: 0 .5ex}\n",
       "</style>\n",
       "<ol class=list-inline><li>7.66666666666667</li><li>7.66666666666667</li><li>7.66666666666667</li></ol>\n"
      ],
      "text/latex": [
       "\\begin{enumerate*}\n",
       "\\item 7.66666666666667\n",
       "\\item 7.66666666666667\n",
       "\\item 7.66666666666667\n",
       "\\end{enumerate*}\n"
      ],
      "text/markdown": [
       "1. 7.66666666666667\n",
       "2. 7.66666666666667\n",
       "3. 7.66666666666667\n",
       "\n",
       "\n"
      ],
      "text/plain": [
       "[1] 7.666667 7.666667 7.666667"
      ]
     },
     "metadata": {},
     "output_type": "display_data"
    },
    {
     "data": {
      "text/html": [
       "<style>\n",
       ".list-inline {list-style: none; margin:0; padding: 0}\n",
       ".list-inline>li {display: inline-block}\n",
       ".list-inline>li:not(:last-child)::after {content: \"\\00b7\"; padding: 0 .5ex}\n",
       "</style>\n",
       "<ol class=list-inline><li>3.66666666666667</li><li>3.66666666666667</li><li>3.66666666666667</li></ol>\n"
      ],
      "text/latex": [
       "\\begin{enumerate*}\n",
       "\\item 3.66666666666667\n",
       "\\item 3.66666666666667\n",
       "\\item 3.66666666666667\n",
       "\\end{enumerate*}\n"
      ],
      "text/markdown": [
       "1. 3.66666666666667\n",
       "2. 3.66666666666667\n",
       "3. 3.66666666666667\n",
       "\n",
       "\n"
      ],
      "text/plain": [
       "[1] 3.666667 3.666667 3.666667"
      ]
     },
     "metadata": {},
     "output_type": "display_data"
    },
    {
     "data": {
      "text/html": [
       "4.375"
      ],
      "text/latex": [
       "4.375"
      ],
      "text/markdown": [
       "4.375"
      ],
      "text/plain": [
       "[1] 4.375"
      ]
     },
     "metadata": {},
     "output_type": "display_data"
    },
    {
     "data": {
      "text/html": [
       "<style>\n",
       ".list-inline {list-style: none; margin:0; padding: 0}\n",
       ".list-inline>li {display: inline-block}\n",
       ".list-inline>li:not(:last-child)::after {content: \"\\00b7\"; padding: 0 .5ex}\n",
       "</style>\n",
       "<ol class=list-inline><li>0.5</li><li>0.5</li><li>7.66666666666667</li><li>7.66666666666667</li><li>7.66666666666667</li><li>3.66666666666667</li><li>3.66666666666667</li><li>3.66666666666667</li></ol>\n"
      ],
      "text/latex": [
       "\\begin{enumerate*}\n",
       "\\item 0.5\n",
       "\\item 0.5\n",
       "\\item 7.66666666666667\n",
       "\\item 7.66666666666667\n",
       "\\item 7.66666666666667\n",
       "\\item 3.66666666666667\n",
       "\\item 3.66666666666667\n",
       "\\item 3.66666666666667\n",
       "\\end{enumerate*}\n"
      ],
      "text/markdown": [
       "1. 0.5\n",
       "2. 0.5\n",
       "3. 7.66666666666667\n",
       "4. 7.66666666666667\n",
       "5. 7.66666666666667\n",
       "6. 3.66666666666667\n",
       "7. 3.66666666666667\n",
       "8. 3.66666666666667\n",
       "\n",
       "\n"
      ],
      "text/plain": [
       "[1] 0.500000 0.500000 7.666667 7.666667 7.666667 3.666667 3.666667 3.666667"
      ]
     },
     "metadata": {},
     "output_type": "display_data"
    },
    {
     "data": {
      "text/html": [
       "<style>\n",
       ".list-inline {list-style: none; margin:0; padding: 0}\n",
       ".list-inline>li {display: inline-block}\n",
       ".list-inline>li:not(:last-child)::after {content: \"\\00b7\"; padding: 0 .5ex}\n",
       "</style>\n",
       "<ol class=list-inline><li>-0.5</li><li>0.5</li><li>-1.66666666666667</li><li>0.333333333333333</li><li>1.33333333333333</li><li>1.33333333333333</li><li>0.333333333333333</li><li>-1.66666666666667</li></ol>\n"
      ],
      "text/latex": [
       "\\begin{enumerate*}\n",
       "\\item -0.5\n",
       "\\item 0.5\n",
       "\\item -1.66666666666667\n",
       "\\item 0.333333333333333\n",
       "\\item 1.33333333333333\n",
       "\\item 1.33333333333333\n",
       "\\item 0.333333333333333\n",
       "\\item -1.66666666666667\n",
       "\\end{enumerate*}\n"
      ],
      "text/markdown": [
       "1. -0.5\n",
       "2. 0.5\n",
       "3. -1.66666666666667\n",
       "4. 0.333333333333333\n",
       "5. 1.33333333333333\n",
       "6. 1.33333333333333\n",
       "7. 0.333333333333333\n",
       "8. -1.66666666666667\n",
       "\n",
       "\n"
      ],
      "text/plain": [
       "[1] -0.5000000  0.5000000 -1.6666667  0.3333333  1.3333333  1.3333333  0.3333333\n",
       "[8] -1.6666667"
      ]
     },
     "metadata": {},
     "output_type": "display_data"
    },
    {
     "data": {
      "text/html": [
       "<table class=\"dataframe\">\n",
       "<caption>A matrix: 1 x 1 of type dbl</caption>\n",
       "<tbody>\n",
       "\t<tr><td>227</td></tr>\n",
       "</tbody>\n",
       "</table>\n"
      ],
      "text/latex": [
       "A matrix: 1 x 1 of type dbl\n",
       "\\begin{tabular}{l}\n",
       "\t 227\\\\\n",
       "\\end{tabular}\n"
      ],
      "text/markdown": [
       "\n",
       "A matrix: 1 x 1 of type dbl\n",
       "\n",
       "| 227 |\n",
       "\n"
      ],
      "text/plain": [
       "     [,1]\n",
       "[1,] 227 "
      ]
     },
     "metadata": {},
     "output_type": "display_data"
    },
    {
     "data": {
      "text/html": [
       "153.125"
      ],
      "text/latex": [
       "153.125"
      ],
      "text/markdown": [
       "153.125"
      ],
      "text/plain": [
       "[1] 153.125"
      ]
     },
     "metadata": {},
     "output_type": "display_data"
    },
    {
     "data": {
      "text/html": [
       "<table class=\"dataframe\">\n",
       "<caption>A matrix: 1 x 1 of type dbl</caption>\n",
       "<tbody>\n",
       "\t<tr><td>64.04167</td></tr>\n",
       "</tbody>\n",
       "</table>\n"
      ],
      "text/latex": [
       "A matrix: 1 x 1 of type dbl\n",
       "\\begin{tabular}{l}\n",
       "\t 64.04167\\\\\n",
       "\\end{tabular}\n"
      ],
      "text/markdown": [
       "\n",
       "A matrix: 1 x 1 of type dbl\n",
       "\n",
       "| 64.04167 |\n",
       "\n"
      ],
      "text/plain": [
       "     [,1]    \n",
       "[1,] 64.04167"
      ]
     },
     "metadata": {},
     "output_type": "display_data"
    },
    {
     "data": {
      "text/html": [
       "<table class=\"dataframe\">\n",
       "<caption>A matrix: 1 x 1 of type dbl</caption>\n",
       "<tbody>\n",
       "\t<tr><td>9.833333</td></tr>\n",
       "</tbody>\n",
       "</table>\n"
      ],
      "text/latex": [
       "A matrix: 1 x 1 of type dbl\n",
       "\\begin{tabular}{l}\n",
       "\t 9.833333\\\\\n",
       "\\end{tabular}\n"
      ],
      "text/markdown": [
       "\n",
       "A matrix: 1 x 1 of type dbl\n",
       "\n",
       "| 9.833333 |\n",
       "\n"
      ],
      "text/plain": [
       "     [,1]    \n",
       "[1,] 9.833333"
      ]
     },
     "metadata": {},
     "output_type": "display_data"
    },
    {
     "data": {
      "text/html": [
       "<table class=\"dataframe\">\n",
       "<caption>A matrix: 1 x 1 of type dbl</caption>\n",
       "<tbody>\n",
       "\t<tr><td>73.875</td></tr>\n",
       "</tbody>\n",
       "</table>\n"
      ],
      "text/latex": [
       "A matrix: 1 x 1 of type dbl\n",
       "\\begin{tabular}{l}\n",
       "\t 73.875\\\\\n",
       "\\end{tabular}\n"
      ],
      "text/markdown": [
       "\n",
       "A matrix: 1 x 1 of type dbl\n",
       "\n",
       "| 73.875 |\n",
       "\n"
      ],
      "text/plain": [
       "     [,1]  \n",
       "[1,] 73.875"
      ]
     },
     "metadata": {},
     "output_type": "display_data"
    },
    {
     "data": {
      "text/html": [
       "<style>\n",
       ".list-inline {list-style: none; margin:0; padding: 0}\n",
       ".list-inline>li {display: inline-block}\n",
       ".list-inline>li:not(:last-child)::after {content: \"\\00b7\"; padding: 0 .5ex}\n",
       "</style>\n",
       "<ol class=list-inline><li>2</li><li>3</li><li>4</li><li>0</li><li>5</li><li>8</li><li>9</li><li>7</li></ol>\n"
      ],
      "text/latex": [
       "\\begin{enumerate*}\n",
       "\\item 2\n",
       "\\item 3\n",
       "\\item 4\n",
       "\\item 0\n",
       "\\item 5\n",
       "\\item 8\n",
       "\\item 9\n",
       "\\item 7\n",
       "\\end{enumerate*}\n"
      ],
      "text/markdown": [
       "1. 2\n",
       "2. 3\n",
       "3. 4\n",
       "4. 0\n",
       "5. 5\n",
       "6. 8\n",
       "7. 9\n",
       "8. 7\n",
       "\n",
       "\n"
      ],
      "text/plain": [
       "[1] 2 3 4 0 5 8 9 7"
      ]
     },
     "metadata": {},
     "output_type": "display_data"
    },
    {
     "data": {
      "text/html": [
       "<style>\n",
       ".list-inline {list-style: none; margin:0; padding: 0}\n",
       ".list-inline>li {display: inline-block}\n",
       ".list-inline>li:not(:last-child)::after {content: \"\\00b7\"; padding: 0 .5ex}\n",
       "</style>\n",
       "<ol class=list-inline><li>2.5</li><li>2.5</li></ol>\n"
      ],
      "text/latex": [
       "\\begin{enumerate*}\n",
       "\\item 2.5\n",
       "\\item 2.5\n",
       "\\end{enumerate*}\n"
      ],
      "text/markdown": [
       "1. 2.5\n",
       "2. 2.5\n",
       "\n",
       "\n"
      ],
      "text/plain": [
       "[1] 2.5 2.5"
      ]
     },
     "metadata": {},
     "output_type": "display_data"
    },
    {
     "data": {
      "text/html": [
       "<style>\n",
       ".list-inline {list-style: none; margin:0; padding: 0}\n",
       ".list-inline>li {display: inline-block}\n",
       ".list-inline>li:not(:last-child)::after {content: \"\\00b7\"; padding: 0 .5ex}\n",
       "</style>\n",
       "<ol class=list-inline><li>3</li><li>3</li><li>3</li></ol>\n"
      ],
      "text/latex": [
       "\\begin{enumerate*}\n",
       "\\item 3\n",
       "\\item 3\n",
       "\\item 3\n",
       "\\end{enumerate*}\n"
      ],
      "text/markdown": [
       "1. 3\n",
       "2. 3\n",
       "3. 3\n",
       "\n",
       "\n"
      ],
      "text/plain": [
       "[1] 3 3 3"
      ]
     },
     "metadata": {},
     "output_type": "display_data"
    },
    {
     "data": {
      "text/html": [
       "<style>\n",
       ".list-inline {list-style: none; margin:0; padding: 0}\n",
       ".list-inline>li {display: inline-block}\n",
       ".list-inline>li:not(:last-child)::after {content: \"\\00b7\"; padding: 0 .5ex}\n",
       "</style>\n",
       "<ol class=list-inline><li>8</li><li>8</li><li>8</li></ol>\n"
      ],
      "text/latex": [
       "\\begin{enumerate*}\n",
       "\\item 8\n",
       "\\item 8\n",
       "\\item 8\n",
       "\\end{enumerate*}\n"
      ],
      "text/markdown": [
       "1. 8\n",
       "2. 8\n",
       "3. 8\n",
       "\n",
       "\n"
      ],
      "text/plain": [
       "[1] 8 8 8"
      ]
     },
     "metadata": {},
     "output_type": "display_data"
    },
    {
     "data": {
      "text/html": [
       "4.75"
      ],
      "text/latex": [
       "4.75"
      ],
      "text/markdown": [
       "4.75"
      ],
      "text/plain": [
       "[1] 4.75"
      ]
     },
     "metadata": {},
     "output_type": "display_data"
    },
    {
     "data": {
      "text/html": [
       "<style>\n",
       ".list-inline {list-style: none; margin:0; padding: 0}\n",
       ".list-inline>li {display: inline-block}\n",
       ".list-inline>li:not(:last-child)::after {content: \"\\00b7\"; padding: 0 .5ex}\n",
       "</style>\n",
       "<ol class=list-inline><li>2.5</li><li>2.5</li><li>3</li><li>3</li><li>3</li><li>8</li><li>8</li><li>8</li></ol>\n"
      ],
      "text/latex": [
       "\\begin{enumerate*}\n",
       "\\item 2.5\n",
       "\\item 2.5\n",
       "\\item 3\n",
       "\\item 3\n",
       "\\item 3\n",
       "\\item 8\n",
       "\\item 8\n",
       "\\item 8\n",
       "\\end{enumerate*}\n"
      ],
      "text/markdown": [
       "1. 2.5\n",
       "2. 2.5\n",
       "3. 3\n",
       "4. 3\n",
       "5. 3\n",
       "6. 8\n",
       "7. 8\n",
       "8. 8\n",
       "\n",
       "\n"
      ],
      "text/plain": [
       "[1] 2.5 2.5 3.0 3.0 3.0 8.0 8.0 8.0"
      ]
     },
     "metadata": {},
     "output_type": "display_data"
    },
    {
     "data": {
      "text/html": [
       "<style>\n",
       ".list-inline {list-style: none; margin:0; padding: 0}\n",
       ".list-inline>li {display: inline-block}\n",
       ".list-inline>li:not(:last-child)::after {content: \"\\00b7\"; padding: 0 .5ex}\n",
       "</style>\n",
       "<ol class=list-inline><li>-0.5</li><li>0.5</li><li>1</li><li>-3</li><li>2</li><li>0</li><li>1</li><li>-1</li></ol>\n"
      ],
      "text/latex": [
       "\\begin{enumerate*}\n",
       "\\item -0.5\n",
       "\\item 0.5\n",
       "\\item 1\n",
       "\\item -3\n",
       "\\item 2\n",
       "\\item 0\n",
       "\\item 1\n",
       "\\item -1\n",
       "\\end{enumerate*}\n"
      ],
      "text/markdown": [
       "1. -0.5\n",
       "2. 0.5\n",
       "3. 1\n",
       "4. -3\n",
       "5. 2\n",
       "6. 0\n",
       "7. 1\n",
       "8. -1\n",
       "\n",
       "\n"
      ],
      "text/plain": [
       "[1] -0.5  0.5  1.0 -3.0  2.0  0.0  1.0 -1.0"
      ]
     },
     "metadata": {},
     "output_type": "display_data"
    },
    {
     "data": {
      "text/html": [
       "<table class=\"dataframe\">\n",
       "<caption>A matrix: 1 x 1 of type dbl</caption>\n",
       "<tbody>\n",
       "\t<tr><td>248</td></tr>\n",
       "</tbody>\n",
       "</table>\n"
      ],
      "text/latex": [
       "A matrix: 1 x 1 of type dbl\n",
       "\\begin{tabular}{l}\n",
       "\t 248\\\\\n",
       "\\end{tabular}\n"
      ],
      "text/markdown": [
       "\n",
       "A matrix: 1 x 1 of type dbl\n",
       "\n",
       "| 248 |\n",
       "\n"
      ],
      "text/plain": [
       "     [,1]\n",
       "[1,] 248 "
      ]
     },
     "metadata": {},
     "output_type": "display_data"
    },
    {
     "data": {
      "text/html": [
       "180.5"
      ],
      "text/latex": [
       "180.5"
      ],
      "text/markdown": [
       "180.5"
      ],
      "text/plain": [
       "[1] 180.5"
      ]
     },
     "metadata": {},
     "output_type": "display_data"
    },
    {
     "data": {
      "text/html": [
       "<table class=\"dataframe\">\n",
       "<caption>A matrix: 1 x 1 of type dbl</caption>\n",
       "<tbody>\n",
       "\t<tr><td>51</td></tr>\n",
       "</tbody>\n",
       "</table>\n"
      ],
      "text/latex": [
       "A matrix: 1 x 1 of type dbl\n",
       "\\begin{tabular}{l}\n",
       "\t 51\\\\\n",
       "\\end{tabular}\n"
      ],
      "text/markdown": [
       "\n",
       "A matrix: 1 x 1 of type dbl\n",
       "\n",
       "| 51 |\n",
       "\n"
      ],
      "text/plain": [
       "     [,1]\n",
       "[1,] 51  "
      ]
     },
     "metadata": {},
     "output_type": "display_data"
    },
    {
     "data": {
      "text/html": [
       "<table class=\"dataframe\">\n",
       "<caption>A matrix: 1 x 1 of type dbl</caption>\n",
       "<tbody>\n",
       "\t<tr><td>16.5</td></tr>\n",
       "</tbody>\n",
       "</table>\n"
      ],
      "text/latex": [
       "A matrix: 1 x 1 of type dbl\n",
       "\\begin{tabular}{l}\n",
       "\t 16.5\\\\\n",
       "\\end{tabular}\n"
      ],
      "text/markdown": [
       "\n",
       "A matrix: 1 x 1 of type dbl\n",
       "\n",
       "| 16.5 |\n",
       "\n"
      ],
      "text/plain": [
       "     [,1]\n",
       "[1,] 16.5"
      ]
     },
     "metadata": {},
     "output_type": "display_data"
    },
    {
     "data": {
      "text/html": [
       "<table class=\"dataframe\">\n",
       "<caption>A matrix: 1 x 1 of type dbl</caption>\n",
       "<tbody>\n",
       "\t<tr><td>67.5</td></tr>\n",
       "</tbody>\n",
       "</table>\n"
      ],
      "text/latex": [
       "A matrix: 1 x 1 of type dbl\n",
       "\\begin{tabular}{l}\n",
       "\t 67.5\\\\\n",
       "\\end{tabular}\n"
      ],
      "text/markdown": [
       "\n",
       "A matrix: 1 x 1 of type dbl\n",
       "\n",
       "| 67.5 |\n",
       "\n"
      ],
      "text/plain": [
       "     [,1]\n",
       "[1,] 67.5"
      ]
     },
     "metadata": {},
     "output_type": "display_data"
    },
    {
     "data": {
      "text/html": [
       "<table class=\"dataframe\">\n",
       "<caption>A matrix: 1 x 1 of type dbl</caption>\n",
       "<tbody>\n",
       "\t<tr><td>162</td></tr>\n",
       "</tbody>\n",
       "</table>\n"
      ],
      "text/latex": [
       "A matrix: 1 x 1 of type dbl\n",
       "\\begin{tabular}{l}\n",
       "\t 162\\\\\n",
       "\\end{tabular}\n"
      ],
      "text/markdown": [
       "\n",
       "A matrix: 1 x 1 of type dbl\n",
       "\n",
       "| 162 |\n",
       "\n"
      ],
      "text/plain": [
       "     [,1]\n",
       "[1,] 162 "
      ]
     },
     "metadata": {},
     "output_type": "display_data"
    },
    {
     "data": {
      "text/html": [
       "166.25"
      ],
      "text/latex": [
       "166.25"
      ],
      "text/markdown": [
       "166.25"
      ],
      "text/plain": [
       "[1] 166.25"
      ]
     },
     "metadata": {},
     "output_type": "display_data"
    },
    {
     "data": {
      "text/html": [
       "<table class=\"dataframe\">\n",
       "<caption>A matrix: 1 x 1 of type dbl</caption>\n",
       "<tbody>\n",
       "\t<tr><td>-4.25</td></tr>\n",
       "</tbody>\n",
       "</table>\n"
      ],
      "text/latex": [
       "A matrix: 1 x 1 of type dbl\n",
       "\\begin{tabular}{l}\n",
       "\t -4.25\\\\\n",
       "\\end{tabular}\n"
      ],
      "text/markdown": [
       "\n",
       "A matrix: 1 x 1 of type dbl\n",
       "\n",
       "| -4.25 |\n",
       "\n"
      ],
      "text/plain": [
       "     [,1] \n",
       "[1,] -4.25"
      ]
     },
     "metadata": {},
     "output_type": "display_data"
    },
    {
     "data": {
      "text/html": [
       "<table class=\"dataframe\">\n",
       "<caption>A matrix: 1 x 1 of type dbl</caption>\n",
       "<tbody>\n",
       "\t<tr><td>-6.75</td></tr>\n",
       "</tbody>\n",
       "</table>\n"
      ],
      "text/latex": [
       "A matrix: 1 x 1 of type dbl\n",
       "\\begin{tabular}{l}\n",
       "\t -6.75\\\\\n",
       "\\end{tabular}\n"
      ],
      "text/markdown": [
       "\n",
       "A matrix: 1 x 1 of type dbl\n",
       "\n",
       "| -6.75 |\n",
       "\n"
      ],
      "text/plain": [
       "     [,1] \n",
       "[1,] -6.75"
      ]
     },
     "metadata": {},
     "output_type": "display_data"
    },
    {
     "data": {
      "text/html": [
       "<table class=\"dataframe\">\n",
       "<caption>A matrix: 1 x 1 of type dbl</caption>\n",
       "<tbody>\n",
       "\t<tr><td>2.5</td></tr>\n",
       "</tbody>\n",
       "</table>\n"
      ],
      "text/latex": [
       "A matrix: 1 x 1 of type dbl\n",
       "\\begin{tabular}{l}\n",
       "\t 2.5\\\\\n",
       "\\end{tabular}\n"
      ],
      "text/markdown": [
       "\n",
       "A matrix: 1 x 1 of type dbl\n",
       "\n",
       "| 2.5 |\n",
       "\n"
      ],
      "text/plain": [
       "     [,1]\n",
       "[1,] 2.5 "
      ]
     },
     "metadata": {},
     "output_type": "display_data"
    },
    {
     "data": {
      "text/html": [
       "<table class=\"dataframe\">\n",
       "<caption>A matrix: 2 x 2 of type dbl</caption>\n",
       "<tbody>\n",
       "\t<tr><td>9.833333</td><td> 2.5</td></tr>\n",
       "\t<tr><td>2.500000</td><td>16.5</td></tr>\n",
       "</tbody>\n",
       "</table>\n"
      ],
      "text/latex": [
       "A matrix: 2 x 2 of type dbl\n",
       "\\begin{tabular}{ll}\n",
       "\t 9.833333 &  2.5\\\\\n",
       "\t 2.500000 & 16.5\\\\\n",
       "\\end{tabular}\n"
      ],
      "text/markdown": [
       "\n",
       "A matrix: 2 x 2 of type dbl\n",
       "\n",
       "| 9.833333 |  2.5 |\n",
       "| 2.500000 | 16.5 |\n",
       "\n"
      ],
      "text/plain": [
       "     [,1]     [,2]\n",
       "[1,] 9.833333  2.5\n",
       "[2,] 2.500000 16.5"
      ]
     },
     "metadata": {},
     "output_type": "display_data"
    },
    {
     "data": {
      "text/html": [
       "<table class=\"dataframe\">\n",
       "<caption>A matrix: 2 x 2 of type dbl</caption>\n",
       "<tbody>\n",
       "\t<tr><td>64.04167</td><td>-6.75</td></tr>\n",
       "\t<tr><td>-6.75000</td><td>51.00</td></tr>\n",
       "</tbody>\n",
       "</table>\n"
      ],
      "text/latex": [
       "A matrix: 2 x 2 of type dbl\n",
       "\\begin{tabular}{ll}\n",
       "\t 64.04167 & -6.75\\\\\n",
       "\t -6.75000 & 51.00\\\\\n",
       "\\end{tabular}\n"
      ],
      "text/markdown": [
       "\n",
       "A matrix: 2 x 2 of type dbl\n",
       "\n",
       "| 64.04167 | -6.75 |\n",
       "| -6.75000 | 51.00 |\n",
       "\n"
      ],
      "text/plain": [
       "     [,1]     [,2] \n",
       "[1,] 64.04167 -6.75\n",
       "[2,] -6.75000 51.00"
      ]
     },
     "metadata": {},
     "output_type": "display_data"
    },
    {
     "data": {
      "text/html": [
       "0.0313978061789273"
      ],
      "text/latex": [
       "0.0313978061789273"
      ],
      "text/markdown": [
       "0.0313978061789273"
      ],
      "text/plain": [
       "[1] 0.03139781"
      ]
     },
     "metadata": {},
     "output_type": "display_data"
    },
    {
     "data": {
      "text/html": [
       "<style>\n",
       ".list-inline {list-style: none; margin:0; padding: 0}\n",
       ".list-inline>li {display: inline-block}\n",
       ".list-inline>li:not(:last-child)::after {content: \"\\00b7\"; padding: 0 .5ex}\n",
       "</style>\n",
       "<ol class=list-inline><li>9.28704726212466</li><li>7.00607662295559</li></ol>\n"
      ],
      "text/latex": [
       "\\begin{enumerate*}\n",
       "\\item 9.28704726212466\n",
       "\\item 7.00607662295559\n",
       "\\end{enumerate*}\n"
      ],
      "text/markdown": [
       "1. 9.28704726212466\n",
       "2. 7.00607662295559\n",
       "\n",
       "\n"
      ],
      "text/plain": [
       "[1] 9.287047 7.006077"
      ]
     },
     "metadata": {},
     "output_type": "display_data"
    },
    {
     "data": {
      "text/plain": [
       "Call:\n",
       "   manova(lm(cbind(x1, x2) ~ ftr))\n",
       "\n",
       "Terms:\n",
       "                     ftr Residuals\n",
       "x1              64.04167   9.83333\n",
       "x2                  51.0      16.5\n",
       "Deg. of Freedom        2         5\n",
       "\n",
       "Residual standard errors: 1.402379 1.81659\n",
       "Estimated effects may be unbalanced"
      ]
     },
     "metadata": {},
     "output_type": "display_data"
    },
    {
     "data": {
      "text/plain": [
       "          Df Pillai approx F num Df den Df   Pr(>F)   \n",
       "ftr        2 1.6168   10.548      4     10 0.001302 **\n",
       "Residuals  5                                          \n",
       "---\n",
       "Signif. codes:  0 '***' 0.001 '**' 0.01 '*' 0.05 '.' 0.1 ' ' 1"
      ]
     },
     "metadata": {},
     "output_type": "display_data"
    },
    {
     "data": {
      "text/html": [
       "<table class=\"dataframe\">\n",
       "<caption>A anova: 3 x 6</caption>\n",
       "<thead>\n",
       "\t<tr><th></th><th scope=col>Df</th><th scope=col>Pillai</th><th scope=col>approx F</th><th scope=col>num Df</th><th scope=col>den Df</th><th scope=col>Pr(&gt;F)</th></tr>\n",
       "\t<tr><th></th><th scope=col>&lt;int&gt;</th><th scope=col>&lt;dbl&gt;</th><th scope=col>&lt;dbl&gt;</th><th scope=col>&lt;dbl&gt;</th><th scope=col>&lt;dbl&gt;</th><th scope=col>&lt;dbl&gt;</th></tr>\n",
       "</thead>\n",
       "<tbody>\n",
       "\t<tr><th scope=row>(Intercept)</th><td>1</td><td>0.9569801</td><td>44.49012</td><td> 2</td><td> 4</td><td>0.001850711</td></tr>\n",
       "\t<tr><th scope=row>ftr</th><td>2</td><td>1.6167983</td><td>10.54796</td><td> 4</td><td>10</td><td>0.001301936</td></tr>\n",
       "\t<tr><th scope=row>Residuals</th><td>5</td><td>       NA</td><td>      NA</td><td>NA</td><td>NA</td><td>         NA</td></tr>\n",
       "</tbody>\n",
       "</table>\n"
      ],
      "text/latex": [
       "A anova: 3 x 6\n",
       "\\begin{tabular}{r|llllll}\n",
       "  & Df & Pillai & approx F & num Df & den Df & Pr(>F)\\\\\n",
       "  & <int> & <dbl> & <dbl> & <dbl> & <dbl> & <dbl>\\\\\n",
       "\\hline\n",
       "\t(Intercept) & 1 & 0.9569801 & 44.49012 &  2 &  4 & 0.001850711\\\\\n",
       "\tftr & 2 & 1.6167983 & 10.54796 &  4 & 10 & 0.001301936\\\\\n",
       "\tResiduals & 5 &        NA &       NA & NA & NA &          NA\\\\\n",
       "\\end{tabular}\n"
      ],
      "text/markdown": [
       "\n",
       "A anova: 3 x 6\n",
       "\n",
       "| <!--/--> | Df &lt;int&gt; | Pillai &lt;dbl&gt; | approx F &lt;dbl&gt; | num Df &lt;dbl&gt; | den Df &lt;dbl&gt; | Pr(&gt;F) &lt;dbl&gt; |\n",
       "|---|---|---|---|---|---|---|\n",
       "| (Intercept) | 1 | 0.9569801 | 44.49012 |  2 |  4 | 0.001850711 |\n",
       "| ftr | 2 | 1.6167983 | 10.54796 |  4 | 10 | 0.001301936 |\n",
       "| Residuals | 5 |        NA |       NA | NA | NA |          NA |\n",
       "\n"
      ],
      "text/plain": [
       "            Df Pillai    approx F num Df den Df Pr(>F)     \n",
       "(Intercept) 1  0.9569801 44.49012  2      4     0.001850711\n",
       "ftr         2  1.6167983 10.54796  4     10     0.001301936\n",
       "Residuals   5         NA       NA NA     NA              NA"
      ]
     },
     "metadata": {},
     "output_type": "display_data"
    }
   ],
   "source": [
    "###Example 4.2\n",
    "\n",
    "#We first do the decompositions of the two variables separately\n",
    "#For the first variable\n",
    "x11=c(0,1)\n",
    "x12=c(6,8,9)\n",
    "x13=c(5,4,2)\n",
    "x1=c(x11,x12,x13)\n",
    "n1=length(x11)\n",
    "n2=length(x12)\n",
    "n3=length(x13)\n",
    "(xbar11=mean(x11)*c(rep(1,n1)))\n",
    "(xbar12=mean(x12)*c(rep(1,n2)))\n",
    "(xbar13=mean(x13)*c(rep(1,n3)))\n",
    "(x1bar=mean(x1))\n",
    "(x1bar1_3=c(xbar11,xbar12,xbar13))\n",
    "(x1-x1bar1_3)\n",
    "(SSobs1=t(x1)%*%x1)\n",
    "(SSmean1=(n1+n2+n3)*x1bar**2)\n",
    "(SStr1=t(x1bar1_3-x1bar)%*%(x1bar1_3-x1bar))#78\n",
    "(SSres1=t(x1-x1bar1_3)%*%(x1-x1bar1_3))#10\n",
    "(Totalcor1=SStr1+SSres1)#88\n",
    "#For the second variable\n",
    "#data as single column\n",
    " \n",
    "x21=c(2,3)\n",
    "x22=c(4,0, 5)\n",
    "x23=c(8,9,7)\n",
    "(x2=c(x21,x22,x23))\n",
    "(xbar21=mean(x21)*c(rep(1,n1)))\n",
    "(xbar22=mean(x22)*c(rep(1,n2)))\n",
    "(xbar23=mean(x23)*c(rep(1,n3)))\n",
    "(x2bar=mean(x2))\n",
    "(x2bar1_3=c(xbar21,xbar22,xbar23))\n",
    "(x2-x2bar1_3)\n",
    "(SSobs2=t(x2)%*%x2)\n",
    "(SSmean2=(n1+n2+n3)*x2bar**2)\n",
    "(SStr2=t(x2bar1_3-x2bar)%*%(x2bar1_3-x2bar))#48\n",
    "(SSres2=t(x2-x2bar1_3)%*%(x2-x2bar1_3))#24\n",
    "(Totalcor2=SStr2+SSres2)#72\n",
    "#Calculate the cross product terms\n",
    "(SCPobs12=t(x2)%*%x1)\n",
    "(SCPmean12=(n1+n2+n3)*x2bar*x1bar)\n",
    "(SCPobs12-SCPmean12) #-11\n",
    "(SCPtr12=t(x2bar1_3-x2bar)%*%(x1bar1_3-x1bar))#-12\n",
    "(SCPres12=t(x2-x2bar1_3)%*%(x1-x1bar1_3))#1\n",
    "\n",
    "#Form matrices\n",
    "W=matrix(c(SSres1,SCPres12,SCPres12,SSres2),2,2)\n",
    "B=matrix(c(SStr1,SCPtr12,SCPtr12,SStr2),2,2)\n",
    "W\n",
    "B\n",
    "Lamb=det(W)/det(B+W)\n",
    "Lamb\n",
    "g=3\n",
    "#transformed test statistic\n",
    "TLam=((1-sqrt(Lamb))/sqrt(Lamb))*(n1+n2+n3-g-1)/(g-1)\n",
    "crit=qf(.99,2*(g-1),2*(n1+n2+n3-g-1))\n",
    "c(TLam,crit)\n",
    "\n",
    "## Model fit using manova function in R\n",
    "#change data type to factor\n",
    "x11=c(0,1)\n",
    "x12=c(6,8,9)\n",
    "x13=c(5,4,2)\n",
    "x1=c(x11,x12,x13)\n",
    "x21=c(2,3)\n",
    "x22=c(4,0,5)\n",
    "x23=c(8,9,7)\n",
    "x2=c(x21,x22,x23)\n",
    "\n",
    "\n",
    "tr=c(1,1,2,2,2,3,3,3)\n",
    "ftr=factor(tr)\n",
    "(fit_ma=manova(lm(cbind(x1,x2)~ftr)))\n",
    "summary(fit_ma)\n",
    "anova(fit_ma)\n"
   ]
  },
  {
   "cell_type": "code",
   "execution_count": null,
   "metadata": {
    "vscode": {
     "languageId": "r"
    }
   },
   "outputs": [],
   "source": []
  }
 ],
 "metadata": {
  "kernelspec": {
   "display_name": "R",
   "language": "R",
   "name": "ir"
  },
  "language_info": {
   "codemirror_mode": "r",
   "file_extension": ".r",
   "mimetype": "text/x-r-source",
   "name": "R",
   "pygments_lexer": "r",
   "version": "4.3.2"
  }
 },
 "nbformat": 4,
 "nbformat_minor": 2
}
