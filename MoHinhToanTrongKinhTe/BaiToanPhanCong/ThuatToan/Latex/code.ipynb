{
 "cells": [
  {
   "cell_type": "code",
   "execution_count": 1,
   "metadata": {},
   "outputs": [],
   "source": [
    "# Thư viện cần thiết\n",
    "import numpy as np\n",
    "from scipy.optimize import linear_sum_assignment"
   ]
  },
  {
   "cell_type": "code",
   "execution_count": 2,
   "metadata": {},
   "outputs": [],
   "source": [
    "# Khai báp ma trận chi phí\n",
    "cost_matrix = np.array([\n",
    "    [18, 52, 30, 39],\n",
    "    [75, 55, 19, 48],\n",
    "    [35, 57, 8, 65],\n",
    "    [27, 25, 14, 16]\n",
    "])"
   ]
  },
  {
   "cell_type": "code",
   "execution_count": 3,
   "metadata": {},
   "outputs": [
    {
     "name": "stdout",
     "output_type": "stream",
     "text": [
      "Công việc được phân công:\n",
      "Nhân viên A thực hiện công việc 1 với thời gian 18 phút\n",
      "Nhân viên B thực hiện công việc 2 với thời gian 55 phút\n",
      "Nhân viên C thực hiện công việc 3 với thời gian 8 phút\n",
      "Nhân viên D thực hiện công việc 4 với thời gian 16 phút\n",
      "Tổng thời gian thực hiện công việc của cả 4 nhân viên là 97 phút\n"
     ]
    }
   ],
   "source": [
    "# Áp dụng thuật toán Hungarian\n",
    "row_ind, col_ind = linear_sum_assignment(cost_matrix)\n",
    "\n",
    "# In kết quả\n",
    "total_cost = cost_matrix[row_ind, col_ind].sum()\n",
    "print(\"Công việc được phân công:\")\n",
    "for r, c in zip(row_ind, col_ind):\n",
    "    print(f\"Nhân viên {chr(ord('A') + r)} thực hiện công việc {c + 1} với thời gian {cost_matrix[r, c]} phút\")\n",
    "print(f\"Tổng thời gian thực hiện công việc của cả 4 nhân viên là {total_cost} phút\")\n"
   ]
  }
 ],
 "metadata": {
  "kernelspec": {
   "display_name": "Python 3 (ipykernel)",
   "language": "python",
   "name": "python3"
  },
  "language_info": {
   "codemirror_mode": {
    "name": "ipython",
    "version": 3
   },
   "file_extension": ".py",
   "mimetype": "text/x-python",
   "name": "python",
   "nbconvert_exporter": "python",
   "pygments_lexer": "ipython3",
   "version": "3.9.11"
  }
 },
 "nbformat": 4,
 "nbformat_minor": 2
}
