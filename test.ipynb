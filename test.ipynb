{
 "cells": [
  {
   "cell_type": "code",
   "execution_count": 1,
   "metadata": {
    "vscode": {
     "languageId": "r"
    }
   },
   "outputs": [
    {
     "data": {
      "text/html": [
       "<pre class=language-r><code>function (p, df, ncp, lower.tail = TRUE, log.p = FALSE) \n",
       "{\n",
       "<span style=white-space:pre-wrap>    if (missing(ncp)) </span>\n",
       "<span style=white-space:pre-wrap>        .Call(C_qt, p, df, lower.tail, log.p)</span>\n",
       "<span style=white-space:pre-wrap>    else .Call(C_qnt, p, df, ncp, lower.tail, log.p)</span>\n",
       "}</code></pre>"
      ],
      "text/latex": [
       "\\begin{minted}{r}\n",
       "function (p, df, ncp, lower.tail = TRUE, log.p = FALSE) \n",
       "\\{\n",
       "    if (missing(ncp)) \n",
       "        .Call(C\\_qt, p, df, lower.tail, log.p)\n",
       "    else .Call(C\\_qnt, p, df, ncp, lower.tail, log.p)\n",
       "\\}\n",
       "\\end{minted}"
      ],
      "text/markdown": [
       "```r\n",
       "function (p, df, ncp, lower.tail = TRUE, log.p = FALSE) \n",
       "{\n",
       "    if (missing(ncp)) \n",
       "        .Call(C_qt, p, df, lower.tail, log.p)\n",
       "    else .Call(C_qnt, p, df, ncp, lower.tail, log.p)\n",
       "}\n",
       "```"
      ],
      "text/plain": [
       "function (p, df, ncp, lower.tail = TRUE, log.p = FALSE) \n",
       "{\n",
       "    if (missing(ncp)) \n",
       "        .Call(C_qt, p, df, lower.tail, log.p)\n",
       "    else .Call(C_qnt, p, df, ncp, lower.tail, log.p)\n",
       "}\n",
       "<bytecode: 0x13b35b708>\n",
       "<environment: namespace:stats>"
      ]
     },
     "metadata": {},
     "output_type": "display_data"
    }
   ],
   "source": [
    "qt"
   ]
  },
  {
   "cell_type": "code",
   "execution_count": 21,
   "metadata": {
    "vscode": {
     "languageId": "r"
    }
   },
   "outputs": [
    {
     "data": {
      "text/html": [
       "-1.83311293265624"
      ],
      "text/latex": [
       "-1.83311293265624"
      ],
      "text/markdown": [
       "-1.83311293265624"
      ],
      "text/plain": [
       "[1] -1.833113"
      ]
     },
     "metadata": {},
     "output_type": "display_data"
    }
   ],
   "source": [
    "qt(0.05, df = 9)"
   ]
  },
  {
   "cell_type": "code",
   "execution_count": 24,
   "metadata": {
    "vscode": {
     "languageId": "r"
    }
   },
   "outputs": [
    {
     "data": {
      "text/html": [
       "2.32634787404084"
      ],
      "text/latex": [
       "2.32634787404084"
      ],
      "text/markdown": [
       "2.32634787404084"
      ],
      "text/plain": [
       "[1] 2.326348"
      ]
     },
     "metadata": {},
     "output_type": "display_data"
    }
   ],
   "source": [
    "qnorm(0.99)"
   ]
  },
  {
   "cell_type": "code",
   "execution_count": 22,
   "metadata": {
    "vscode": {
     "languageId": "r"
    }
   },
   "outputs": [
    {
     "data": {
      "text/html": [
       "0.998555151119702"
      ],
      "text/latex": [
       "0.998555151119702"
      ],
      "text/markdown": [
       "0.998555151119702"
      ],
      "text/plain": [
       "[1] 0.9985552"
      ]
     },
     "metadata": {},
     "output_type": "display_data"
    }
   ],
   "source": [
    "pt(4.0489, df = 9)"
   ]
  },
  {
   "cell_type": "code",
   "execution_count": null,
   "metadata": {
    "vscode": {
     "languageId": "r"
    }
   },
   "outputs": [],
   "source": []
  },
  {
   "cell_type": "code",
   "execution_count": 10,
   "metadata": {
    "vscode": {
     "languageId": "r"
    }
   },
   "outputs": [
    {
     "name": "stdout",
     "output_type": "stream",
     "text": [
      "Normal                  package:stats                  R Documentation\n",
      "\n",
      "_\bT_\bh_\be _\bN_\bo_\br_\bm_\ba_\bl _\bD_\bi_\bs_\bt_\br_\bi_\bb_\bu_\bt_\bi_\bo_\bn\n",
      "\n",
      "_\bD_\be_\bs_\bc_\br_\bi_\bp_\bt_\bi_\bo_\bn:\n",
      "\n",
      "     Density, distribution function, quantile function and random\n",
      "     generation for the normal distribution with mean equal to 'mean'\n",
      "     and standard deviation equal to 'sd'.\n",
      "\n",
      "_\bU_\bs_\ba_\bg_\be:\n",
      "\n",
      "     dnorm(x, mean = 0, sd = 1, log = FALSE)\n",
      "     pnorm(q, mean = 0, sd = 1, lower.tail = TRUE, log.p = FALSE)\n",
      "     qnorm(p, mean = 0, sd = 1, lower.tail = TRUE, log.p = FALSE)\n",
      "     rnorm(n, mean = 0, sd = 1)\n",
      "     \n",
      "_\bA_\br_\bg_\bu_\bm_\be_\bn_\bt_\bs:\n",
      "\n",
      "    x, q: vector of quantiles.\n",
      "\n",
      "       p: vector of probabilities.\n",
      "\n",
      "       n: number of observations. If 'length(n) > 1', the length is\n",
      "          taken to be the number required.\n",
      "\n",
      "    mean: vector of means.\n",
      "\n",
      "      sd: vector of standard deviations.\n",
      "\n",
      "log, log.p: logical; if TRUE, probabilities p are given as log(p).\n",
      "\n",
      "lower.tail: logical; if TRUE (default), probabilities are P[X <= x]\n",
      "          otherwise, P[X > x].\n",
      "\n",
      "_\bD_\be_\bt_\ba_\bi_\bl_\bs:\n",
      "\n",
      "     If 'mean' or 'sd' are not specified they assume the default values\n",
      "     of '0' and '1', respectively.\n",
      "\n",
      "     The normal distribution has density\n",
      "\n",
      "           f(x) = 1/(sqrt(2 pi) sigma) e^-((x - mu)^2/(2 sigma^2))      \n",
      "     \n",
      "     where mu is the mean of the distribution and sigma the standard\n",
      "     deviation.\n",
      "\n",
      "_\bV_\ba_\bl_\bu_\be:\n",
      "\n",
      "     'dnorm' gives the density, 'pnorm' gives the distribution\n",
      "     function, 'qnorm' gives the quantile function, and 'rnorm'\n",
      "     generates random deviates.\n",
      "\n",
      "     The length of the result is determined by 'n' for 'rnorm', and is\n",
      "     the maximum of the lengths of the numerical arguments for the\n",
      "     other functions.\n",
      "\n",
      "     The numerical arguments other than 'n' are recycled to the length\n",
      "     of the result.  Only the first elements of the logical arguments\n",
      "     are used.\n",
      "\n",
      "     For 'sd = 0' this gives the limit as 'sd' decreases to 0, a point\n",
      "     mass at 'mu'.  'sd < 0' is an error and returns 'NaN'.\n",
      "\n",
      "_\bS_\bo_\bu_\br_\bc_\be:\n",
      "\n",
      "     For 'pnorm', based on\n",
      "\n",
      "     Cody, W. D. (1993) Algorithm 715: SPECFUN - A portable FORTRAN\n",
      "     package of special function routines and test drivers.  _ACM\n",
      "     Transactions on Mathematical Software_ *19*, 22-32.\n",
      "\n",
      "     For 'qnorm', the code is based on a C translation of\n",
      "\n",
      "     Wichura, M. J. (1988) Algorithm AS 241: The percentage points of\n",
      "     the normal distribution.  _Applied Statistics_, *37*, 477-484;\n",
      "     doi:10.2307/2347330 <https://doi.org/10.2307/2347330>.\n",
      "\n",
      "     which provides precise results up to about 16 digits for\n",
      "     'log.p=FALSE'.  For log scale probabilities in the extreme tails,\n",
      "     since R version 4.1.0, extensively since 4.3.0, asymptotic\n",
      "     expansions are used which have been derived and explored in\n",
      "\n",
      "     Maechler, M. (2022) Asymptotic tail formulas for gaussian\n",
      "     quantiles; 'DPQ' vignette\n",
      "     <https://CRAN.R-project.org/package=DPQ/vignettes/qnorm-asymp.pdf>.\n",
      "\n",
      "     For 'rnorm', see RNG for how to select the algorithm and for\n",
      "     references to the supplied methods.\n",
      "\n",
      "_\bR_\be_\bf_\be_\br_\be_\bn_\bc_\be_\bs:\n",
      "\n",
      "     Becker, R. A., Chambers, J. M. and Wilks, A. R. (1988) _The New S\n",
      "     Language_.  Wadsworth & Brooks/Cole.\n",
      "\n",
      "     Johnson, N. L., Kotz, S. and Balakrishnan, N. (1995) _Continuous\n",
      "     Univariate Distributions_, volume 1, chapter 13.  Wiley, New York.\n",
      "\n",
      "_\bS_\be_\be _\bA_\bl_\bs_\bo:\n",
      "\n",
      "     Distributions for other standard distributions, including 'dlnorm'\n",
      "     for the _Log_normal distribution.\n",
      "\n",
      "_\bE_\bx_\ba_\bm_\bp_\bl_\be_\bs:\n",
      "\n",
      "     require(graphics)\n",
      "     \n",
      "     dnorm(0) == 1/sqrt(2*pi)\n",
      "     dnorm(1) == exp(-1/2)/sqrt(2*pi)\n",
      "     dnorm(1) == 1/sqrt(2*pi*exp(1))\n",
      "     \n",
      "     ## Using \"log = TRUE\" for an extended range :\n",
      "     par(mfrow = c(2,1))\n",
      "     plot(function(x) dnorm(x, log = TRUE), -60, 50,\n",
      "          main = \"log { Normal density }\")\n",
      "     curve(log(dnorm(x)), add = TRUE, col = \"red\", lwd = 2)\n",
      "     mtext(\"dnorm(x, log=TRUE)\", adj = 0)\n",
      "     mtext(\"log(dnorm(x))\", col = \"red\", adj = 1)\n",
      "     \n",
      "     plot(function(x) pnorm(x, log.p = TRUE), -50, 10,\n",
      "          main = \"log { Normal Cumulative }\")\n",
      "     curve(log(pnorm(x)), add = TRUE, col = \"red\", lwd = 2)\n",
      "     mtext(\"pnorm(x, log=TRUE)\", adj = 0)\n",
      "     mtext(\"log(pnorm(x))\", col = \"red\", adj = 1)\n",
      "     \n",
      "     ## if you want the so-called 'error function'\n",
      "     erf <- function(x) 2 * pnorm(x * sqrt(2)) - 1\n",
      "     ## (see Abramowitz and Stegun 29.2.29)\n",
      "     ## and the so-called 'complementary error function'\n",
      "     erfc <- function(x) 2 * pnorm(x * sqrt(2), lower = FALSE)\n",
      "     ## and the inverses\n",
      "     erfinv <- function (x) qnorm((1 + x)/2)/sqrt(2)\n",
      "     erfcinv <- function (x) qnorm(x/2, lower = FALSE)/sqrt(2)\n",
      "     "
     ]
    }
   ],
   "source": [
    "?pnorm"
   ]
  },
  {
   "cell_type": "code",
   "execution_count": null,
   "metadata": {
    "vscode": {
     "languageId": "r"
    }
   },
   "outputs": [],
   "source": [
    "t.test(x = 106,y = 109,alternative = "
   ]
  },
  {
   "cell_type": "code",
   "execution_count": 16,
   "metadata": {
    "vscode": {
     "languageId": "r"
    }
   },
   "outputs": [
    {
     "name": "stdout",
     "output_type": "stream",
     "text": [
      "t.test                  package:stats                  R Documentation\n",
      "\n",
      "_\bS_\bt_\bu_\bd_\be_\bn_\bt'_\bs _\bt-_\bT_\be_\bs_\bt\n",
      "\n",
      "_\bD_\be_\bs_\bc_\br_\bi_\bp_\bt_\bi_\bo_\bn:\n",
      "\n",
      "     Performs one and two sample t-tests on vectors of data.\n",
      "\n",
      "_\bU_\bs_\ba_\bg_\be:\n",
      "\n",
      "     t.test(x, ...)\n",
      "     \n",
      "     ## Default S3 method:\n",
      "     t.test(x, y = NULL,\n",
      "            alternative = c(\"two.sided\", \"less\", \"greater\"),\n",
      "            mu = 0, paired = FALSE, var.equal = FALSE,\n",
      "            conf.level = 0.95, ...)\n",
      "     \n",
      "     ## S3 method for class 'formula'\n",
      "     t.test(formula, data, subset, na.action = na.pass, ...)\n",
      "     \n",
      "_\bA_\br_\bg_\bu_\bm_\be_\bn_\bt_\bs:\n",
      "\n",
      "       x: a (non-empty) numeric vector of data values.\n",
      "\n",
      "       y: an optional (non-empty) numeric vector of data values.\n",
      "\n",
      "alternative: a character string specifying the alternative hypothesis,\n",
      "          must be one of '\"two.sided\"' (default), '\"greater\"' or\n",
      "          '\"less\"'.  You can specify just the initial letter.\n",
      "\n",
      "      mu: a number indicating the true value of the mean (or difference\n",
      "          in means if you are performing a two sample test).\n",
      "\n",
      "  paired: a logical indicating whether you want a paired t-test.\n",
      "\n",
      "var.equal: a logical variable indicating whether to treat the two\n",
      "          variances as being equal. If 'TRUE' then the pooled variance\n",
      "          is used to estimate the variance otherwise the Welch (or\n",
      "          Satterthwaite) approximation to the degrees of freedom is\n",
      "          used.\n",
      "\n",
      "conf.level: confidence level of the interval.\n",
      "\n",
      " formula: a formula of the form 'lhs ~ rhs' where 'lhs' is a numeric\n",
      "          variable giving the data values and 'rhs' either '1' for a\n",
      "          one-sample or paired test or a factor with two levels giving\n",
      "          the corresponding groups. If 'lhs' is of class '\"Pair\"' and\n",
      "          'rhs' is '1', a paired test is done, see Examples.\n",
      "\n",
      "    data: an optional matrix or data frame (or similar: see\n",
      "          'model.frame') containing the variables in the formula\n",
      "          'formula'.  By default the variables are taken from\n",
      "          'environment(formula)'.\n",
      "\n",
      "  subset: an optional vector specifying a subset of observations to be\n",
      "          used.\n",
      "\n",
      "na.action: a function which indicates what should happen when the data\n",
      "          contain 'NA's.\n",
      "\n",
      "     ...: further arguments to be passed to or from methods.  For the\n",
      "          'formula' method, this includes arguments of the default\n",
      "          method, but not 'paired'.\n",
      "\n",
      "_\bD_\be_\bt_\ba_\bi_\bl_\bs:\n",
      "\n",
      "     'alternative = \"greater\"' is the alternative that 'x' has a larger\n",
      "     mean than 'y'. For the one-sample case: that the mean is positive.\n",
      "\n",
      "     If 'paired' is 'TRUE' then both 'x' and 'y' must be specified and\n",
      "     they must be the same length.  Missing values are silently removed\n",
      "     (in pairs if 'paired' is 'TRUE').  If 'var.equal' is 'TRUE' then\n",
      "     the pooled estimate of the variance is used.  By default, if\n",
      "     'var.equal' is 'FALSE' then the variance is estimated separately\n",
      "     for both groups and the Welch modification to the degrees of\n",
      "     freedom is used.\n",
      "\n",
      "     If the input data are effectively constant (compared to the larger\n",
      "     of the two means) an error is generated.\n",
      "\n",
      "_\bV_\ba_\bl_\bu_\be:\n",
      "\n",
      "     A list with class '\"htest\"' containing the following components:\n",
      "\n",
      "statistic: the value of the t-statistic.\n",
      "\n",
      "parameter: the degrees of freedom for the t-statistic.\n",
      "\n",
      " p.value: the p-value for the test.\n",
      "\n",
      "conf.int: a confidence interval for the mean appropriate to the\n",
      "          specified alternative hypothesis.\n",
      "\n",
      "estimate: the estimated mean or difference in means depending on\n",
      "          whether it was a one-sample test or a two-sample test.\n",
      "\n",
      "null.value: the specified hypothesized value of the mean or mean\n",
      "          difference depending on whether it was a one-sample test or a\n",
      "          two-sample test.\n",
      "\n",
      "  stderr: the standard error of the mean (difference), used as\n",
      "          denominator in the t-statistic formula.\n",
      "\n",
      "alternative: a character string describing the alternative hypothesis.\n",
      "\n",
      "  method: a character string indicating what type of t-test was\n",
      "          performed.\n",
      "\n",
      "data.name: a character string giving the name(s) of the data.\n",
      "\n",
      "_\bS_\be_\be _\bA_\bl_\bs_\bo:\n",
      "\n",
      "     'prop.test'\n",
      "\n",
      "_\bE_\bx_\ba_\bm_\bp_\bl_\be_\bs:\n",
      "\n",
      "     ## Two-sample t-test\n",
      "     t.test(1:10, y = c(7:20))      # P = .00001855\n",
      "     t.test(1:10, y = c(7:20, 200)) # P = .1245    -- NOT significant anymore\n",
      "     \n",
      "     ## Traditional interface\n",
      "     with(mtcars, t.test(mpg[am == 0], mpg[am == 1]))\n",
      "     \n",
      "     ## Formula interface\n",
      "     t.test(mpg ~ am, data = mtcars)\n",
      "     \n",
      "     ## One-sample t-test\n",
      "     ## Traditional interface\n",
      "     t.test(sleep$extra)\n",
      "     \n",
      "     ## Formula interface\n",
      "     t.test(extra ~ 1, data = sleep)\n",
      "     \n",
      "     ## Paired t-test\n",
      "     ## The sleep data is actually paired, so could have been in wide format:\n",
      "     sleep2 <- reshape(sleep, direction = \"wide\",\n",
      "                       idvar = \"ID\", timevar = \"group\")\n",
      "     \n",
      "     ## Traditional interface\n",
      "     t.test(sleep2$extra.1, sleep2$extra.2, paired = TRUE)\n",
      "     \n",
      "     ## Formula interface\n",
      "     t.test(Pair(extra.1, extra.2) ~ 1, data = sleep2)\n",
      "     "
     ]
    }
   ],
   "source": [
    "?t.test"
   ]
  },
  {
   "cell_type": "code",
   "execution_count": 17,
   "metadata": {
    "vscode": {
     "languageId": "r"
    }
   },
   "outputs": [
    {
     "name": "stdout",
     "output_type": "stream",
     "text": [
      "t = -0.9464439 \n",
      "df = 29 \n",
      "p-value = 0.3517422 \n"
     ]
    }
   ],
   "source": [
    "# Thông số\n",
    "mean1 <- 106\n",
    "sd1 <- 10\n",
    "n1 <- 17\n",
    "\n",
    "mean2 <- 109\n",
    "sd2 <- 7\n",
    "n2 <- 14\n",
    "\n",
    "# Tính t-statistic\n",
    "sp_squared <- ((n1 - 1) * sd1^2 + (n2 - 1) * sd2^2) / (n1 + n2 - 2) # Sai số chuẩn\n",
    "se <- sqrt(sp_squared * (1 / n1 + 1 / n2))\n",
    "# Giá trị t\n",
    "t_stat <- (mean1 - mean2) / se\n",
    "\n",
    "# Bậc tự do\n",
    "df <- n1 + n2 - 2\n",
    "t_stat <- (mean1 - mean2) / se       # Giá trị t\n",
    "\n",
    "# # Tính bậc tự do (phương sai khác nhau)\n",
    "# df <- (sd1^2 / n1 + sd2^2 / n2)^2 /\n",
    "#       ((sd1^2 / n1)^2 / (n1 - 1) + (sd2^2 / n2)^2 / (n2 - 1))\n",
    "\n",
    "# Tính p-value\n",
    "p_value <- 2 * pt(-abs(t_stat), df)\n",
    "\n",
    "# Kết quả\n",
    "cat(\"t =\", t_stat, \"\\n\")\n",
    "cat(\"df =\", df, \"\\n\")\n",
    "cat(\"p-value =\", p_value, \"\\n\")\n"
   ]
  },
  {
   "cell_type": "code",
   "execution_count": null,
   "metadata": {
    "vscode": {
     "languageId": "r"
    }
   },
   "outputs": [],
   "source": []
  }
 ],
 "metadata": {
  "kernelspec": {
   "display_name": "R",
   "language": "R",
   "name": "ir"
  },
  "language_info": {
   "codemirror_mode": "r",
   "file_extension": ".r",
   "mimetype": "text/x-r-source",
   "name": "R",
   "pygments_lexer": "r",
   "version": "4.4.1"
  }
 },
 "nbformat": 4,
 "nbformat_minor": 2
}
